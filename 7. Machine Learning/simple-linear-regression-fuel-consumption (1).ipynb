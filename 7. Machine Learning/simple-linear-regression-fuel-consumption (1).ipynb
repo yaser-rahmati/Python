{
 "cells": [
  {
   "cell_type": "markdown",
   "id": "438f088f",
   "metadata": {
    "papermill": {
     "duration": 0.022488,
     "end_time": "2022-01-09T22:14:18.853498",
     "exception": false,
     "start_time": "2022-01-09T22:14:18.831010",
     "status": "completed"
    },
    "tags": []
   },
   "source": [
    "## About this Notebook\n",
    "In this notebook, we learn how to use scikit-learn to implement simple linear regression. We [download](https://open.canada.ca/data/en/dataset/98f1a129-f628-4ce4-b24d-6f16bf24dd64) a dataset that is related to **fuel consumption** and **Carbon dioxide emission** of cars. Then, we split our data into **training** and **test** sets, create a model using training set, evaluate your model using test set, and finally use model to predict unknown value."
   ]
  },
  {
   "cell_type": "markdown",
   "id": "6c5e6a7e",
   "metadata": {
    "papermill": {
     "duration": 0.018879,
     "end_time": "2022-01-09T22:14:18.891975",
     "exception": false,
     "start_time": "2022-01-09T22:14:18.873096",
     "status": "completed"
    },
    "tags": []
   },
   "source": [
    "## Importing Needed packages"
   ]
  },
  {
   "cell_type": "code",
   "execution_count": 1,
   "id": "bd98e4b5",
   "metadata": {
    "execution": {
     "iopub.execute_input": "2022-01-09T22:14:18.936542Z",
     "iopub.status.busy": "2022-01-09T22:14:18.934748Z",
     "iopub.status.idle": "2022-01-09T22:14:18.951483Z",
     "shell.execute_reply": "2022-01-09T22:14:18.952028Z",
     "shell.execute_reply.started": "2021-11-07T20:32:46.964027Z"
    },
    "papermill": {
     "duration": 0.041171,
     "end_time": "2022-01-09T22:14:18.952324",
     "exception": false,
     "start_time": "2022-01-09T22:14:18.911153",
     "status": "completed"
    },
    "tags": []
   },
   "outputs": [],
   "source": [
    "import matplotlib.pyplot as plt\n",
    "import pandas as pd\n",
    "import pylab as pl\n",
    "import numpy as np\n",
    "%matplotlib inline"
   ]
  },
  {
   "cell_type": "markdown",
   "id": "9b5401c5",
   "metadata": {
    "papermill": {
     "duration": 0.019365,
     "end_time": "2022-01-09T22:14:18.991156",
     "exception": false,
     "start_time": "2022-01-09T22:14:18.971791",
     "status": "completed"
    },
    "tags": []
   },
   "source": [
    "## Reading the data"
   ]
  },
  {
   "cell_type": "code",
   "execution_count": 2,
   "id": "77475bbe",
   "metadata": {
    "execution": {
     "iopub.execute_input": "2022-01-09T22:14:19.034245Z",
     "iopub.status.busy": "2022-01-09T22:14:19.033257Z",
     "iopub.status.idle": "2022-01-09T22:14:19.084150Z",
     "shell.execute_reply": "2022-01-09T22:14:19.084662Z",
     "shell.execute_reply.started": "2021-11-07T20:32:47.128754Z"
    },
    "papermill": {
     "duration": 0.074195,
     "end_time": "2022-01-09T22:14:19.084842",
     "exception": false,
     "start_time": "2022-01-09T22:14:19.010647",
     "status": "completed"
    },
    "tags": []
   },
   "outputs": [
    {
     "data": {
      "text/html": [
       "<div>\n",
       "<style scoped>\n",
       "    .dataframe tbody tr th:only-of-type {\n",
       "        vertical-align: middle;\n",
       "    }\n",
       "\n",
       "    .dataframe tbody tr th {\n",
       "        vertical-align: top;\n",
       "    }\n",
       "\n",
       "    .dataframe thead th {\n",
       "        text-align: right;\n",
       "    }\n",
       "</style>\n",
       "<table border=\"1\" class=\"dataframe\">\n",
       "  <thead>\n",
       "    <tr style=\"text-align: right;\">\n",
       "      <th></th>\n",
       "      <th>MODELYEAR</th>\n",
       "      <th>MAKE</th>\n",
       "      <th>MODEL</th>\n",
       "      <th>VEHICLECLASS</th>\n",
       "      <th>ENGINESIZE</th>\n",
       "      <th>CYLINDERS</th>\n",
       "      <th>TRANSMISSION</th>\n",
       "      <th>FUELTYPE</th>\n",
       "      <th>FUELCONSUMPTION_CITY</th>\n",
       "      <th>FUELCONSUMPTION_HWY</th>\n",
       "      <th>FUELCONSUMPTION_COMB</th>\n",
       "      <th>FUELCONSUMPTION_COMB_MPG</th>\n",
       "      <th>CO2EMISSIONS</th>\n",
       "    </tr>\n",
       "  </thead>\n",
       "  <tbody>\n",
       "    <tr>\n",
       "      <th>0</th>\n",
       "      <td>2014</td>\n",
       "      <td>ACURA</td>\n",
       "      <td>ILX</td>\n",
       "      <td>COMPACT</td>\n",
       "      <td>2.0</td>\n",
       "      <td>4</td>\n",
       "      <td>AS5</td>\n",
       "      <td>Z</td>\n",
       "      <td>9.9</td>\n",
       "      <td>6.7</td>\n",
       "      <td>8.5</td>\n",
       "      <td>33</td>\n",
       "      <td>196</td>\n",
       "    </tr>\n",
       "    <tr>\n",
       "      <th>1</th>\n",
       "      <td>2014</td>\n",
       "      <td>ACURA</td>\n",
       "      <td>ILX</td>\n",
       "      <td>COMPACT</td>\n",
       "      <td>2.4</td>\n",
       "      <td>4</td>\n",
       "      <td>M6</td>\n",
       "      <td>Z</td>\n",
       "      <td>11.2</td>\n",
       "      <td>7.7</td>\n",
       "      <td>9.6</td>\n",
       "      <td>29</td>\n",
       "      <td>221</td>\n",
       "    </tr>\n",
       "    <tr>\n",
       "      <th>2</th>\n",
       "      <td>2014</td>\n",
       "      <td>ACURA</td>\n",
       "      <td>ILX HYBRID</td>\n",
       "      <td>COMPACT</td>\n",
       "      <td>1.5</td>\n",
       "      <td>4</td>\n",
       "      <td>AV7</td>\n",
       "      <td>Z</td>\n",
       "      <td>6.0</td>\n",
       "      <td>5.8</td>\n",
       "      <td>5.9</td>\n",
       "      <td>48</td>\n",
       "      <td>136</td>\n",
       "    </tr>\n",
       "    <tr>\n",
       "      <th>3</th>\n",
       "      <td>2014</td>\n",
       "      <td>ACURA</td>\n",
       "      <td>MDX 4WD</td>\n",
       "      <td>SUV - SMALL</td>\n",
       "      <td>3.5</td>\n",
       "      <td>6</td>\n",
       "      <td>AS6</td>\n",
       "      <td>Z</td>\n",
       "      <td>12.7</td>\n",
       "      <td>9.1</td>\n",
       "      <td>11.1</td>\n",
       "      <td>25</td>\n",
       "      <td>255</td>\n",
       "    </tr>\n",
       "    <tr>\n",
       "      <th>4</th>\n",
       "      <td>2014</td>\n",
       "      <td>ACURA</td>\n",
       "      <td>RDX AWD</td>\n",
       "      <td>SUV - SMALL</td>\n",
       "      <td>3.5</td>\n",
       "      <td>6</td>\n",
       "      <td>AS6</td>\n",
       "      <td>Z</td>\n",
       "      <td>12.1</td>\n",
       "      <td>8.7</td>\n",
       "      <td>10.6</td>\n",
       "      <td>27</td>\n",
       "      <td>244</td>\n",
       "    </tr>\n",
       "  </tbody>\n",
       "</table>\n",
       "</div>"
      ],
      "text/plain": [
       "   MODELYEAR   MAKE       MODEL VEHICLECLASS  ENGINESIZE  CYLINDERS  \\\n",
       "0       2014  ACURA         ILX      COMPACT         2.0          4   \n",
       "1       2014  ACURA         ILX      COMPACT         2.4          4   \n",
       "2       2014  ACURA  ILX HYBRID      COMPACT         1.5          4   \n",
       "3       2014  ACURA     MDX 4WD  SUV - SMALL         3.5          6   \n",
       "4       2014  ACURA     RDX AWD  SUV - SMALL         3.5          6   \n",
       "\n",
       "  TRANSMISSION FUELTYPE  FUELCONSUMPTION_CITY  FUELCONSUMPTION_HWY  \\\n",
       "0          AS5        Z                   9.9                  6.7   \n",
       "1           M6        Z                  11.2                  7.7   \n",
       "2          AV7        Z                   6.0                  5.8   \n",
       "3          AS6        Z                  12.7                  9.1   \n",
       "4          AS6        Z                  12.1                  8.7   \n",
       "\n",
       "   FUELCONSUMPTION_COMB  FUELCONSUMPTION_COMB_MPG  CO2EMISSIONS  \n",
       "0                   8.5                        33           196  \n",
       "1                   9.6                        29           221  \n",
       "2                   5.9                        48           136  \n",
       "3                  11.1                        25           255  \n",
       "4                  10.6                        27           244  "
      ]
     },
     "execution_count": 2,
     "metadata": {},
     "output_type": "execute_result"
    }
   ],
   "source": [
    "df = pd.read_csv(\"../input/fuelconsumptionco2/FuelConsumptionCo2.csv\")\n",
    "\n",
    "# take a look at the dataset\n",
    "df.head()"
   ]
  },
  {
   "cell_type": "markdown",
   "id": "8e8f9bab",
   "metadata": {
    "papermill": {
     "duration": 0.019687,
     "end_time": "2022-01-09T22:14:19.124954",
     "exception": false,
     "start_time": "2022-01-09T22:14:19.105267",
     "status": "completed"
    },
    "tags": []
   },
   "source": [
    "## Data Exploration\n",
    "Lets first have a descriptive exploration on our data."
   ]
  },
  {
   "cell_type": "code",
   "execution_count": 3,
   "id": "fd3c292d",
   "metadata": {
    "execution": {
     "iopub.execute_input": "2022-01-09T22:14:19.168618Z",
     "iopub.status.busy": "2022-01-09T22:14:19.167648Z",
     "iopub.status.idle": "2022-01-09T22:14:19.209768Z",
     "shell.execute_reply": "2022-01-09T22:14:19.209192Z",
     "shell.execute_reply.started": "2021-11-07T20:32:47.157408Z"
    },
    "papermill": {
     "duration": 0.065025,
     "end_time": "2022-01-09T22:14:19.209938",
     "exception": false,
     "start_time": "2022-01-09T22:14:19.144913",
     "status": "completed"
    },
    "tags": []
   },
   "outputs": [
    {
     "data": {
      "text/html": [
       "<div>\n",
       "<style scoped>\n",
       "    .dataframe tbody tr th:only-of-type {\n",
       "        vertical-align: middle;\n",
       "    }\n",
       "\n",
       "    .dataframe tbody tr th {\n",
       "        vertical-align: top;\n",
       "    }\n",
       "\n",
       "    .dataframe thead th {\n",
       "        text-align: right;\n",
       "    }\n",
       "</style>\n",
       "<table border=\"1\" class=\"dataframe\">\n",
       "  <thead>\n",
       "    <tr style=\"text-align: right;\">\n",
       "      <th></th>\n",
       "      <th>MODELYEAR</th>\n",
       "      <th>ENGINESIZE</th>\n",
       "      <th>CYLINDERS</th>\n",
       "      <th>FUELCONSUMPTION_CITY</th>\n",
       "      <th>FUELCONSUMPTION_HWY</th>\n",
       "      <th>FUELCONSUMPTION_COMB</th>\n",
       "      <th>FUELCONSUMPTION_COMB_MPG</th>\n",
       "      <th>CO2EMISSIONS</th>\n",
       "    </tr>\n",
       "  </thead>\n",
       "  <tbody>\n",
       "    <tr>\n",
       "      <th>count</th>\n",
       "      <td>1067.0</td>\n",
       "      <td>1067.000000</td>\n",
       "      <td>1067.000000</td>\n",
       "      <td>1067.000000</td>\n",
       "      <td>1067.000000</td>\n",
       "      <td>1067.000000</td>\n",
       "      <td>1067.000000</td>\n",
       "      <td>1067.000000</td>\n",
       "    </tr>\n",
       "    <tr>\n",
       "      <th>mean</th>\n",
       "      <td>2014.0</td>\n",
       "      <td>3.346298</td>\n",
       "      <td>5.794752</td>\n",
       "      <td>13.296532</td>\n",
       "      <td>9.474602</td>\n",
       "      <td>11.580881</td>\n",
       "      <td>26.441425</td>\n",
       "      <td>256.228679</td>\n",
       "    </tr>\n",
       "    <tr>\n",
       "      <th>std</th>\n",
       "      <td>0.0</td>\n",
       "      <td>1.415895</td>\n",
       "      <td>1.797447</td>\n",
       "      <td>4.101253</td>\n",
       "      <td>2.794510</td>\n",
       "      <td>3.485595</td>\n",
       "      <td>7.468702</td>\n",
       "      <td>63.372304</td>\n",
       "    </tr>\n",
       "    <tr>\n",
       "      <th>min</th>\n",
       "      <td>2014.0</td>\n",
       "      <td>1.000000</td>\n",
       "      <td>3.000000</td>\n",
       "      <td>4.600000</td>\n",
       "      <td>4.900000</td>\n",
       "      <td>4.700000</td>\n",
       "      <td>11.000000</td>\n",
       "      <td>108.000000</td>\n",
       "    </tr>\n",
       "    <tr>\n",
       "      <th>25%</th>\n",
       "      <td>2014.0</td>\n",
       "      <td>2.000000</td>\n",
       "      <td>4.000000</td>\n",
       "      <td>10.250000</td>\n",
       "      <td>7.500000</td>\n",
       "      <td>9.000000</td>\n",
       "      <td>21.000000</td>\n",
       "      <td>207.000000</td>\n",
       "    </tr>\n",
       "    <tr>\n",
       "      <th>50%</th>\n",
       "      <td>2014.0</td>\n",
       "      <td>3.400000</td>\n",
       "      <td>6.000000</td>\n",
       "      <td>12.600000</td>\n",
       "      <td>8.800000</td>\n",
       "      <td>10.900000</td>\n",
       "      <td>26.000000</td>\n",
       "      <td>251.000000</td>\n",
       "    </tr>\n",
       "    <tr>\n",
       "      <th>75%</th>\n",
       "      <td>2014.0</td>\n",
       "      <td>4.300000</td>\n",
       "      <td>8.000000</td>\n",
       "      <td>15.550000</td>\n",
       "      <td>10.850000</td>\n",
       "      <td>13.350000</td>\n",
       "      <td>31.000000</td>\n",
       "      <td>294.000000</td>\n",
       "    </tr>\n",
       "    <tr>\n",
       "      <th>max</th>\n",
       "      <td>2014.0</td>\n",
       "      <td>8.400000</td>\n",
       "      <td>12.000000</td>\n",
       "      <td>30.200000</td>\n",
       "      <td>20.500000</td>\n",
       "      <td>25.800000</td>\n",
       "      <td>60.000000</td>\n",
       "      <td>488.000000</td>\n",
       "    </tr>\n",
       "  </tbody>\n",
       "</table>\n",
       "</div>"
      ],
      "text/plain": [
       "       MODELYEAR   ENGINESIZE    CYLINDERS  FUELCONSUMPTION_CITY  \\\n",
       "count     1067.0  1067.000000  1067.000000           1067.000000   \n",
       "mean      2014.0     3.346298     5.794752             13.296532   \n",
       "std          0.0     1.415895     1.797447              4.101253   \n",
       "min       2014.0     1.000000     3.000000              4.600000   \n",
       "25%       2014.0     2.000000     4.000000             10.250000   \n",
       "50%       2014.0     3.400000     6.000000             12.600000   \n",
       "75%       2014.0     4.300000     8.000000             15.550000   \n",
       "max       2014.0     8.400000    12.000000             30.200000   \n",
       "\n",
       "       FUELCONSUMPTION_HWY  FUELCONSUMPTION_COMB  FUELCONSUMPTION_COMB_MPG  \\\n",
       "count          1067.000000           1067.000000               1067.000000   \n",
       "mean              9.474602             11.580881                 26.441425   \n",
       "std               2.794510              3.485595                  7.468702   \n",
       "min               4.900000              4.700000                 11.000000   \n",
       "25%               7.500000              9.000000                 21.000000   \n",
       "50%               8.800000             10.900000                 26.000000   \n",
       "75%              10.850000             13.350000                 31.000000   \n",
       "max              20.500000             25.800000                 60.000000   \n",
       "\n",
       "       CO2EMISSIONS  \n",
       "count   1067.000000  \n",
       "mean     256.228679  \n",
       "std       63.372304  \n",
       "min      108.000000  \n",
       "25%      207.000000  \n",
       "50%      251.000000  \n",
       "75%      294.000000  \n",
       "max      488.000000  "
      ]
     },
     "execution_count": 3,
     "metadata": {},
     "output_type": "execute_result"
    }
   ],
   "source": [
    "# summarize the data\n",
    "df.describe()"
   ]
  },
  {
   "cell_type": "markdown",
   "id": "bbcd19da",
   "metadata": {
    "papermill": {
     "duration": 0.021505,
     "end_time": "2022-01-09T22:14:19.252407",
     "exception": false,
     "start_time": "2022-01-09T22:14:19.230902",
     "status": "completed"
    },
    "tags": []
   },
   "source": [
    "Lets select some features to explore more."
   ]
  },
  {
   "cell_type": "code",
   "execution_count": 4,
   "id": "f326fa03",
   "metadata": {
    "execution": {
     "iopub.execute_input": "2022-01-09T22:14:19.301261Z",
     "iopub.status.busy": "2022-01-09T22:14:19.300469Z",
     "iopub.status.idle": "2022-01-09T22:14:19.309673Z",
     "shell.execute_reply": "2022-01-09T22:14:19.310178Z",
     "shell.execute_reply.started": "2021-11-07T20:32:47.275104Z"
    },
    "papermill": {
     "duration": 0.036525,
     "end_time": "2022-01-09T22:14:19.310390",
     "exception": false,
     "start_time": "2022-01-09T22:14:19.273865",
     "status": "completed"
    },
    "tags": []
   },
   "outputs": [
    {
     "data": {
      "text/html": [
       "<div>\n",
       "<style scoped>\n",
       "    .dataframe tbody tr th:only-of-type {\n",
       "        vertical-align: middle;\n",
       "    }\n",
       "\n",
       "    .dataframe tbody tr th {\n",
       "        vertical-align: top;\n",
       "    }\n",
       "\n",
       "    .dataframe thead th {\n",
       "        text-align: right;\n",
       "    }\n",
       "</style>\n",
       "<table border=\"1\" class=\"dataframe\">\n",
       "  <thead>\n",
       "    <tr style=\"text-align: right;\">\n",
       "      <th></th>\n",
       "      <th>ENGINESIZE</th>\n",
       "      <th>CYLINDERS</th>\n",
       "      <th>FUELCONSUMPTION_COMB</th>\n",
       "      <th>CO2EMISSIONS</th>\n",
       "    </tr>\n",
       "  </thead>\n",
       "  <tbody>\n",
       "    <tr>\n",
       "      <th>0</th>\n",
       "      <td>2.0</td>\n",
       "      <td>4</td>\n",
       "      <td>8.5</td>\n",
       "      <td>196</td>\n",
       "    </tr>\n",
       "    <tr>\n",
       "      <th>1</th>\n",
       "      <td>2.4</td>\n",
       "      <td>4</td>\n",
       "      <td>9.6</td>\n",
       "      <td>221</td>\n",
       "    </tr>\n",
       "    <tr>\n",
       "      <th>2</th>\n",
       "      <td>1.5</td>\n",
       "      <td>4</td>\n",
       "      <td>5.9</td>\n",
       "      <td>136</td>\n",
       "    </tr>\n",
       "    <tr>\n",
       "      <th>3</th>\n",
       "      <td>3.5</td>\n",
       "      <td>6</td>\n",
       "      <td>11.1</td>\n",
       "      <td>255</td>\n",
       "    </tr>\n",
       "    <tr>\n",
       "      <th>4</th>\n",
       "      <td>3.5</td>\n",
       "      <td>6</td>\n",
       "      <td>10.6</td>\n",
       "      <td>244</td>\n",
       "    </tr>\n",
       "    <tr>\n",
       "      <th>5</th>\n",
       "      <td>3.5</td>\n",
       "      <td>6</td>\n",
       "      <td>10.0</td>\n",
       "      <td>230</td>\n",
       "    </tr>\n",
       "    <tr>\n",
       "      <th>6</th>\n",
       "      <td>3.5</td>\n",
       "      <td>6</td>\n",
       "      <td>10.1</td>\n",
       "      <td>232</td>\n",
       "    </tr>\n",
       "    <tr>\n",
       "      <th>7</th>\n",
       "      <td>3.7</td>\n",
       "      <td>6</td>\n",
       "      <td>11.1</td>\n",
       "      <td>255</td>\n",
       "    </tr>\n",
       "    <tr>\n",
       "      <th>8</th>\n",
       "      <td>3.7</td>\n",
       "      <td>6</td>\n",
       "      <td>11.6</td>\n",
       "      <td>267</td>\n",
       "    </tr>\n",
       "  </tbody>\n",
       "</table>\n",
       "</div>"
      ],
      "text/plain": [
       "   ENGINESIZE  CYLINDERS  FUELCONSUMPTION_COMB  CO2EMISSIONS\n",
       "0         2.0          4                   8.5           196\n",
       "1         2.4          4                   9.6           221\n",
       "2         1.5          4                   5.9           136\n",
       "3         3.5          6                  11.1           255\n",
       "4         3.5          6                  10.6           244\n",
       "5         3.5          6                  10.0           230\n",
       "6         3.5          6                  10.1           232\n",
       "7         3.7          6                  11.1           255\n",
       "8         3.7          6                  11.6           267"
      ]
     },
     "execution_count": 4,
     "metadata": {},
     "output_type": "execute_result"
    }
   ],
   "source": [
    "cdf = df[['ENGINESIZE','CYLINDERS','FUELCONSUMPTION_COMB','CO2EMISSIONS']]\n",
    "cdf.head(9)"
   ]
  },
  {
   "cell_type": "markdown",
   "id": "d554ec3c",
   "metadata": {
    "papermill": {
     "duration": 0.020831,
     "end_time": "2022-01-09T22:14:19.352587",
     "exception": false,
     "start_time": "2022-01-09T22:14:19.331756",
     "status": "completed"
    },
    "tags": []
   },
   "source": [
    "We can plot each of these features:"
   ]
  },
  {
   "cell_type": "code",
   "execution_count": 5,
   "id": "6ac33ce3",
   "metadata": {
    "execution": {
     "iopub.execute_input": "2022-01-09T22:14:19.399106Z",
     "iopub.status.busy": "2022-01-09T22:14:19.398388Z",
     "iopub.status.idle": "2022-01-09T22:14:19.934361Z",
     "shell.execute_reply": "2022-01-09T22:14:19.933569Z",
     "shell.execute_reply.started": "2021-11-07T20:32:47.289616Z"
    },
    "papermill": {
     "duration": 0.560672,
     "end_time": "2022-01-09T22:14:19.934543",
     "exception": false,
     "start_time": "2022-01-09T22:14:19.373871",
     "status": "completed"
    },
    "tags": []
   },
   "outputs": [
    {
     "data": {
      "image/png": "[encoded data removed]",
      "text/plain": [
       "<Figure size 432x288 with 4 Axes>"
      ]
     },
     "metadata": {
      "needs_background": "light"
     },
     "output_type": "display_data"
    }
   ],
   "source": [
    "viz = cdf[['CYLINDERS','ENGINESIZE','CO2EMISSIONS','FUELCONSUMPTION_COMB']]\n",
    "viz.hist()\n",
    "plt.show()"
   ]
  },
  {
   "cell_type": "markdown",
   "id": "9a04ca0e",
   "metadata": {
    "papermill": {
     "duration": 0.022249,
     "end_time": "2022-01-09T22:14:19.979095",
     "exception": false,
     "start_time": "2022-01-09T22:14:19.956846",
     "status": "completed"
    },
    "tags": []
   },
   "source": [
    "Now, lets plot each of these features vs the Emission, to see how linear is their relation:"
   ]
  },
  {
   "cell_type": "code",
   "execution_count": 6,
   "id": "4a816b46",
   "metadata": {
    "execution": {
     "iopub.execute_input": "2022-01-09T22:14:20.051902Z",
     "iopub.status.busy": "2022-01-09T22:14:20.039377Z",
     "iopub.status.idle": "2022-01-09T22:14:20.249011Z",
     "shell.execute_reply": "2022-01-09T22:14:20.248398Z",
     "shell.execute_reply.started": "2021-11-07T20:32:47.798932Z"
    },
    "papermill": {
     "duration": 0.247461,
     "end_time": "2022-01-09T22:14:20.249171",
     "exception": false,
     "start_time": "2022-01-09T22:14:20.001710",
     "status": "completed"
    },
    "tags": []
   },
   "outputs": [
    {
     "data": {
      "image/png": "[encoded data removed]",
      "text/plain": [
       "<Figure size 432x288 with 1 Axes>"
      ]
     },
     "metadata": {
      "needs_background": "light"
     },
     "output_type": "display_data"
    }
   ],
   "source": [
    "plt.scatter(cdf.FUELCONSUMPTION_COMB, cdf.CO2EMISSIONS,  color='blue')\n",
    "plt.xlabel(\"FUELCONSUMPTION_COMB\")\n",
    "plt.ylabel(\"Emission\")\n",
    "plt.show()"
   ]
  },
  {
   "cell_type": "code",
   "execution_count": 7,
   "id": "eb4899d8",
   "metadata": {
    "execution": {
     "iopub.execute_input": "2022-01-09T22:14:20.327281Z",
     "iopub.status.busy": "2022-01-09T22:14:20.326291Z",
     "iopub.status.idle": "2022-01-09T22:14:20.527459Z",
     "shell.execute_reply": "2022-01-09T22:14:20.526868Z",
     "shell.execute_reply.started": "2021-11-07T20:32:48.016763Z"
    },
    "papermill": {
     "duration": 0.255258,
     "end_time": "2022-01-09T22:14:20.527641",
     "exception": false,
     "start_time": "2022-01-09T22:14:20.272383",
     "status": "completed"
    },
    "tags": []
   },
   "outputs": [
    {
     "data": {
      "image/png": "[encoded data removed]",
      "text/plain": [
       "<Figure size 432x288 with 1 Axes>"
      ]
     },
     "metadata": {
      "needs_background": "light"
     },
     "output_type": "display_data"
    }
   ],
   "source": [
    "plt.scatter(cdf.ENGINESIZE, cdf.CO2EMISSIONS,  color='blue')\n",
    "plt.xlabel(\"Engine size\")\n",
    "plt.ylabel(\"Emission\")\n",
    "plt.show()"
   ]
  },
  {
   "cell_type": "markdown",
   "id": "cb94a34e",
   "metadata": {
    "papermill": {
     "duration": 0.024762,
     "end_time": "2022-01-09T22:14:20.576794",
     "exception": false,
     "start_time": "2022-01-09T22:14:20.552032",
     "status": "completed"
    },
    "tags": []
   },
   "source": [
    "## Practice\n",
    "plot **CYLINDER** vs the Emission, to see how linear is their relation:"
   ]
  },
  {
   "cell_type": "code",
   "execution_count": 8,
   "id": "32efc609",
   "metadata": {
    "execution": {
     "iopub.execute_input": "2022-01-09T22:14:20.628995Z",
     "iopub.status.busy": "2022-01-09T22:14:20.628204Z",
     "iopub.status.idle": "2022-01-09T22:14:20.827489Z",
     "shell.execute_reply": "2022-01-09T22:14:20.828045Z",
     "shell.execute_reply.started": "2021-11-07T20:32:48.246455Z"
    },
    "papermill": {
     "duration": 0.227127,
     "end_time": "2022-01-09T22:14:20.828254",
     "exception": false,
     "start_time": "2022-01-09T22:14:20.601127",
     "status": "completed"
    },
    "tags": []
   },
   "outputs": [
    {
     "data": {
      "image/png": "[encoded data removed]",
      "text/plain": [
       "<Figure size 432x288 with 1 Axes>"
      ]
     },
     "metadata": {
      "needs_background": "light"
     },
     "output_type": "display_data"
    }
   ],
   "source": [
    "# write your code here\n",
    "plt.scatter(cdf.CYLINDERS, cdf.CO2EMISSIONS,  color='blue')\n",
    "plt.show()"
   ]
  },
  {
   "cell_type": "markdown",
   "id": "3b9188f2",
   "metadata": {
    "papermill": {
     "duration": 0.02428,
     "end_time": "2022-01-09T22:14:20.877282",
     "exception": false,
     "start_time": "2022-01-09T22:14:20.853002",
     "status": "completed"
    },
    "tags": []
   },
   "source": [
    "## Creating train and test dataset\n",
    "Train/Test Split involves splitting the dataset into training and testing sets respectively, which are mutually exclusive. After which, you train with the training set and test with the testing set. This will provide a more accurate evaluation on out-of-sample accuracy because the testing dataset is not part of the dataset that have been used to train the data. It is more realistic for real world problems.\n",
    "\n",
    "This means that we know the outcome of each data point in this dataset, making it great to test with! And since this data has not been used to train the model, the model has no knowledge of the outcome of these data points. So, in essence, it is truly an out-of-sample testing.\n",
    "\n",
    "Lets split our dataset into train and test sets, 80% of the entire data for training, and the 20% for testing. We create a mask to select random rows using **np.random.rand()** function:"
   ]
  },
  {
   "cell_type": "code",
   "execution_count": 9,
   "id": "15de7936",
   "metadata": {
    "execution": {
     "iopub.execute_input": "2022-01-09T22:14:20.929577Z",
     "iopub.status.busy": "2022-01-09T22:14:20.928803Z",
     "iopub.status.idle": "2022-01-09T22:14:20.933030Z",
     "shell.execute_reply": "2022-01-09T22:14:20.933603Z",
     "shell.execute_reply.started": "2021-11-07T20:32:48.413419Z"
    },
    "papermill": {
     "duration": 0.032083,
     "end_time": "2022-01-09T22:14:20.933801",
     "exception": false,
     "start_time": "2022-01-09T22:14:20.901718",
     "status": "completed"
    },
    "tags": []
   },
   "outputs": [],
   "source": [
    "msk = np.random.rand(len(df)) < 0.8\n",
    "train = cdf[msk]\n",
    "test = cdf[~msk]"
   ]
  },
  {
   "cell_type": "markdown",
   "id": "e5e10551",
   "metadata": {
    "papermill": {
     "duration": 0.024267,
     "end_time": "2022-01-09T22:14:20.982831",
     "exception": false,
     "start_time": "2022-01-09T22:14:20.958564",
     "status": "completed"
    },
    "tags": []
   },
   "source": [
    "## Simple Regression Model\n",
    "Linear Regression fits a linear model with coefficients  θ=(θ1,...,θn)  to minimize the 'residual sum of squares' between the independent x in the dataset, and the dependent y by the linear approximation."
   ]
  },
  {
   "cell_type": "markdown",
   "id": "8dfc5fe3",
   "metadata": {
    "papermill": {
     "duration": 0.024104,
     "end_time": "2022-01-09T22:14:21.031433",
     "exception": false,
     "start_time": "2022-01-09T22:14:21.007329",
     "status": "completed"
    },
    "tags": []
   },
   "source": [
    "## Train data distribution"
   ]
  },
  {
   "cell_type": "code",
   "execution_count": 10,
   "id": "25af99bd",
   "metadata": {
    "execution": {
     "iopub.execute_input": "2022-01-09T22:14:21.088639Z",
     "iopub.status.busy": "2022-01-09T22:14:21.087875Z",
     "iopub.status.idle": "2022-01-09T22:14:21.304205Z",
     "shell.execute_reply": "2022-01-09T22:14:21.304767Z",
     "shell.execute_reply.started": "2021-11-07T20:32:48.421416Z"
    },
    "papermill": {
     "duration": 0.248944,
     "end_time": "2022-01-09T22:14:21.304971",
     "exception": false,
     "start_time": "2022-01-09T22:14:21.056027",
     "status": "completed"
    },
    "tags": []
   },
   "outputs": [
    {
     "data": {
      "image/png": "[encoded data removed]",
      "text/plain": [
       "<Figure size 432x288 with 1 Axes>"
      ]
     },
     "metadata": {
      "needs_background": "light"
     },
     "output_type": "display_data"
    }
   ],
   "source": [
    "plt.scatter(train.ENGINESIZE, train.CO2EMISSIONS,  color='blue')\n",
    "plt.xlabel(\"Engine size\")\n",
    "plt.ylabel(\"Emission\")\n",
    "plt.show()"
   ]
  },
  {
   "cell_type": "markdown",
   "id": "8737ec66",
   "metadata": {
    "papermill": {
     "duration": 0.025336,
     "end_time": "2022-01-09T22:14:21.356090",
     "exception": false,
     "start_time": "2022-01-09T22:14:21.330754",
     "status": "completed"
    },
    "tags": []
   },
   "source": [
    "## Modeling\n",
    "Using sklearn package to model data."
   ]
  },
  {
   "cell_type": "code",
   "execution_count": 11,
   "id": "52960b65",
   "metadata": {
    "execution": {
     "iopub.execute_input": "2022-01-09T22:14:21.411294Z",
     "iopub.status.busy": "2022-01-09T22:14:21.410572Z",
     "iopub.status.idle": "2022-01-09T22:14:22.484264Z",
     "shell.execute_reply": "2022-01-09T22:14:22.483519Z",
     "shell.execute_reply.started": "2021-11-07T20:32:48.608682Z"
    },
    "papermill": {
     "duration": 1.102325,
     "end_time": "2022-01-09T22:14:22.484447",
     "exception": false,
     "start_time": "2022-01-09T22:14:21.382122",
     "status": "completed"
    },
    "tags": []
   },
   "outputs": [
    {
     "name": "stdout",
     "output_type": "stream",
     "text": [
      "Coefficients:  [[39.68535012]]\n",
      "Intercept:  [123.59445971]\n"
     ]
    }
   ],
   "source": [
    "from sklearn import linear_model\n",
    "regr = linear_model.LinearRegression()\n",
    "train_x = np.asanyarray(train[['ENGINESIZE']])\n",
    "train_y = np.asanyarray(train[['CO2EMISSIONS']])\n",
    "regr.fit (train_x, train_y)\n",
    "# The coefficients\n",
    "print ('Coefficients: ', regr.coef_)\n",
    "print ('Intercept: ',regr.intercept_)"
   ]
  },
  {
   "cell_type": "markdown",
   "id": "7ea7b012",
   "metadata": {
    "papermill": {
     "duration": 0.025253,
     "end_time": "2022-01-09T22:14:22.535802",
     "exception": false,
     "start_time": "2022-01-09T22:14:22.510549",
     "status": "completed"
    },
    "tags": []
   },
   "source": [
    "As mentioned before, Coefficient and Intercept in the simple linear regression, are the parameters of the fit line. Given that it is a simple linear regression, with only 2 parameters, and knowing that the parameters are the intercept and slope of the line, sklearn can estimate them directly from our data. Notice that all of the data must be available to traverse and calculate the parameters."
   ]
  },
  {
   "cell_type": "markdown",
   "id": "7a9c79ed",
   "metadata": {
    "papermill": {
     "duration": 0.025381,
     "end_time": "2022-01-09T22:14:22.588008",
     "exception": false,
     "start_time": "2022-01-09T22:14:22.562627",
     "status": "completed"
    },
    "tags": []
   },
   "source": []
  },
  {
   "cell_type": "markdown",
   "id": "2f13eb45",
   "metadata": {
    "papermill": {
     "duration": 0.025852,
     "end_time": "2022-01-09T22:14:22.639738",
     "exception": false,
     "start_time": "2022-01-09T22:14:22.613886",
     "status": "completed"
    },
    "tags": []
   },
   "source": [
    "## Plot outputs\n",
    "we can plot the fit line over the data:"
   ]
  },
  {
   "cell_type": "code",
   "execution_count": 12,
   "id": "720730bc",
   "metadata": {
    "execution": {
     "iopub.execute_input": "2022-01-09T22:14:22.695290Z",
     "iopub.status.busy": "2022-01-09T22:14:22.694641Z",
     "iopub.status.idle": "2022-01-09T22:14:22.952110Z",
     "shell.execute_reply": "2022-01-09T22:14:22.952782Z",
     "shell.execute_reply.started": "2021-11-07T20:32:48.621764Z"
    },
    "papermill": {
     "duration": 0.287446,
     "end_time": "2022-01-09T22:14:22.952991",
     "exception": false,
     "start_time": "2022-01-09T22:14:22.665545",
     "status": "completed"
    },
    "tags": []
   },
   "outputs": [
    {
     "data": {
      "text/plain": [
       "Text(0, 0.5, 'Emission')"
      ]
     },
     "execution_count": 12,
     "metadata": {},
     "output_type": "execute_result"
    },
    {
     "data": {
      "image/png": "[encoded data removed]",
      "text/plain": [
       "<Figure size 432x288 with 1 Axes>"
      ]
     },
     "metadata": {
      "needs_background": "light"
     },
     "output_type": "display_data"
    }
   ],
   "source": [
    "plt.scatter(train.ENGINESIZE, train.CO2EMISSIONS,  color='blue')\n",
    "plt.plot(train_x, regr.coef_[0][0]*train_x + regr.intercept_[0], '-r')\n",
    "plt.xlabel(\"Engine size\")\n",
    "plt.ylabel(\"Emission\")"
   ]
  },
  {
   "cell_type": "markdown",
   "id": "20b28e8a",
   "metadata": {
    "papermill": {
     "duration": 0.026223,
     "end_time": "2022-01-09T22:14:23.005986",
     "exception": false,
     "start_time": "2022-01-09T22:14:22.979763",
     "status": "completed"
    },
    "tags": []
   },
   "source": [
    "## Evaluation\n",
    "we compare the actual values and predicted values to calculate the accuracy of a regression model. Evaluation metrics provide a key role in the development of a model, as it provides insight to areas that require improvement.\n",
    "\n",
    "There are different model evaluation metrics, lets use MSE here to calculate the accuracy of our model based on the test set:\n",
    "\n",
    "* Mean absolute error: It is the mean of the absolute value of the errors. This is the easiest of the metrics to understand since it’s just average error.\n",
    "* Mean Squared Error (MSE): Mean Squared Error (MSE) is the mean of the squared error. It’s more popular than Mean absolute error because the focus is geared more towards large errors. This is due to the squared term exponentially increasing larger errors in comparison to smaller ones.\n",
    "* Root Mean Squared Error (RMSE): This is the square root of the Mean Square Error.\n",
    "* R-squared is not error, but is a popular metric for accuracy of your model. It represents how close the data are to the fitted regression line. The higher the R-squared, the better the model fits your data. Best possible score is 1.0 and it can be negative (because the model can be arbitrarily worse)."
   ]
  },
  {
   "cell_type": "code",
   "execution_count": 13,
   "id": "1ebc18e2",
   "metadata": {
    "execution": {
     "iopub.execute_input": "2022-01-09T22:14:23.065525Z",
     "iopub.status.busy": "2022-01-09T22:14:23.064817Z",
     "iopub.status.idle": "2022-01-09T22:14:23.076453Z",
     "shell.execute_reply": "2022-01-09T22:14:23.075869Z",
     "shell.execute_reply.started": "2021-11-07T20:32:48.854969Z"
    },
    "papermill": {
     "duration": 0.042493,
     "end_time": "2022-01-09T22:14:23.076609",
     "exception": false,
     "start_time": "2022-01-09T22:14:23.034116",
     "status": "completed"
    },
    "tags": []
   },
   "outputs": [
    {
     "name": "stdout",
     "output_type": "stream",
     "text": [
      "Mean absolute error: 21.77\n",
      "Residual sum of squares (MSE): 795.07\n",
      "R2-score: 0.74\n"
     ]
    }
   ],
   "source": [
    "from sklearn.metrics import r2_score\n",
    "\n",
    "test_x = np.asanyarray(test[['ENGINESIZE']])\n",
    "test_y = np.asanyarray(test[['CO2EMISSIONS']])\n",
    "test_y_hat = regr.predict(test_x)\n",
    "\n",
    "print(\"Mean absolute error: %.2f\" % np.mean(np.absolute(test_y_hat - test_y)))\n",
    "print(\"Residual sum of squares (MSE): %.2f\" % np.mean((test_y_hat - test_y) ** 2))\n",
    "print(\"R2-score: %.2f\" % r2_score(test_y_hat , test_y) )"
   ]
  },
  {
   "cell_type": "markdown",
   "id": "de9e9c4e",
   "metadata": {
    "papermill": {
     "duration": 0.026649,
     "end_time": "2022-01-09T22:14:23.130650",
     "exception": false,
     "start_time": "2022-01-09T22:14:23.104001",
     "status": "completed"
    },
    "tags": []
   },
   "source": []
  }
 ],
 "metadata": {
  "kernelspec": {
   "display_name": "Python 3",
   "language": "python",
   "name": "python3"
  },
  "language_info": {
   "codemirror_mode": {
    "name": "ipython",
    "version": 3
   },
   "file_extension": ".py",
   "mimetype": "text/x-python",
   "name": "python",
   "nbconvert_exporter": "python",
   "pygments_lexer": "ipython3",
   "version": "3.7.10"
  },
  "papermill": {
   "default_parameters": {},
   "duration": 14.647532,
   "end_time": "2022-01-09T22:14:23.970743",
   "environment_variables": {},
   "exception": null,
   "input_path": "__notebook__.ipynb",
   "output_path": "__notebook__.ipynb",
   "parameters": {},
   "start_time": "2022-01-09T22:14:09.323211",
   "version": "2.3.3"
  }
 },
 "nbformat": 4,
 "nbformat_minor": 5
}
