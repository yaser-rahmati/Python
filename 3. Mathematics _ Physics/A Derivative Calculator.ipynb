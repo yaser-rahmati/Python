{
 "cells": [
  {
   "cell_type": "markdown",
   "id": "09c732ed-3246-4db5-9400-f716e15cb135",
   "metadata": {},
   "source": [
    "## A Derivative Calculator\n",
    "\n",
    "Let’s write a derivative calculator program, which will **take a function** as input and then print the result of differentiating it **with respect to the variable specified**:"
   ]
  },
  {
   "cell_type": "code",
   "execution_count": 2,
   "id": "88ebb759-eb70-4e5f-9e83-719b5bea387e",
   "metadata": {},
   "outputs": [
    {
     "name": "stdin",
     "output_type": "stream",
     "text": [
      "Enter a function:  tan(x) + 5**x + 2*x**2 + y**2\n",
      "Enter the variable to differentiate with respect to:  x\n"
     ]
    },
    {
     "name": "stdout",
     "output_type": "stream",
     "text": [
      " x                   2       \n",
      "5 ⋅log(5) + 4⋅x + tan (x) + 1\n"
     ]
    }
   ],
   "source": [
    "from sympy import Symbol, Derivative, sympify, pprint\n",
    "from sympy import Derivative, Symbol\n",
    "\n",
    "var = Symbol('var')\n",
    "\n",
    "# Example : Enter desire function: tan(x) + 5**x + 2*x**2 + y**2\n",
    "f = input('Enter a function: ')\n",
    "f = sympify(f)\n",
    "\n",
    "# Example : Enter the variable to differentiate with respect to: x\n",
    "var = input('Enter the variable to differentiate with respect to: ')\n",
    "\n",
    "d = Derivative(f, var).doit()\n",
    "pprint(d)"
   ]
  }
 ],
 "metadata": {
  "kernelspec": {
   "display_name": "Python 3 (ipykernel)",
   "language": "python",
   "name": "python3"
  },
  "language_info": {
   "codemirror_mode": {
    "name": "ipython",
    "version": 3
   },
   "file_extension": ".py",
   "mimetype": "text/x-python",
   "name": "python",
   "nbconvert_exporter": "python",
   "pygments_lexer": "ipython3",
   "version": "3.8.6"
  }
 },
 "nbformat": 4,
 "nbformat_minor": 5
}
