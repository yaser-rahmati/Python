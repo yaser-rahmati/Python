{
 "cells": [
  {
   "cell_type": "markdown",
   "id": "a87c3029-77f3-42d5-bf60-d01d42a916ed",
   "metadata": {},
   "source": [
    "## Continuous Compound Interest\n",
    "\n",
    "Say you’ve deposited $1 in a bank. This deposit is the principal, which pays you **interest**—in this case, interest of 100 percent that compounds $n$ times yearly for $1$ year. The amount you’ll get at the end of $1$ year is given by:\n",
    "\n",
    "$$ A=(1+\\frac{1}{n})^{n} $$\n",
    "\n",
    "The prominent mathematician **James Bernoulli** discovered that as the value of $n$ increases, the term $(1 + 1/n)^n$ approaches the value of $e$—the constant that we can verify by finding the limit of the function:"
   ]
  },
  {
   "cell_type": "code",
   "execution_count": 1,
   "id": "5896938c-a46c-4f76-a714-2cb1ff55fffe",
   "metadata": {},
   "outputs": [
    {
     "data": {
      "text/latex": [
       "$\\displaystyle e$"
      ],
      "text/plain": [
       "E"
      ]
     },
     "execution_count": 1,
     "metadata": {},
     "output_type": "execute_result"
    }
   ],
   "source": [
    "from sympy import Limit, Symbol, S\n",
    "n = Symbol('n')\n",
    "Limit((1+1/n)**n, n, S.Infinity).doit()"
   ]
  },
  {
   "cell_type": "markdown",
   "id": "d99f70c7-175d-41b8-9c13-d7e0d1ff32c0",
   "metadata": {},
   "source": [
    "Let's plot the function $f(x)=(1+1/x)^x$ as below."
   ]
  },
  {
   "cell_type": "code",
   "execution_count": 6,
   "id": "6ba50533-5242-4869-a70f-c8e9ee36d288",
   "metadata": {},
   "outputs": [
    {
     "data": {
      "image/png": "[encoded data removed]",
      "text/plain": [
       "<Figure size 432x288 with 1 Axes>"
      ]
     },
     "metadata": {
      "needs_background": "light"
     },
     "output_type": "display_data"
    },
    {
     "data": {
      "text/plain": [
       "<sympy.plotting.plot.Plot at 0x1c77b2b0>"
      ]
     },
     "execution_count": 6,
     "metadata": {},
     "output_type": "execute_result"
    }
   ],
   "source": [
    "from sympy.plotting import plot\n",
    "from sympy import Symbol\n",
    "\n",
    "x = Symbol('x')\n",
    "plot((1+1/x)**x , (x, 0, 50))"
   ]
  },
  {
   "cell_type": "markdown",
   "id": "d55aba95-92bb-4894-9741-21b076bfe3b5",
   "metadata": {},
   "source": [
    "For any principal amount $p$, any rate $r$, and any number of years $t$, the compound interest is calculated using the formula:\n",
    "\n",
    "$$ A=P(1+\\frac{r}{n})^{nt} $$\n",
    "\n",
    "Assuming continuous compounding interest, we can find the expression for $A$ as follows:"
   ]
  },
  {
   "cell_type": "code",
   "execution_count": 7,
   "id": "70689d99-474e-4b76-a0ed-221cc6aab049",
   "metadata": {},
   "outputs": [
    {
     "data": {
      "text/latex": [
       "$\\displaystyle p e^{r t}$"
      ],
      "text/plain": [
       "p*exp(r*t)"
      ]
     },
     "execution_count": 7,
     "metadata": {},
     "output_type": "execute_result"
    }
   ],
   "source": [
    "from sympy import Symbol, Limit, S\n",
    "p = Symbol('p', positive=True)\n",
    "r = Symbol('r', positive=True)\n",
    "t = Symbol('t', positive=True)\n",
    "Limit(p*(1+r/n)**(n*t), n, S.Infinity).doit()"
   ]
  }
 ],
 "metadata": {
  "kernelspec": {
   "display_name": "Python 3 (ipykernel)",
   "language": "python",
   "name": "python3"
  },
  "language_info": {
   "codemirror_mode": {
    "name": "ipython",
    "version": 3
   },
   "file_extension": ".py",
   "mimetype": "text/x-python",
   "name": "python",
   "nbconvert_exporter": "python",
   "pygments_lexer": "ipython3",
   "version": "3.8.6"
  }
 },
 "nbformat": 4,
 "nbformat_minor": 5
}
