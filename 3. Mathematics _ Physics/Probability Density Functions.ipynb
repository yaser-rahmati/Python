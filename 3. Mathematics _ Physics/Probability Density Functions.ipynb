{
 "cells": [
  {
   "cell_type": "markdown",
   "id": "75813259-c602-4dbc-b160-33d9de333c36",
   "metadata": {},
   "source": [
    "## Probability Density Functions\n",
    "\n",
    "Let’s consider a fictional class of students and their grades on a math quiz. Each student can earn a grade between $0$ and $20$, including fractional grades. If we treat the grade as a random event, the grade itself is a continuous random variable because it can have any value between $0$ and $20$. If we want to calculate the probability of a student getting a grade between $11$ and $12$. To see why, let’s consider the formula, assuming uniform probability:\n",
    "\n",
    "$$ P(11<x<20) = \\frac{n(E)}{n(S)} $$\n",
    "\n",
    "where $E$ is the set of all grades possible between $11$ and $12$ and $S$ is the set of all possible grades—that is, all real numbers between $1$ and $20$. By our definition of the preceding problem, $n(E)$ is infinite because it’s impossible to count all possible real numbers between $11$ and $12$; the same is true for $n(S)$. Thus, we need a different approach to calculate the probability.\n",
    "\n",
    "A probability density function, $P(x)$, expresses the probability of the value of a random variable being close to $x$, an arbitrary value. It can also tell us the probability of $x$ falling within an interval. That is, if we knew the probability density function representing the probability of grades in our fictional class, calculating $P(11 < x < 12)$ would give us the probability that we’re looking for. But how do we calculate this? It turns out that this probability is the area enclosed by the graph of the probability density function and the x-axis between the points $x = 11$ and $x = 12$. Assuming an arbitrary probability density function, Figure below demonstrates this.\n",
    "\n",
    "![alt text](https://4137876152-files.gitbook.io/~/files/v0/b/gitbook-x-prod.appspot.com/o/spaces%2F-M2g31CUvdCruJm660Ot%2Fuploads%2FDAT141YRNY9o8fZNs8SS%2F967.png?alt=media&token=edc6f7ae-43e5-44a8-809c-5d535215cfc5 \"Probability Density Functions\")\n",
    "\n",
    "We already know that this area is equal to the value of the integral,\n",
    "\n",
    "$$ \\int_{a=11}^{b=12}p(x)dx $$\n",
    "\n",
    "thus, we have an easy way to find the probability of the grade lying between 11 and 12. With the math out of the way, we can now find out what the probability is. The probability density function is the function:\n",
    "\n",
    "$$ \\frac{1}{\\sqrt{2\\pi }}e^{-\\frac{(x-10)^2}{2}} $$\n",
    "\n",
    "where $x$ is the grade obtained. This function has been chosen so that the probability of the grade being close to $10$ (either greater or less than) is high but then decreases sharply.\n",
    "\n",
    "Now, let’s calculate the integral:\n",
    "\n",
    "$$ \\int_{11}^{12}p(x)dx $$\n",
    "\n",
    "with $p(x)$ being the preceding function:"
   ]
  },
  {
   "cell_type": "code",
   "execution_count": 4,
   "id": "e08a4a88-519d-4228-a121-177ae14335a6",
   "metadata": {},
   "outputs": [
    {
     "data": {
      "text/latex": [
       "$\\displaystyle 0.135905121983278$"
      ],
      "text/plain": [
       "0.135905121983278"
      ]
     },
     "execution_count": 4,
     "metadata": {},
     "output_type": "execute_result"
    }
   ],
   "source": [
    "from sympy import Symbol, exp, sqrt, pi, Integral, S\n",
    "x = Symbol('x')\n",
    "p = exp(-(x - 10)**2/2)/sqrt(2*pi)\n",
    "Integral(p, (x, 11, 12)).doit().evalf()"
   ]
  },
  {
   "cell_type": "markdown",
   "id": "457b597b-5931-469f-a4a2-733f6a687e6c",
   "metadata": {},
   "source": [
    "We create the Integral object for the function, with p representing the probability density function that specifies that we want to calculate the definite integral between $11$ and $12$ on the x-axis. We evaluate the function using doit() and find the numerical value using $evalf()$. Thus, the probability that a grade lies between $11$ and $12$ is close to $0.14$.\n",
    "\n",
    "Hence, even if a and b are very large values such that they tend to $−∞$ and $∞$, respectively, the value of the integral will still be $1$, as we can verify ourselves:"
   ]
  },
  {
   "cell_type": "code",
   "execution_count": 3,
   "id": "950dfb64-4488-48d0-becd-d003158ff53a",
   "metadata": {},
   "outputs": [
    {
     "data": {
      "text/latex": [
       "$\\displaystyle 1.0$"
      ],
      "text/plain": [
       "1.00000000000000"
      ]
     },
     "execution_count": 3,
     "metadata": {},
     "output_type": "execute_result"
    }
   ],
   "source": [
    "Integral(p, (x, S.NegativeInfinity, S.Infinity)).doit().evalf()"
   ]
  }
 ],
 "metadata": {
  "kernelspec": {
   "display_name": "Python 3 (ipykernel)",
   "language": "python",
   "name": "python3"
  },
  "language_info": {
   "codemirror_mode": {
    "name": "ipython",
    "version": 3
   },
   "file_extension": ".py",
   "mimetype": "text/x-python",
   "name": "python",
   "nbconvert_exporter": "python",
   "pygments_lexer": "ipython3",
   "version": "3.8.6"
  }
 },
 "nbformat": 4,
 "nbformat_minor": 5
}
