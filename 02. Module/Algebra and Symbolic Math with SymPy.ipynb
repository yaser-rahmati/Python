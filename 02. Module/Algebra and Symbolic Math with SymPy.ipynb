{
 "cells": [
  {
   "cell_type": "markdown",
   "id": "6d2358cd-8806-41c1-8371-a6ae290d1217",
   "metadata": {},
   "source": [
    "## Defining Symbols and Symbolic Operations\n",
    "\n",
    "*Symbols* form the building blocks of *symbolic math*. The term symbol is just a general name for the $xs$, $ys$, $as$, and $bs$ you use in equations and algebraic expressions. Creating and using symbols will let us do things differently than before. Consider the following statements:"
   ]
  },
  {
   "cell_type": "code",
   "execution_count": 1,
   "id": "a8fd96e1-b1ae-4c30-a676-cb5f7576c877",
   "metadata": {},
   "outputs": [
    {
     "data": {
      "text/plain": [
       "3"
      ]
     },
     "execution_count": 1,
     "metadata": {},
     "output_type": "execute_result"
    }
   ],
   "source": [
    "x = 1\n",
    "x+x+1"
   ]
  },
  {
   "cell_type": "markdown",
   "id": "4343820a-a8e8-4c31-a767-b0db44c5e8e0",
   "metadata": {},
   "source": [
    "Here we create a label, $x$, to refer to the number 1. Then, when we write the statement $x + x + 1$, it’s evaluated for us, and the result is 3. \n",
    "\n",
    "* What if you wanted the result in terms of the symbol $x$? That is, if instead of 3, you wanted Python to tell you that the result is $2x + 1$? \n",
    "\n",
    "You couldn’t just write $x + x + 1$ without the statement $x = 1$ because Python wouldn’t know what $x$ refers to. \n",
    "\n",
    "**SymPy** lets us write programs where we can express and evaluate mathematical expressions in terms of such symbols. To use a symbol in your program, you have to create an object of the Symbol class, like this:"
   ]
  },
  {
   "cell_type": "code",
   "execution_count": 3,
   "id": "89abf087-db58-45c7-810a-91299296f5f2",
   "metadata": {},
   "outputs": [],
   "source": [
    "from sympy import Symbol\n",
    "x = Symbol('x')"
   ]
  },
  {
   "cell_type": "markdown",
   "id": "af6c245c-2dc9-4604-aedc-38ba05c5e9fa",
   "metadata": {},
   "source": [
    "* First, we import the *Symbol class* from the *sympy library*. \n",
    "* Then, we **create an object** of this class passing $'x'$ as a parameter. \n",
    "* Note that this $'x'$ is written as a string within quotes. \n",
    "\n",
    "We can now define expressions and equations in terms of this symbol. For example, here’s the earlier expression:"
   ]
  },
  {
   "cell_type": "code",
   "execution_count": 4,
   "id": "e6b4761c-a14c-4229-993e-822910dbcfb8",
   "metadata": {},
   "outputs": [
    {
     "data": {
      "text/latex": [
       "$\\displaystyle 2 x + 1$"
      ],
      "text/plain": [
       "2*x + 1"
      ]
     },
     "execution_count": 4,
     "metadata": {},
     "output_type": "execute_result"
    }
   ],
   "source": [
    "x + x + 1"
   ]
  },
  {
   "cell_type": "markdown",
   "id": "f3679e51-f0f9-4b4c-a60f-0aa891a6b317",
   "metadata": {},
   "source": [
    "In the statement $x = Symbol('x')$, the $x$ on the left side is the Python label. So, it’s perfectly fine to write the preceding statements as follows:"
   ]
  },
  {
   "cell_type": "code",
   "execution_count": 6,
   "id": "4ba68228-cf98-4d6d-a065-eb2dff255b07",
   "metadata": {},
   "outputs": [
    {
     "data": {
      "text/latex": [
       "$\\displaystyle 2 x + 1$"
      ],
      "text/plain": [
       "2*x + 1"
      ]
     },
     "execution_count": 6,
     "metadata": {},
     "output_type": "execute_result"
    }
   ],
   "source": [
    "a = Symbol('x')\n",
    "a + a + 1"
   ]
  },
  {
   "cell_type": "markdown",
   "id": "08944a21-a3fd-4bb1-91be-16444481419d",
   "metadata": {},
   "source": [
    "Using a non-matching label can be confusing, however, so I would recommend **choosing a label that’s the same letter as the symbol** it refers to.\n",
    "\n",
    "For any Symbol object, its name attribute is a string that is the actual symbol it represents:"
   ]
  },
  {
   "cell_type": "code",
   "execution_count": 21,
   "id": "536d9262-0622-432e-bba3-a80bdefc0518",
   "metadata": {},
   "outputs": [
    {
     "data": {
      "text/plain": [
       "'x'"
      ]
     },
     "execution_count": 21,
     "metadata": {},
     "output_type": "execute_result"
    }
   ],
   "source": [
    "a = Symbol('x')\n",
    "a.name"
   ]
  },
  {
   "cell_type": "markdown",
   "id": "a32a86b9-7254-49aa-af6b-5f5fec2a7e7b",
   "metadata": {},
   "source": [
    "To define multiple symbols, you can either create separate Symbol objects or use the $symbols()$ function to define them more concisely. Let’s say you wanted to use three symbols—$x$, $y$, and $z$—in your program. You could define them individually, as we did earlier:"
   ]
  },
  {
   "cell_type": "code",
   "execution_count": 10,
   "id": "b5eb5ff2-234e-4d3b-a8a5-62c10c0e5ba2",
   "metadata": {},
   "outputs": [],
   "source": [
    "x = Symbol('x')\n",
    "y = Symbol('y')\n",
    "z = Symbol('z')"
   ]
  },
  {
   "cell_type": "markdown",
   "id": "4e74eda1-507d-4115-a6be-73f3005e18ed",
   "metadata": {},
   "source": [
    "But a shorter method would be to use the $symbols()$ function to define all three at once:"
   ]
  },
  {
   "cell_type": "code",
   "execution_count": 11,
   "id": "e85d466b-e479-46c4-8698-581a921ad490",
   "metadata": {},
   "outputs": [],
   "source": [
    "from sympy import symbols\n",
    "x,y,z = symbols('x,y,z')"
   ]
  },
  {
   "cell_type": "markdown",
   "id": "578a3447-f7e5-49e6-b521-6181043c4e95",
   "metadata": {},
   "source": [
    "Once you’ve defined symbols, you can carry out basic mathematical operations on them. For example, you might do the following:"
   ]
  },
  {
   "cell_type": "code",
   "execution_count": 15,
   "id": "8e9fbf46-86ac-4b3a-bed4-63755a0c5f01",
   "metadata": {},
   "outputs": [
    {
     "data": {
      "text/latex": [
       "$\\displaystyle 2 x y$"
      ],
      "text/plain": [
       "2*x*y"
      ]
     },
     "execution_count": 15,
     "metadata": {},
     "output_type": "execute_result"
    }
   ],
   "source": [
    "z = x*y + x*y\n",
    "z"
   ]
  },
  {
   "cell_type": "markdown",
   "id": "b0065645-e6b2-477e-82f8-3abee105dca0",
   "metadata": {},
   "source": [
    "Let’s see whether we can find the product of $x(x + x)$:"
   ]
  },
  {
   "cell_type": "code",
   "execution_count": 17,
   "id": "ac2ed4f4-1fc6-4062-baa0-15800f24997a",
   "metadata": {},
   "outputs": [
    {
     "data": {
      "text/latex": [
       "$\\displaystyle 2 x^{2}$"
      ],
      "text/plain": [
       "2*x**2"
      ]
     },
     "execution_count": 17,
     "metadata": {},
     "output_type": "execute_result"
    }
   ],
   "source": [
    "z = x*(x + x)\n",
    "z"
   ]
  },
  {
   "cell_type": "markdown",
   "id": "7065faf8-cfd3-46cb-98a8-dbf03b0c73b6",
   "metadata": {},
   "source": [
    "Let’s see what happens when we enter the expression $(x + 2)*(x + 3)$:"
   ]
  },
  {
   "cell_type": "code",
   "execution_count": 18,
   "id": "ceeef102-f6a1-4cd1-bd75-1a9f8ae9c086",
   "metadata": {},
   "outputs": [
    {
     "data": {
      "text/latex": [
       "$\\displaystyle \\left(x + 2\\right) \\left(x + 3\\right)$"
      ],
      "text/plain": [
       "(x + 2)*(x + 3)"
      ]
     },
     "execution_count": 18,
     "metadata": {},
     "output_type": "execute_result"
    }
   ],
   "source": [
    "z = (x + 2)*(x + 3)\n",
    "z"
   ]
  },
  {
   "cell_type": "markdown",
   "id": "667b1652-3d83-480b-bd28-ba14261aef93",
   "metadata": {},
   "source": [
    "You may have expected *SymPy* to multiply everything out. Instead, the expression was printed exactly how we entered it. *SymPy* automatically **simplifies** only the **most basic of expressions** and leaves it to the programmer to explicitly require simplification in cases such as the preceding one."
   ]
  },
  {
   "cell_type": "code",
   "execution_count": 27,
   "id": "12ee510d-85a4-496a-bc1d-7c444606b59f",
   "metadata": {},
   "outputs": [
    {
     "data": {
      "text/latex": [
       "$\\displaystyle x^{2} + 5 x + 6$"
      ],
      "text/plain": [
       "x**2 + 5*x + 6"
      ]
     },
     "execution_count": 27,
     "metadata": {},
     "output_type": "execute_result"
    }
   ],
   "source": [
    "from sympy import expand\n",
    "expand(z)"
   ]
  },
  {
   "cell_type": "markdown",
   "id": "058e58c8-dc00-43f0-b007-acee711017a5",
   "metadata": {},
   "source": [
    "## Factorizing and Expanding Expressions\n",
    "\n",
    "The *factor()* function decomposes an expression into its factors, and the *expand()* function expands an expression, expressing it as a sum of individual terms. Let’s test out these functions with the basic algebraic identity $x^2 − y^2 = (x + y)(x − y)$. The left side of the identity is the **expanded version**, and the right side depicts the corresponding **factorization**. Because we have two symbols in the identity, we’ll create two Symbol objects:"
   ]
  },
  {
   "cell_type": "code",
   "execution_count": 22,
   "id": "3a59ade2-3d44-410a-86f9-72035c4f3deb",
   "metadata": {},
   "outputs": [],
   "source": [
    "from sympy import Symbol\n",
    "x = Symbol('x')\n",
    "y = Symbol('y')"
   ]
  },
  {
   "cell_type": "markdown",
   "id": "eed75bbe-6d2f-452e-b02a-148097b3fb4d",
   "metadata": {},
   "source": [
    "Next, we import the *factor()* function and use it to convert the expanded version (on the left side of the identity) to the factored version (on the right side):"
   ]
  },
  {
   "cell_type": "code",
   "execution_count": 23,
   "id": "ce93a45c-3a56-405d-8f56-b7985bf3b469",
   "metadata": {},
   "outputs": [
    {
     "data": {
      "text/latex": [
       "$\\displaystyle \\left(x - y\\right) \\left(x + y\\right)$"
      ],
      "text/plain": [
       "(x - y)*(x + y)"
      ]
     },
     "execution_count": 23,
     "metadata": {},
     "output_type": "execute_result"
    }
   ],
   "source": [
    "from sympy import factor\n",
    "expr = x**2 - y**2\n",
    "factor(expr)"
   ]
  },
  {
   "cell_type": "markdown",
   "id": "65e206cc-3b68-49a5-abe2-a5a72ef8b1b9",
   "metadata": {},
   "source": [
    "As expected, we get the factored version of the expression. Now let’s expand the factors to get back the original expanded version:"
   ]
  },
  {
   "cell_type": "code",
   "execution_count": 26,
   "id": "ae77e286-e226-45a3-a240-68f3c9187b8f",
   "metadata": {},
   "outputs": [
    {
     "data": {
      "text/latex": [
       "$\\displaystyle x^{2} - y^{2}$"
      ],
      "text/plain": [
       "x**2 - y**2"
      ]
     },
     "execution_count": 26,
     "metadata": {},
     "output_type": "execute_result"
    }
   ],
   "source": [
    "from sympy import expand\n",
    "factors = factor(expr)\n",
    "expand(factors)"
   ]
  },
  {
   "cell_type": "markdown",
   "id": "54d25081-7c91-495e-9330-60a39bad253a",
   "metadata": {},
   "source": [
    "We store the factorized expression in a new label, **factors**, and then call the *expand()* function with it. When we do this, we receive the original expression we started with. Let’s try it with the more complicated identity $x^3 + 3x^2y + 3xy^2 + y3 = (x + y)^3$:"
   ]
  },
  {
   "cell_type": "code",
   "execution_count": 31,
   "id": "04fbbc7c-23ea-42fd-afbf-2831203ee812",
   "metadata": {},
   "outputs": [
    {
     "data": {
      "text/latex": [
       "$\\displaystyle \\left(x + y\\right)^{3}$"
      ],
      "text/plain": [
       "(x + y)**3"
      ]
     },
     "execution_count": 31,
     "metadata": {},
     "output_type": "execute_result"
    }
   ],
   "source": [
    "expr = x**3 + 3*x**2*y + 3*x*y**2 + y**3\n",
    "factors = factor(expr)\n",
    "factors"
   ]
  },
  {
   "cell_type": "markdown",
   "id": "5f191671-a6ee-4438-ad4c-c8c4105559a8",
   "metadata": {},
   "source": [
    "## Pretty Printing\n",
    "\n",
    "If you want the expressions we’ve been working with to look a bit nicer when you print them, you can use the *pprint()* function. This function will print the expression in a way that more closely resembles how we’d normally write it on paper. For example, here’s an expression:"
   ]
  },
  {
   "cell_type": "code",
   "execution_count": 32,
   "id": "e5508d61-fee5-4b82-ae3e-44fb07e10fbc",
   "metadata": {},
   "outputs": [
    {
     "data": {
      "text/latex": [
       "$\\displaystyle x^{2} + 2 x y + y^{2}$"
      ],
      "text/plain": [
       "x**2 + 2*x*y + y**2"
      ]
     },
     "execution_count": 32,
     "metadata": {},
     "output_type": "execute_result"
    }
   ],
   "source": [
    "from sympy import pprint\n",
    "expr = x*x + 2*x*y + y*y\n",
    "expr"
   ]
  },
  {
   "cell_type": "markdown",
   "id": "74d76a16-6bf5-4182-97ed-48e68b1dc185",
   "metadata": {},
   "source": [
    "You can also change the order of the terms when you print an expression. Consider the expression $1 + 2x + 2x^2$:"
   ]
  },
  {
   "cell_type": "code",
   "execution_count": 33,
   "id": "aa2d5456-5288-4fbe-b6f4-4d617316c978",
   "metadata": {},
   "outputs": [
    {
     "name": "stdout",
     "output_type": "stream",
     "text": [
      "   2          \n",
      "2⋅x  + 2⋅x + 1\n"
     ]
    }
   ],
   "source": [
    "expr = 1 + 2*x + 2*x**2\n",
    "pprint(expr)"
   ]
  },
  {
   "cell_type": "markdown",
   "id": "06779758-b8fc-468f-92bb-2f85ce09f962",
   "metadata": {},
   "source": [
    "The terms are arranged in the order of powers of $x$, from highest to lowest. If you want the expression in the opposite order, with the highest power of $x$ last, you can make that happen with the *init_printing()* function, as follows:"
   ]
  },
  {
   "cell_type": "code",
   "execution_count": 34,
   "id": "c72cdf5e-f716-448d-b0ff-95ad76f17f9f",
   "metadata": {},
   "outputs": [
    {
     "name": "stdout",
     "output_type": "stream",
     "text": [
      "             2\n",
      "1 + 2⋅x + 2⋅x \n"
     ]
    }
   ],
   "source": [
    "from sympy import init_printing\n",
    "init_printing(order='rev-lex')\n",
    "pprint(expr)"
   ]
  },
  {
   "cell_type": "markdown",
   "id": "79b1cc9e-300c-45b2-b77d-c1b2b6a1803d",
   "metadata": {},
   "source": [
    "## Printing a Series\n",
    "\n",
    "Consider the following series:\n",
    "\n",
    "$$ x+\\frac{x^{2}}{2}+\\frac{x^{3}}{3}+\\frac{x^{4}}{4}+...+\\frac{x^{n}}{n} $$\n",
    "\n",
    "Let’s write a program that will ask a user to input a number, n, and print this series for that number. In the series, x is a symbol and $n$ is an integer input by the program’s user. The $n$th term in this series is given by:\n",
    "\n",
    "$$ \\frac{x^{n}}{n} $$\n",
    "\n",
    "We can print this series using the following program:"
   ]
  },
  {
   "cell_type": "code",
   "execution_count": 42,
   "id": "6f7bb4bf-dcf8-4ea5-9fef-dd3b27a58d00",
   "metadata": {},
   "outputs": [
    {
     "name": "stdout",
     "output_type": "stream",
     "text": [
      "     2    3    4    5    6\n",
      "    x    x    x    x    x \n",
      "x + ── + ── + ── + ── + ──\n",
      "    2    3    4    5    6 \n"
     ]
    }
   ],
   "source": [
    "from sympy import Symbol, pprint, init_printing\n",
    "\n",
    "# Initialize printing system with reverse order\n",
    "init_printing(order='rev-lex')\n",
    "\n",
    "n = 6\n",
    "x = Symbol('x')\n",
    "series = x\n",
    "for i in range(2, n+1):\n",
    "    series = series + (x**i)/i\n",
    "\n",
    "pprint(series)"
   ]
  },
  {
   "cell_type": "markdown",
   "id": "f225a496-1d73-4191-a53d-5710e991a839",
   "metadata": {},
   "source": [
    "## Substituting in Values\n",
    "\n",
    "Let’s see how we can use *SymPy* to plug values into an algebraic expression. This will let us calculate the value of the expression for certain values of the variables. Consider the mathematical expression $x^2 + 2xy + y^2$, which can be defined as follows:"
   ]
  },
  {
   "cell_type": "code",
   "execution_count": 45,
   "id": "3518befe-c30d-4045-8ae5-3c744a61b2b9",
   "metadata": {},
   "outputs": [
    {
     "data": {
      "image/png": "[encoded data removed]",
      "text/latex": [
       "$\\displaystyle y^{2} + 2 x y + x^{2}$"
      ],
      "text/plain": [
       " 2            2\n",
       "y  + 2⋅x⋅y + x "
      ]
     },
     "execution_count": 45,
     "metadata": {},
     "output_type": "execute_result"
    }
   ],
   "source": [
    "x = Symbol('x')\n",
    "y = Symbol('y')\n",
    "expr = x*x + x*y + x*y + y*y\n",
    "expr"
   ]
  },
  {
   "cell_type": "markdown",
   "id": "0cbb6ce6-b3e9-425d-a852-9c9e08b06c3d",
   "metadata": {},
   "source": [
    "If you want to evaluate this expression, you can substitute numbers in for the symbols using the *subs()* method:"
   ]
  },
  {
   "cell_type": "code",
   "execution_count": 47,
   "id": "023c6d2d-6b3e-434e-af3b-e3457a062404",
   "metadata": {},
   "outputs": [
    {
     "data": {
      "image/png": "[encoded data removed]",
      "text/latex": [
       "$\\displaystyle 9$"
      ],
      "text/plain": [
       "9"
      ]
     },
     "execution_count": 47,
     "metadata": {},
     "output_type": "execute_result"
    }
   ],
   "source": [
    "res = expr.subs({x:1, y:2})\n",
    "res"
   ]
  },
  {
   "cell_type": "markdown",
   "id": "8601eb38-e253-49c9-b41f-0a073507065e",
   "metadata": {},
   "source": [
    "You can also express one symbol in terms of another and substitute accordingly, using the *subs()* method. For example, if you knew that $x = 1 − y$, here’s how you could evaluate the preceding expression:"
   ]
  },
  {
   "cell_type": "code",
   "execution_count": 48,
   "id": "17e17107-6276-485f-a650-6c040ca74213",
   "metadata": {},
   "outputs": [
    {
     "data": {
      "image/png": "[encoded data removed]",
      "text/latex": [
       "$\\displaystyle \\left(1 - y\\right)^{2} + 2 y \\left(1 - y\\right) + y^{2}$"
      ],
      "text/plain": [
       "       2                  2\n",
       "(1 - y)  + 2⋅y⋅(1 - y) + y "
      ]
     },
     "execution_count": 48,
     "metadata": {},
     "output_type": "execute_result"
    }
   ],
   "source": [
    "expr.subs({x:1-y})"
   ]
  },
  {
   "cell_type": "markdown",
   "id": "aac5c95e-7c83-44d6-8fb6-2ca7082cd7d8",
   "metadata": {},
   "source": [
    "If you want the result to be simplified further—for example, if there are terms that cancel each other out, we can use SymPy’s *simplify()* function, as follows:"
   ]
  },
  {
   "cell_type": "code",
   "execution_count": 49,
   "id": "8066c333-d695-4c99-8e99-dd2bab76968e",
   "metadata": {},
   "outputs": [
    {
     "data": {
      "image/png": "[encoded data removed]",
      "text/latex": [
       "$\\displaystyle 1$"
      ],
      "text/plain": [
       "1"
      ]
     },
     "execution_count": 49,
     "metadata": {},
     "output_type": "execute_result"
    }
   ],
   "source": [
    "expr_subs = expr.subs({x:1-y})\n",
    "from sympy import simplify\n",
    "simplify(expr_subs)"
   ]
  },
  {
   "cell_type": "markdown",
   "id": "e8ced7e2-9a6a-463a-b8f8-9f9310253779",
   "metadata": {},
   "source": [
    "## Converting Strings to Mathematical Expressions\n",
    "\n",
    "So far, we’ve been writing out individual expressions each time we want to do something with them. However, what if you wanted to write a more general program that could manipulate any expression provided by the user? For that, we need a way to convert a user’s input, which is a string, into something we can perform mathematical operations on. SymPy’s sympify() function helps us do exactly that. The function is so called because it converts the string into a SymPy object that makes it possible to apply SymPy’sfunctions to the input. Let’s see an example:"
   ]
  },
  {
   "cell_type": "code",
   "execution_count": 53,
   "id": "a83f571d-4f8f-4698-a7f9-f82acab5bdfe",
   "metadata": {},
   "outputs": [
    {
     "name": "stdin",
     "output_type": "stream",
     "text": [
      "Enter a mathematical expression:  x**2 + 3*x + x**3 + 2*x\n"
     ]
    }
   ],
   "source": [
    "from sympy import sympify\n",
    "\n",
    "# Enter this expression in checkbox : x**2 + 3*x + x**3 + 2*x\n",
    "expr = input('Enter a mathematical expression: ')"
   ]
  },
  {
   "cell_type": "code",
   "execution_count": 52,
   "id": "c7494120-8833-47fe-acae-f25e8ca9fa18",
   "metadata": {},
   "outputs": [
    {
     "data": {
      "image/png": "[encoded data removed]",
      "text/latex": [
       "$\\displaystyle 5 x + x^{2} + x^{3}$"
      ],
      "text/plain": [
       "       2    3\n",
       "5⋅x + x  + x "
      ]
     },
     "execution_count": 52,
     "metadata": {},
     "output_type": "execute_result"
    }
   ],
   "source": [
    "expr = sympify(expr)\n",
    "expr"
   ]
  },
  {
   "cell_type": "markdown",
   "id": "47e9b966-155b-4a3d-85af-a1821fee1ef8",
   "metadata": {},
   "source": [
    "## Solving Equations\n",
    "\n",
    "SymPy’s *solve()* function can be used to find solutions to equations. When you input an expression with a symbol representing a variable, such as $x$, *solve()* calculates the value of that symbol. This function always makes its calculation by assuming the expression you enter is equal to zero—that is, it prints the value that, when substituted for the symbol, makes the entire expression equal zero. Let’s start with the simple equation $x − 5 = 7$. If we want to use solve() to find the value of $x$, we first have to make one side of the equation equal zero $(x − 5 − 7 = 0)$. Then, we’re ready to use *solve()*, as follows:"
   ]
  },
  {
   "cell_type": "code",
   "execution_count": 54,
   "id": "85d9a25e-84d5-47e8-9afd-a558044f0bb2",
   "metadata": {},
   "outputs": [
    {
     "data": {
      "image/png": "[encoded data removed]",
      "text/latex": [
       "$\\displaystyle \\left[ 12\\right]$"
      ],
      "text/plain": [
       "[12]"
      ]
     },
     "execution_count": 54,
     "metadata": {},
     "output_type": "execute_result"
    }
   ],
   "source": [
    "from sympy import Symbol, solve\n",
    "x = Symbol('x')\n",
    "expr = x - 5 - 7\n",
    "solve(expr)"
   ]
  },
  {
   "cell_type": "markdown",
   "id": "47ecc27d-0a72-4c1e-a74b-ff881523ab5d",
   "metadata": {},
   "source": [
    "## Solving Quadratic Equations\n",
    "\n",
    "Let’s see an example:"
   ]
  },
  {
   "cell_type": "code",
   "execution_count": 55,
   "id": "b98e3b18-bf1b-4ecd-8f36-0b20e6aea878",
   "metadata": {},
   "outputs": [
    {
     "data": {
      "image/png": "[encoded data removed]",
      "text/latex": [
       "$\\displaystyle \\left[ \\left\\{ x : -4\\right\\}, \\  \\left\\{ x : -1\\right\\}\\right]$"
      ],
      "text/plain": [
       "[{x: -4}, {x: -1}]"
      ]
     },
     "execution_count": 55,
     "metadata": {},
     "output_type": "execute_result"
    }
   ],
   "source": [
    "from sympy import solve\n",
    "x = Symbol('x')\n",
    "expr = x**2 + 5*x + 4\n",
    "solve(expr, dict=True)"
   ]
  },
  {
   "cell_type": "markdown",
   "id": "91d70d96-5325-490b-abc9-f59099f4d528",
   "metadata": {},
   "source": [
    "Let’s attempt another example:"
   ]
  },
  {
   "cell_type": "code",
   "execution_count": 56,
   "id": "fdd125d7-3d50-4408-af6b-c67ffd73ced0",
   "metadata": {},
   "outputs": [
    {
     "data": {
      "image/png": "[encoded data removed]",
      "text/latex": [
       "$\\displaystyle \\left[ \\left\\{ x : - \\frac{\\sqrt{3} i}{2} - \\frac{1}{2}\\right\\}, \\  \\left\\{ x : \\frac{\\sqrt{3} i}{2} - \\frac{1}{2}\\right\\}\\right]$"
      ],
      "text/plain": [
       "⎡⎧     √3⋅ⅈ   1⎫  ⎧   √3⋅ⅈ   1⎫⎤\n",
       "⎢⎨x: - ──── - ─⎬, ⎨x: ──── - ─⎬⎥\n",
       "⎣⎩      2     2⎭  ⎩    2     2⎭⎦"
      ]
     },
     "execution_count": 56,
     "metadata": {},
     "output_type": "execute_result"
    }
   ],
   "source": [
    "x=Symbol('x')\n",
    "expr = x**2 + x + 1\n",
    "solve(expr, dict=True)"
   ]
  },
  {
   "cell_type": "markdown",
   "id": "8f99d245-bd2d-413b-a36f-28f7e38c29e3",
   "metadata": {},
   "source": [
    "Let’s take a look at finding the roots for the generic quadratic equation $ax^2 + bx + c = 0$."
   ]
  },
  {
   "cell_type": "code",
   "execution_count": 57,
   "id": "1cd53fc1-f033-4d8b-aace-1316447a6d8b",
   "metadata": {},
   "outputs": [
    {
     "data": {
      "image/png": "[encoded data removed]",
      "text/latex": [
       "$\\displaystyle \\left[ \\left\\{ x : \\frac{\\sqrt{b^{2} - 4 a c} - b}{2 a}\\right\\}, \\  \\left\\{ x : - \\frac{\\sqrt{b^{2} - 4 a c} + b}{2 a}\\right\\}\\right]$"
      ],
      "text/plain": [
       "⎡⎧      ____________    ⎫  ⎧    ⎛   ____________    ⎞ ⎫⎤\n",
       "⎢⎪     ╱  2             ⎪  ⎪    ⎜  ╱  2             ⎟ ⎪⎥\n",
       "⎢⎨   ╲╱  b  - 4⋅a⋅c  - b⎬  ⎨   -⎝╲╱  b  - 4⋅a⋅c  + b⎠ ⎬⎥\n",
       "⎢⎪x: ───────────────────⎪, ⎪x: ───────────────────────⎪⎥\n",
       "⎣⎩           2⋅a        ⎭  ⎩             2⋅a          ⎭⎦"
      ]
     },
     "execution_count": 57,
     "metadata": {},
     "output_type": "execute_result"
    }
   ],
   "source": [
    "x = Symbol('x')\n",
    "a = Symbol('a')\n",
    "b = Symbol('b')\n",
    "c = Symbol('c')\n",
    "\n",
    "expr = a*x*x + b*x + c\n",
    "solve(expr, x, dict=True)"
   ]
  },
  {
   "cell_type": "markdown",
   "id": "e9a8657d-c6e8-40aa-a366-9c426767e444",
   "metadata": {},
   "source": [
    "## Solving a System of Linear Equations\n",
    "\n",
    "Consider the following two equations:\n",
    "\n",
    "$$\n",
    "\\left\\{\\begin{matrix}\n",
    "2x + 3y = 6\\\\ \n",
    "3x + 2y = 12\n",
    "\\end{matrix}\\right.\n",
    "$$\n",
    "\n",
    "Say we want to find the pair of values $(x, y)$ that satisfies both the equations. We can use the *solve()* function to find the solution for a system of equations like this one. First, we define the two symbols and create the two equations:"
   ]
  },
  {
   "cell_type": "code",
   "execution_count": 59,
   "id": "a757e04d-f37a-414e-8401-93a2298b7c21",
   "metadata": {},
   "outputs": [
    {
     "data": {
      "image/png": "[encoded data removed]",
      "text/latex": [
       "$\\displaystyle \\left[ \\left\\{ x : \\frac{24}{5}, \\  y : - \\frac{6}{5}\\right\\}\\right]$"
      ],
      "text/plain": [
       "[{x: 24/5, y: -6/5}]"
      ]
     },
     "execution_count": 59,
     "metadata": {},
     "output_type": "execute_result"
    }
   ],
   "source": [
    "x = Symbol('x')\n",
    "y = Symbol('y')\n",
    "expr1 = 2*x + 3*y - 6\n",
    "expr2 = 3*x + 2*y - 12\n",
    "\n",
    "solve((expr1, expr2), dict=True)"
   ]
  },
  {
   "cell_type": "markdown",
   "id": "f7d1ad23-85d1-4dfe-80de-c93fe17a0b3d",
   "metadata": {},
   "source": [
    "## Plotting Using SymPy\n",
    "\n",
    "With SymPy, on the other hand, you can just tell SymPy the equation of the line you want to plot, and the graph will be created for you. Let’s plot a line whose equation is given by $y = 2x + 3$:\n",
    "\n"
   ]
  },
  {
   "cell_type": "code",
   "execution_count": 60,
   "id": "54f37a9e-2f6f-4c8a-a612-ac388f39a4b8",
   "metadata": {},
   "outputs": [
    {
     "data": {
      "image/png": "[encoded data removed]",
      "text/plain": [
       "<Figure size 432x288 with 1 Axes>"
      ]
     },
     "metadata": {
      "needs_background": "light"
     },
     "output_type": "display_data"
    },
    {
     "data": {
      "text/plain": [
       "<sympy.plotting.plot.Plot at 0x19406790>"
      ]
     },
     "execution_count": 60,
     "metadata": {},
     "output_type": "execute_result"
    }
   ],
   "source": [
    "from sympy.plotting import plot\n",
    "from sympy import Symbol\n",
    "x = Symbol('x')\n",
    "plot(2*x+3)"
   ]
  },
  {
   "cell_type": "markdown",
   "id": "5c09437d-5a9c-41f0-946f-1e9560bc073e",
   "metadata": {},
   "source": [
    "*SymPy* uses matplotlib behind the scenes to draw the graphs. Also note that we didn’t have to call the *show()* function to show the graphs because this is done automatically by *SymPy*.\n",
    "\n",
    "Now, let’s say that you wanted to limit the values of $'x'$ in the preceding graph to lie in the range $−5$ to $5$ (instead of $−10$ to $10$). You’d do that as follows:"
   ]
  },
  {
   "cell_type": "code",
   "execution_count": 61,
   "id": "5392d9bd-e22f-419a-a617-0e98ee287a33",
   "metadata": {},
   "outputs": [
    {
     "data": {
      "image/png": "[encoded data removed]",
      "text/plain": [
       "<Figure size 432x288 with 1 Axes>"
      ]
     },
     "metadata": {
      "needs_background": "light"
     },
     "output_type": "display_data"
    },
    {
     "data": {
      "text/plain": [
       "<sympy.plotting.plot.Plot at 0x1c9020d0>"
      ]
     },
     "execution_count": 61,
     "metadata": {},
     "output_type": "execute_result"
    }
   ],
   "source": [
    "plot((2*x + 3), (x, -5, 5))"
   ]
  },
  {
   "cell_type": "markdown",
   "id": "751ae15d-7234-488a-9ddb-39f3dd739549",
   "metadata": {},
   "source": [
    "You can use other keyword arguments in the *plot()* function, such as title to enter a title or *xlabel* and *ylabel* to label the *x-axis* and the *y-axis*, respectively. The following *plot()* function specifies the preceding three keyword arguments"
   ]
  },
  {
   "cell_type": "code",
   "execution_count": 62,
   "id": "710844ca-6e05-41ce-95ed-283d2027b94f",
   "metadata": {},
   "outputs": [
    {
     "data": {
      "image/png": "[encoded data removed]",
      "text/plain": [
       "<Figure size 432x288 with 1 Axes>"
      ]
     },
     "metadata": {
      "needs_background": "light"
     },
     "output_type": "display_data"
    },
    {
     "data": {
      "text/plain": [
       "<sympy.plotting.plot.Plot at 0x1944a0d0>"
      ]
     },
     "execution_count": 62,
     "metadata": {},
     "output_type": "execute_result"
    }
   ],
   "source": [
    "plot(2*x + 3, (x, -5, 5), title='A Line', xlabel='x', ylabel='2x+3')"
   ]
  },
  {
   "cell_type": "markdown",
   "id": "241746e2-ef47-4e3d-84d9-76befe087b6d",
   "metadata": {},
   "source": [
    "The show keyword argument allows us to specify whether we want the graph to be displayed. Passing *show=False* will cause the graph to not be displayed when you call the *plot(* function:"
   ]
  },
  {
   "cell_type": "code",
   "execution_count": 63,
   "id": "76346309-cc78-40d5-a0a6-505dc1049ec2",
   "metadata": {},
   "outputs": [],
   "source": [
    "p = plot(2*x + 3, (x, -5, 5), title='A Line', xlabel='x', ylabel='2x+3', show=False)"
   ]
  },
  {
   "cell_type": "markdown",
   "id": "3f9c1f8a-d8e2-4d9f-91c2-a52ec36a54cb",
   "metadata": {},
   "source": [
    "You will see that no graph is shown. The label $p$ refers to the plot that is created, so you can now call *p.show()* to display the graph. You can also save the graph as an image file using the *save()* method, as follows:"
   ]
  },
  {
   "cell_type": "code",
   "execution_count": 64,
   "id": "7e99e71e-d33c-495c-8247-3bdbfbbc9fd5",
   "metadata": {},
   "outputs": [
    {
     "data": {
      "image/png": "[encoded data removed]",
      "text/plain": [
       "<Figure size 432x288 with 1 Axes>"
      ]
     },
     "metadata": {
      "needs_background": "light"
     },
     "output_type": "display_data"
    }
   ],
   "source": [
    "p.save('line.png')"
   ]
  },
  {
   "cell_type": "markdown",
   "id": "dd1d56a3-b373-453c-83b0-73fe36aa92d1",
   "metadata": {},
   "source": [
    "## Plotting Multiple Functions\n",
    "\n",
    "You can enter multiple expressions when calling the SymPy plot function to plot more than one expression on the same graph. For example, the following code plots two lines at once"
   ]
  },
  {
   "cell_type": "code",
   "execution_count": 65,
   "id": "013533b7-7ecf-47f9-9ccd-31e67296c230",
   "metadata": {},
   "outputs": [
    {
     "data": {
      "image/png": "[encoded data removed]",
      "text/plain": [
       "<Figure size 432x288 with 1 Axes>"
      ]
     },
     "metadata": {
      "needs_background": "light"
     },
     "output_type": "display_data"
    },
    {
     "data": {
      "text/plain": [
       "<sympy.plotting.plot.Plot at 0x1c9bfd30>"
      ]
     },
     "execution_count": 65,
     "metadata": {},
     "output_type": "execute_result"
    }
   ],
   "source": [
    "from sympy.plotting import plot\n",
    "from sympy import Symbol\n",
    "\n",
    "x = Symbol('x')\n",
    "plot(2*x+3, 3*x+1)"
   ]
  },
  {
   "cell_type": "markdown",
   "id": "926155e5-79dc-4a65-9844-c828aab38bd5",
   "metadata": {},
   "source": [
    "To set different colors for each line with SymPy, we’ll need to perform some extra steps, as shown in the following code, which also adds a legend to the graph:"
   ]
  },
  {
   "cell_type": "code",
   "execution_count": 66,
   "id": "5a6b6c42-8cb2-40ac-8e49-3291b7112679",
   "metadata": {},
   "outputs": [
    {
     "data": {
      "image/png": "[encoded data removed]",
      "text/plain": [
       "<Figure size 432x288 with 1 Axes>"
      ]
     },
     "metadata": {
      "needs_background": "light"
     },
     "output_type": "display_data"
    }
   ],
   "source": [
    "from sympy.plotting import plot\n",
    "from sympy import Symbol\n",
    "x = Symbol('x')\n",
    "\n",
    "p = plot(2*x+3, 3*x+1, legend=True, show=False)\n",
    "p[0].line_color = 'b'\n",
    "p[1].line_color = 'r'\n",
    "\n",
    "p.show()"
   ]
  }
 ],
 "metadata": {
  "kernelspec": {
   "display_name": "Python 3 (ipykernel)",
   "language": "python",
   "name": "python3"
  },
  "language_info": {
   "codemirror_mode": {
    "name": "ipython",
    "version": 3
   },
   "file_extension": ".py",
   "mimetype": "text/x-python",
   "name": "python",
   "nbconvert_exporter": "python",
   "pygments_lexer": "ipython3",
   "version": "3.8.6"
  }
 },
 "nbformat": 4,
 "nbformat_minor": 5
}
