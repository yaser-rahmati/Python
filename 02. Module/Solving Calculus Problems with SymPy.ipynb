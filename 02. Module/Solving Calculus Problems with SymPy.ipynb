{
 "cells": [
  {
   "cell_type": "markdown",
   "id": "96254849-3544-416e-b475-b8920ad17d2f",
   "metadata": {},
   "source": [
    "## What Is a Function?\n",
    "\n",
    "Let’s start out with some basic definitions. A *function* is a **mapping between an input set and an output set**. The special condition of a function is that an element of the input set is related to exactly one element of the output set. For example, Figure below shows two sets such that an element of the output set is the square of an element that belongs to the input set.\n",
    "\n",
    "![alt text](https://yaser-rahmati.gitbook.io/~/files/v0/b/gitbook-x-prod.appspot.com/o/spaces%2F-M2g31CUvdCruJm660Ot%2Fuploads%2FGd8f5ONBfId4mMEQNKwv%2F957.png?alt=media&token=acce0016-1852-4b01-a32f-c95aacfb2b0c \"Function\")\n",
    "\n",
    "Using the familiar function notation, we’d write this function as $f(x) = x^2$, where $x$ is the **independent variable** quantity. So $f(2) = 4$, $f(100) = 10000$, and so on. \n",
    "\n",
    "We refer to $x$ as the **independent variable** quantity because we’re free to assume a value for it as long as that value is within its domain.\n",
    "\n",
    "Functions can also be defined in terms of **multiple variables**. For example, $f(x, y) = x^2 + y^2$ defines a function of two variables, $x$ and $y$.\n",
    "\n",
    "## Domain and Range of a Function\n",
    "\n",
    "The domain of a function is the set of input values that the independent variable can validly assume. The output set of a function is called the **range**. \n",
    "\n",
    "* For example, the domain of the function $f(x) = 1/x$ is all nonzero real and complex numbers because $/0$ isn’t defined. \n",
    "* The range is formed by the set of values obtained by substituting each number in the domain into $1/x$, so in this case it is also all nonzero real and complex numbers."
   ]
  },
  {
   "cell_type": "markdown",
   "id": "6fba4325-f43c-4246-aefd-051174dc9cf4",
   "metadata": {},
   "source": [
    "## Finding the Limit of Functions\n",
    "\n",
    "We can find limits of functions in *SymPy* by creating objects of the *Limit* class as follows:"
   ]
  },
  {
   "cell_type": "code",
   "execution_count": 12,
   "id": "0908d158-9986-461a-b7d1-71dcbac40a91",
   "metadata": {},
   "outputs": [
    {
     "data": {
      "text/latex": [
       "$\\displaystyle \\lim_{x \\to \\infty} \\frac{1}{x}$"
      ],
      "text/plain": [
       "Limit(1/x, x, oo, dir='-')"
      ]
     },
     "execution_count": 12,
     "metadata": {},
     "output_type": "execute_result"
    }
   ],
   "source": [
    "from sympy import Limit, Symbol, S\n",
    "x = Symbol('x')\n",
    "Limit(1/x, x, S.Infinity)"
   ]
  },
  {
   "cell_type": "markdown",
   "id": "75168ded-7ade-43c9-98fb-a1c0ea7eccc7",
   "metadata": {},
   "source": [
    "We import the $Limit$ and $Symbol$ classes, as well as $S$, which is a special SymPy class that contains the definition of infinity (positive and negative) and other special values. Then, we create a symbol object, $x$, to represent $x$. We create the Limit object , passing it three arguments: \n",
    "\n",
    "* $1/x$, the variable $x$, \n",
    "* The value at which we want to calculate the function’s limit (infinity, given by $S.Infinity$).\n",
    "\n",
    "The result is returned as an unevaluated object. To find the value of the limit, we use the $doit()$ method:"
   ]
  },
  {
   "cell_type": "code",
   "execution_count": 13,
   "id": "83c7c3c1-bf8e-4c5d-a700-a409fa1bf932",
   "metadata": {},
   "outputs": [
    {
     "data": {
      "text/latex": [
       "$\\displaystyle 0$"
      ],
      "text/plain": [
       "0"
      ]
     },
     "execution_count": 13,
     "metadata": {},
     "output_type": "execute_result"
    }
   ],
   "source": [
    "l = Limit(1/x, x, S.Infinity)\n",
    "l.doit()"
   ]
  },
  {
   "cell_type": "markdown",
   "id": "f7de05b3-254d-4521-9d07-b25a15b23f71",
   "metadata": {},
   "source": [
    "By default, the limit is found from a **positive direction**, unless the value at which the limit is to be calculated is positive or negative infinity. In the case of positive infinity, the direction is negative, and vice versa. You can change the default direction as follows:"
   ]
  },
  {
   "cell_type": "code",
   "execution_count": 14,
   "id": "1d024049-6325-4f6a-8fce-2e40a3d3b7a0",
   "metadata": {},
   "outputs": [
    {
     "data": {
      "text/latex": [
       "$\\displaystyle -\\infty$"
      ],
      "text/plain": [
       "-oo"
      ]
     },
     "execution_count": 14,
     "metadata": {},
     "output_type": "execute_result"
    }
   ],
   "source": [
    "Limit(1/x, x, 0, dir='-').doit()"
   ]
  },
  {
   "cell_type": "markdown",
   "id": "fdc91fcf-dd8a-4fa5-b715-3abceb9d2e1d",
   "metadata": {},
   "source": [
    "and as we approach $0$ for $x$ from the negative side, the value of the limit approaches negative infinity. On the other hand, if we approach $0$ from the positive side, the value approaches positive infinity:"
   ]
  },
  {
   "cell_type": "code",
   "execution_count": 15,
   "id": "67146e50-c467-4e6b-9aa9-c80d6a7aef06",
   "metadata": {},
   "outputs": [
    {
     "data": {
      "text/latex": [
       "$\\displaystyle \\infty$"
      ],
      "text/plain": [
       "oo"
      ]
     },
     "execution_count": 15,
     "metadata": {},
     "output_type": "execute_result"
    }
   ],
   "source": [
    "Limit(1/x, x, 0, dir='+').doit()"
   ]
  },
  {
   "cell_type": "markdown",
   "id": "88e95ade-c703-40ff-8756-3a284362c9df",
   "metadata": {},
   "source": [
    "Assum $f(x)$ as below:\n",
    "\n",
    "$ f(x)=\\frac{sin(x)}{x} $\n",
    "\n",
    "The graph of this function is plotted as below:"
   ]
  },
  {
   "cell_type": "code",
   "execution_count": 22,
   "id": "d16691bf-7f59-4b03-b05b-9bc42aa91678",
   "metadata": {},
   "outputs": [
    {
     "data": {
      "image/png": "[encoded data removed]",
      "text/plain": [
       "<Figure size 432x288 with 1 Axes>"
      ]
     },
     "metadata": {
      "needs_background": "light"
     },
     "output_type": "display_data"
    },
    {
     "data": {
      "text/plain": [
       "<sympy.plotting.plot.Plot at 0x1cd42490>"
      ]
     },
     "execution_count": 22,
     "metadata": {},
     "output_type": "execute_result"
    }
   ],
   "source": [
    "from sympy.plotting import plot\n",
    "from sympy import Symbol, sin\n",
    "x = Symbol('x')\n",
    "plot((sin(x)/x) , (x, -30, 30))"
   ]
  },
  {
   "cell_type": "markdown",
   "id": "c7573297-e4be-49fb-a4ec-a2bacfc9ea57",
   "metadata": {},
   "source": [
    "Hense, the limit of $f(x)$ at $x = 0$ is calculated as below:"
   ]
  },
  {
   "cell_type": "code",
   "execution_count": 23,
   "id": "1ce0844c-3e34-4811-a51b-2dc558ce074f",
   "metadata": {},
   "outputs": [
    {
     "data": {
      "text/latex": [
       "$\\displaystyle 1$"
      ],
      "text/plain": [
       "1"
      ]
     },
     "execution_count": 23,
     "metadata": {},
     "output_type": "execute_result"
    }
   ],
   "source": [
    "from sympy import Symbol, sin\n",
    "Limit(sin(x)/x, x, 0).doit()"
   ]
  },
  {
   "cell_type": "markdown",
   "id": "a0840899-1797-4570-b957-7b309ed79f2e",
   "metadata": {},
   "source": [
    "## Finding the Derivative of Functions\n",
    "\n",
    "The derivative of a function $y = f(x)$ expresses the rate of change in the dependent variable, $y$, with respect to the independent variable, $x$. It’s denoted as either $f′(x)$ or $dy/dx$. We can find the derivative of a function by creating an object of the Derivative class. Let’s use the previous function representing the motion of a car as an example:"
   ]
  },
  {
   "cell_type": "code",
   "execution_count": 24,
   "id": "baac6f3c-2fcf-41ea-88ec-376a9f604a4f",
   "metadata": {},
   "outputs": [
    {
     "data": {
      "text/latex": [
       "$\\displaystyle \\frac{d}{d t} \\left(5 t^{2} + 2 t + 8\\right)$"
      ],
      "text/plain": [
       "Derivative(5*t**2 + 2*t + 8, t)"
      ]
     },
     "execution_count": 24,
     "metadata": {},
     "output_type": "execute_result"
    }
   ],
   "source": [
    "from sympy import Symbol, Derivative\n",
    "\n",
    "t = Symbol('t')\n",
    "St = 5*t**2 + 2*t + 8\n",
    "\n",
    "Derivative(St, t)"
   ]
  },
  {
   "cell_type": "markdown",
   "id": "84e7264e-36d3-4dc2-bdbe-45edc46e9b05",
   "metadata": {},
   "source": [
    "We call the $doit()$ method on the unevaluated Derivative object to find the derivative:"
   ]
  },
  {
   "cell_type": "code",
   "execution_count": 25,
   "id": "933d9015-cfc7-4578-9718-afcf79ff94a4",
   "metadata": {},
   "outputs": [
    {
     "data": {
      "text/latex": [
       "$\\displaystyle 10 t + 2$"
      ],
      "text/plain": [
       "10*t + 2"
      ]
     },
     "execution_count": 25,
     "metadata": {},
     "output_type": "execute_result"
    }
   ],
   "source": [
    "d = Derivative(St, t)\n",
    "d.doit()"
   ]
  },
  {
   "cell_type": "markdown",
   "id": "da37199e-0440-412b-8510-2f29b74d8d00",
   "metadata": {},
   "source": [
    "The expression for the derivative turns out to be $10*t + 2$. Now, if we want to calculate the value of the derivative at a particular value of t—say, $t = t_1$ or $t = 1$—we can use the $subs()$ method:"
   ]
  },
  {
   "cell_type": "code",
   "execution_count": 30,
   "id": "69709445-3993-42d8-9bd5-c63fc76eceaf",
   "metadata": {},
   "outputs": [
    {
     "data": {
      "text/latex": [
       "$\\displaystyle 10 t_{1} + 2$"
      ],
      "text/plain": [
       "10*t1 + 2"
      ]
     },
     "execution_count": 30,
     "metadata": {},
     "output_type": "execute_result"
    }
   ],
   "source": [
    "t1 = Symbol('t1')\n",
    "d.doit().subs({t:t1})"
   ]
  },
  {
   "cell_type": "code",
   "execution_count": 29,
   "id": "1d3b55f4-8dcf-4299-ab56-8d405805a1a4",
   "metadata": {},
   "outputs": [
    {
     "data": {
      "text/latex": [
       "$\\displaystyle 12$"
      ],
      "text/plain": [
       "12"
      ]
     },
     "execution_count": 29,
     "metadata": {},
     "output_type": "execute_result"
    }
   ],
   "source": [
    "d.doit().subs({t:1})"
   ]
  },
  {
   "cell_type": "markdown",
   "id": "99c0e663-a1f0-4980-8b34-e62f20646456",
   "metadata": {},
   "source": [
    "Let’s try a complicated arbitrary function with $x$ as the only variable: \n",
    "\n",
    "$$ (x^{3} + x^{2} + x) \\times (x^{2} + x)$$"
   ]
  },
  {
   "cell_type": "code",
   "execution_count": 31,
   "id": "f703b0b1-bfce-49e5-a3db-3c77f16dee7c",
   "metadata": {},
   "outputs": [
    {
     "data": {
      "text/latex": [
       "$\\displaystyle \\left(2 x + 1\\right) \\left(x^{3} + x^{2} + x\\right) + \\left(x^{2} + x\\right) \\left(3 x^{2} + 2 x + 1\\right)$"
      ],
      "text/plain": [
       "(2*x + 1)*(x**3 + x**2 + x) + (x**2 + x)*(3*x**2 + 2*x + 1)"
      ]
     },
     "execution_count": 31,
     "metadata": {},
     "output_type": "execute_result"
    }
   ],
   "source": [
    "from sympy import Derivative, Symbol\n",
    "x = Symbol('x')\n",
    "f = (x**3 + x**2 + x)*(x**2+x)\n",
    "Derivative(f, x).doit()"
   ]
  },
  {
   "cell_type": "markdown",
   "id": "fddc0586-9b8a-4ce7-a1f8-a98e120b5795",
   "metadata": {},
   "source": [
    "## Calculating Partial Derivatives\n",
    "\n",
    "Let’s consider the function $f(x, y) = 2xy + xy^2$. The partial differentiation of $f(x, y)$ with respect to $x$ is:\n",
    "\n",
    "$ \\frac{\\partial f}{\\partial x}=2y+y^{2} $\n"
   ]
  },
  {
   "cell_type": "code",
   "execution_count": 35,
   "id": "dc5c05d9-23dc-40fb-8631-807280be1003",
   "metadata": {},
   "outputs": [
    {
     "name": "stdin",
     "output_type": "stream",
     "text": [
      "Enter a function:  2*x**2 + y**2\n",
      "Enter the variable to differentiate with respect to:  x\n"
     ]
    },
    {
     "name": "stdout",
     "output_type": "stream",
     "text": [
      "4⋅x\n"
     ]
    }
   ],
   "source": [
    "from sympy import Symbol, Derivative, sympify, pprint\n",
    "from sympy import Derivative, Symbol\n",
    "\n",
    "var = Symbol('var')\n",
    "\n",
    "# Example : Enter a function: 2*x**2 + y**2\n",
    "f = input('Enter a function: ')\n",
    "f = sympify(f)\n",
    "\n",
    "# Example : Enter the variable to differentiate with respect to: x\n",
    "var = input('Enter the variable to differentiate with respect to: ')\n",
    "\n",
    "d = Derivative(f, var).doit()\n",
    "pprint(d)"
   ]
  },
  {
   "cell_type": "markdown",
   "id": "2704e45a-2d85-4bee-bb0e-efc3bea5ec97",
   "metadata": {},
   "source": [
    "## Finding the Integrals of Functions\n",
    "\n",
    "The indefinite **integral**, or the **antiderivative**, of a function $f(x)$ is another function $F(x)$, such that $F′(x) = f(x)$. That is, the integral of a function is another function whose derivative is the original function. Mathematically, it’s written as below:\n",
    "\n",
    "$$ F(x)=\\int f(x)dx $$\n",
    "\n",
    "The **definite integral**, on the other hand, is the integral:\n",
    "\n",
    "$$ \\int_{a}^{b}f(x)dx $$\n",
    "\n",
    "which is really $F(b) − F(a)$, where $F(b)$ and $F(a)$ are the values of the antiderivative of the function at $x = b$ and at $x = a$, respectively.\n",
    "\n",
    "Here’s how we can find the integral $∫kxdx$ , where $k$ is a constant term:"
   ]
  },
  {
   "cell_type": "code",
   "execution_count": 1,
   "id": "4a515cd6-a2e2-4678-9a3c-7c3189eb74a6",
   "metadata": {},
   "outputs": [
    {
     "data": {
      "text/latex": [
       "$\\displaystyle \\int k x\\, dx$"
      ],
      "text/plain": [
       "Integral(k*x, x)"
      ]
     },
     "execution_count": 1,
     "metadata": {},
     "output_type": "execute_result"
    }
   ],
   "source": [
    "from sympy import Integral, Symbol\n",
    "\n",
    "x = Symbol('x')\n",
    "k = Symbol('k')\n",
    "\n",
    "Integral(k*x, x)"
   ]
  },
  {
   "cell_type": "markdown",
   "id": "c31033f3-da70-4671-880c-6f918742f8ad",
   "metadata": {},
   "source": [
    "We import the $Integral$ and $Symbol$ classes and create two Symbol objects corresponding to $k$ and $x$. Then, we create an Integral object with the function $kx$, specifying the variable to integrate with respect to $x$. Similar to $Limit$ and $Derivative$ classes, we can now evaluate the integral using the $doit()$ method:"
   ]
  },
  {
   "cell_type": "code",
   "execution_count": 2,
   "id": "934ff9f1-5f5f-42b7-a419-4191067ad337",
   "metadata": {},
   "outputs": [
    {
     "data": {
      "text/latex": [
       "$\\displaystyle \\frac{k x^{2}}{2}$"
      ],
      "text/plain": [
       "k*x**2/2"
      ]
     },
     "execution_count": 2,
     "metadata": {},
     "output_type": "execute_result"
    }
   ],
   "source": [
    "Integral(k*x, x).doit()"
   ]
  },
  {
   "cell_type": "markdown",
   "id": "e082dfbd-8462-4bc7-abaf-104e209e2521",
   "metadata": {},
   "source": [
    "To find the **definite integral**, we simply specify the variable, the **lower limit**, and the **upper limit** as a tuple when we create the Integral object:"
   ]
  },
  {
   "cell_type": "code",
   "execution_count": 3,
   "id": "175f60ff-1446-4573-b7d7-1f66f4b5d004",
   "metadata": {},
   "outputs": [
    {
     "data": {
      "text/latex": [
       "$\\displaystyle 2 k$"
      ],
      "text/plain": [
       "2*k"
      ]
     },
     "execution_count": 3,
     "metadata": {},
     "output_type": "execute_result"
    }
   ],
   "source": [
    "Integral(k*x, (x, 0, 2)).doit()"
   ]
  }
 ],
 "metadata": {
  "kernelspec": {
   "display_name": "Python 3 (ipykernel)",
   "language": "python",
   "name": "python3"
  },
  "language_info": {
   "codemirror_mode": {
    "name": "ipython",
    "version": 3
   },
   "file_extension": ".py",
   "mimetype": "text/x-python",
   "name": "python",
   "nbconvert_exporter": "python",
   "pygments_lexer": "ipython3",
   "version": "3.8.6"
  }
 },
 "nbformat": 4,
 "nbformat_minor": 5
}
