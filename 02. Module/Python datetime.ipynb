{
 "cells": [
  {
   "cell_type": "markdown",
   "id": "47e66a47-1de9-4540-b8e3-4785f98ec867",
   "metadata": {},
   "source": [
    "## Python datetime\n",
    "\n",
    "A date in Python is not a data type of its own, but we can import a module named **datetime** to work with dates as date objects. Commonly used classes in the **datetime** module are:\n",
    "\n",
    "* date Class\n",
    "* time Class\n",
    "* datetime Class\n",
    "* timedelta Class\n",
    "\n",
    "### Example 1: Get Current $Date$ and $Time$"
   ]
  },
  {
   "cell_type": "code",
   "execution_count": 11,
   "id": "6a46d39d-ee37-4b42-aea1-172c5c95110b",
   "metadata": {},
   "outputs": [
    {
     "name": "stdout",
     "output_type": "stream",
     "text": [
      "2022-01-31 22:16:25.730275\n"
     ]
    }
   ],
   "source": [
    "import datetime\n",
    "\n",
    "dt = datetime.datetime.now()\n",
    "print(dt)"
   ]
  },
  {
   "cell_type": "markdown",
   "id": "5598a63b-0a6d-4bb9-91d5-e30cc74489c1",
   "metadata": {},
   "source": [
    "The date contains **year**, **month**, **day**, **hour**, **minute**, **second**, and **microsecond**."
   ]
  },
  {
   "cell_type": "markdown",
   "id": "988bdb7e-ead1-4d36-a03a-6499b28a43c0",
   "metadata": {},
   "source": [
    "### Example 2: What's inside $datetime$?\n",
    "\n",
    "We can use **dir()** function to get a list containing all attributes of a module."
   ]
  },
  {
   "cell_type": "code",
   "execution_count": 3,
   "id": "49c4beed-c21a-4498-be2d-d9cfd23f9228",
   "metadata": {},
   "outputs": [
    {
     "name": "stdout",
     "output_type": "stream",
     "text": [
      "['MAXYEAR', 'MINYEAR', '__builtins__', '__cached__', '__doc__', '__file__', '__loader__', '__name__', '__package__', '__spec__', 'date', 'datetime', 'datetime_CAPI', 'sys', 'time', 'timedelta', 'timezone', 'tzinfo']\n"
     ]
    }
   ],
   "source": [
    "import datetime\n",
    "\n",
    "print(dir(datetime))"
   ]
  },
  {
   "cell_type": "markdown",
   "id": "79fc114d-0bae-4e80-b75a-45df18a333e7",
   "metadata": {},
   "source": [
    "### Example 3: Get Current Date"
   ]
  },
  {
   "cell_type": "code",
   "execution_count": 8,
   "id": "d5ef30eb-655b-4e90-97be-272e53f7c714",
   "metadata": {},
   "outputs": [
    {
     "name": "stdout",
     "output_type": "stream",
     "text": [
      "2022-01-31\n"
     ]
    }
   ],
   "source": [
    "import datetime\n",
    "\n",
    "dt = datetime.date.today()\n",
    "print(dt)"
   ]
  },
  {
   "cell_type": "markdown",
   "id": "fcac5148-6a99-4728-929d-4d9bb3077006",
   "metadata": {},
   "source": [
    "### Example 4: Print today's $year$, $month$ and $day$\n",
    "\n",
    "We can get year, month, day, day of the week etc. from the date object easily. Here's how:"
   ]
  },
  {
   "cell_type": "code",
   "execution_count": 9,
   "id": "b7cda513-90b0-44fa-8a85-b64453274952",
   "metadata": {},
   "outputs": [
    {
     "name": "stdout",
     "output_type": "stream",
     "text": [
      "Current year: 2022\n",
      "Current month: 1\n",
      "Current day: 31\n"
     ]
    }
   ],
   "source": [
    "from datetime import date\n",
    "\n",
    "# date object of today's date\n",
    "dt = date.today() \n",
    "\n",
    "print(\"Current year:\", dt.year)\n",
    "print(\"Current month:\", dt.month)\n",
    "print(\"Current day:\", dt.day)"
   ]
  },
  {
   "cell_type": "markdown",
   "id": "8426c277-a61a-4614-8271-6a82c4655656",
   "metadata": {},
   "source": [
    "### Example 5: Creating Date Objects\n",
    "\n",
    "To create a date, we can use the **datetime()** class (constructor) of the datetime module. The **datetime()** class requires three parameters to create a date: \n",
    "1. year\n",
    "2. month\n",
    "3. day\n"
   ]
  },
  {
   "cell_type": "code",
   "execution_count": 12,
   "id": "8a4147cd-0e92-4d0f-b899-79d8e6be9135",
   "metadata": {},
   "outputs": [
    {
     "name": "stdout",
     "output_type": "stream",
     "text": [
      "2022-01-31 00:00:00\n"
     ]
    }
   ],
   "source": [
    "import datetime\n",
    "\n",
    "dt = datetime.datetime(2022, 1, 31)\n",
    "\n",
    "print(dt)"
   ]
  },
  {
   "cell_type": "markdown",
   "id": "8fbaa0cb-a581-4ff0-aa3c-fefae0b82c02",
   "metadata": {},
   "source": [
    "The datetime() class also takes parameters for time and timezone (**hour**, **minute**, **second**, **microsecond**, **tzone**), but they are optional, and has a default value of 0, (None for timezone)."
   ]
  },
  {
   "cell_type": "markdown",
   "id": "611b9aba-e350-4f0c-87b6-fc479ceb0a80",
   "metadata": {},
   "source": [
    "### Example 6: Time object to represent time\n",
    "\n",
    "A time object instantiated from the time class represents the local time."
   ]
  },
  {
   "cell_type": "code",
   "execution_count": 17,
   "id": "9bb30148-5b24-4b1a-a169-c4f4dbb006f0",
   "metadata": {},
   "outputs": [
    {
     "name": "stdout",
     "output_type": "stream",
     "text": [
      "a = 00:00:00\n",
      "b = 10:15:34\n",
      "c = 10:15:34\n",
      "d = 10:15:34.317668\n"
     ]
    }
   ],
   "source": [
    "from datetime import time\n",
    "\n",
    "# time(hour = 0, minute = 0, second = 0)\n",
    "a = time()\n",
    "print(\"a =\", a)\n",
    "\n",
    "# time(hour, minute and second)\n",
    "b = time(10, 15, 34)\n",
    "print(\"b =\", b)\n",
    "\n",
    "# time(hour, minute and second)\n",
    "c = time(hour = 10, minute = 15, second = 34)\n",
    "print(\"c =\", c)\n",
    "\n",
    "# time(hour, minute, second, microsecond)\n",
    "d = time(10, 15, 34, 317668)\n",
    "print(\"d =\", d)"
   ]
  },
  {
   "cell_type": "markdown",
   "id": "0bbf5b1d-492e-4906-a7ce-369a86af8ad4",
   "metadata": {},
   "source": [
    "### Example 7: Print hour, minute, second and microsecond\n",
    "\n",
    "Once you create a time object, you can easily print its attributes such as **hour**, **minute** etc."
   ]
  },
  {
   "cell_type": "code",
   "execution_count": 16,
   "id": "04030142-f87d-4149-9803-9d82c782bd0d",
   "metadata": {},
   "outputs": [
    {
     "name": "stdout",
     "output_type": "stream",
     "text": [
      "hour = 10\n",
      "minute = 23\n",
      "second = 16\n",
      "microsecond = 0\n"
     ]
    }
   ],
   "source": [
    "from datetime import time\n",
    "\n",
    "tm = time(10, 23, 16)\n",
    "\n",
    "print(\"hour =\", tm.hour)\n",
    "print(\"minute =\", tm.minute)\n",
    "print(\"second =\", tm.second)\n",
    "print(\"microsecond =\", tm.microsecond)"
   ]
  },
  {
   "cell_type": "markdown",
   "id": "195e9aea-5f10-4ba2-a195-e1db4dc7dddc",
   "metadata": {},
   "source": [
    "### Example 8: Python datetime object\n",
    "\n",
    "The datetime module has a class named dateclass that can contain information from both **date** and **time** objects."
   ]
  },
  {
   "cell_type": "code",
   "execution_count": 21,
   "id": "efaf787f-b478-4a51-8f25-1121286f1369",
   "metadata": {},
   "outputs": [
    {
     "name": "stdout",
     "output_type": "stream",
     "text": [
      "2022-10-14 00:00:00\n",
      "2017-11-28 23:55:59.342380\n"
     ]
    }
   ],
   "source": [
    "from datetime import datetime\n",
    "\n",
    "#datetime(year, month, day)\n",
    "a = datetime(2022, 10, 14)\n",
    "print(a)\n",
    "\n",
    "# datetime(year, month, day, hour, minute, second, microsecond)\n",
    "b = datetime(2017, 11, 28, 23, 55, 59, 342380)\n",
    "print(b)"
   ]
  },
  {
   "cell_type": "markdown",
   "id": "c0802d7b-a46a-4ac5-96d6-ec797398bf23",
   "metadata": {},
   "source": [
    "### Example 9: Print year, month, hour, minute and timestamp"
   ]
  },
  {
   "cell_type": "code",
   "execution_count": 22,
   "id": "662eacb5-06bf-41ec-8459-6f2bf2bac089",
   "metadata": {},
   "outputs": [
    {
     "name": "stdout",
     "output_type": "stream",
     "text": [
      "year = 2017\n",
      "month = 11\n",
      "hour = 23\n",
      "minute = 55\n",
      "timestamp = 1511900759.34238\n"
     ]
    }
   ],
   "source": [
    "from datetime import datetime\n",
    "\n",
    "dt = datetime(2017, 11, 28, 23, 55, 59, 342380)\n",
    "print(\"year =\", dt.year)\n",
    "print(\"month =\", dt.month)\n",
    "print(\"hour =\", dt.hour)\n",
    "print(\"minute =\", dt.minute)\n",
    "print(\"timestamp =\", dt.timestamp())"
   ]
  },
  {
   "cell_type": "markdown",
   "id": "c58eac50-491b-4b55-aac8-5a2ba2038f77",
   "metadata": {},
   "source": [
    "### Example 10: Difference between two dates and times"
   ]
  },
  {
   "cell_type": "code",
   "execution_count": 23,
   "id": "e02fd41b-972f-4ec2-9f68-6cca58d91b78",
   "metadata": {},
   "outputs": [
    {
     "name": "stdout",
     "output_type": "stream",
     "text": [
      "t3 = 201 days, 0:00:00\n",
      "t6 = -333 days, 1:14:20\n",
      "type of t3 = <class 'datetime.timedelta'>\n",
      "type of t6 = <class 'datetime.timedelta'>\n"
     ]
    }
   ],
   "source": [
    "from datetime import datetime, date\n",
    "\n",
    "t1 = date(year = 2018, month = 7, day = 12)\n",
    "t2 = date(year = 2017, month = 12, day = 23)\n",
    "t3 = t1 - t2\n",
    "print(\"t3 =\", t3)\n",
    "\n",
    "t4 = datetime(year = 2018, month = 7, day = 12, hour = 7, minute = 9, second = 33)\n",
    "t5 = datetime(year = 2019, month = 6, day = 10, hour = 5, minute = 55, second = 13)\n",
    "t6 = t4 - t5\n",
    "print(\"t6 =\", t6)\n",
    "\n",
    "print(\"type of t3 =\", type(t3)) \n",
    "print(\"type of t6 =\", type(t6))  "
   ]
  },
  {
   "cell_type": "markdown",
   "id": "440d4fa0-2e3e-4a11-8d16-3c5c80cea562",
   "metadata": {},
   "source": [
    "### Example 11: The strftime() Method\n",
    "The datetime object has a method for formatting date objects into readable strings. The method is called **strftime()**, and takes one parameter, format, to specify the format of the returned string:"
   ]
  },
  {
   "cell_type": "code",
   "execution_count": 40,
   "id": "60926a47-bbc6-40a7-9db4-606c4f5185bf",
   "metadata": {},
   "outputs": [
    {
     "name": "stdout",
     "output_type": "stream",
     "text": [
      "Mon\n",
      "Monday\n",
      "1\n",
      "31\n",
      "031\n",
      "05\n",
      "20\n",
      "Jan\n",
      "January\n",
      "01\n",
      "22\n",
      "2022\n",
      "00\n",
      "12\n",
      "AM\n"
     ]
    }
   ],
   "source": [
    "import datetime\n",
    "\n",
    "dt = datetime.datetime(2022, 1, 31)\n",
    "\n",
    "print(dt.strftime(\"%a\")) # Weekday, short version\n",
    "print(dt.strftime(\"%A\")) # WWeekday, full version\n",
    "print(dt.strftime(\"%w\")) # Weekday as a number 0-6, 0 is Sunday\n",
    "print(dt.strftime(\"%d\")) # Day of month 01-31\n",
    "\n",
    "print(dt.strftime(\"%j\")) # Day number of year 001-366\n",
    "print(dt.strftime(\"%U\")) # Week number of year, Sunday as the first day of week, 00-53\n",
    "print(dt.strftime(\"%C\")) # Century\n",
    "\n",
    "print(dt.strftime(\"%b\")) # Month name, short version\n",
    "print(dt.strftime(\"%B\")) # Month name, full version\n",
    "print(dt.strftime(\"%m\")) # Month as a number 01-12\n",
    "\n",
    "print(dt.strftime(\"%y\")) # Year, short version, without century\n",
    "print(dt.strftime(\"%Y\")) # Year, full version\n",
    "\n",
    "print(dt.strftime(\"%H\")) # Hour 00-23\n",
    "print(dt.strftime(\"%I\")) # Hour 00-12\n",
    "print(dt.strftime(\"%p\")) # AM/PM"
   ]
  }
 ],
 "metadata": {
  "kernelspec": {
   "display_name": "Python 3 (ipykernel)",
   "language": "python",
   "name": "python3"
  },
  "language_info": {
   "codemirror_mode": {
    "name": "ipython",
    "version": 3
   },
   "file_extension": ".py",
   "mimetype": "text/x-python",
   "name": "python",
   "nbconvert_exporter": "python",
   "pygments_lexer": "ipython3",
   "version": "3.8.6"
  }
 },
 "nbformat": 4,
 "nbformat_minor": 5
}
