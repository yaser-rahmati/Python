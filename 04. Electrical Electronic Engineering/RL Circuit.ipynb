{
 "cells": [
  {
   "cell_type": "markdown",
   "metadata": {},
   "source": [
    "## Schematics\n",
    "Here is the schematics of an RL circuit\n",
    "\n",
    "![alt text](https://yaser-rahmati.gitbook.io/~/files/v0/b/gitbook-x-prod.appspot.com/o/spaces%2F-M2g31CUvdCruJm660Ot%2Fuploads%2FHvvqdwAWeFsdL2JewHQL%2F953.jpg?alt=media&token=e88b5033-7ee9-49c5-93f3-6c46511b47af \"RL circuits\")\n"
   ]
  },
  {
   "cell_type": "markdown",
   "metadata": {},
   "source": [
    "The components used in an RL circuit are a **DC voltage source (V1)** a **resistor (R1)** and an **inductor (L1)**. The inductor in the schematics is used to represent a physical characteristic of the circuit.\n",
    "\n",
    "As current flows into the circuit, it generates a magnetic field, that change in the magnetic field causes a change in the flux of the field concatenated to the circuit, this in turn, by the **Faraday-Neumann-Lenz law** generates a voltage in the circuit that is **opposite to the voltage that is generating the magnetic field (V1)**. This is the reason because the current in the circuit will not jump immediately to its full value of V/R given by Ohm’s law. \n",
    "\n",
    "The current will eventually reach the value **V/R** after an infinite amount of time, but for practical purposes, we can consider it at that level after some time has passed (namely 4 times tau = L/R should be sufficient)."
   ]
  },
  {
   "cell_type": "markdown",
   "metadata": {},
   "source": [
    "## Calculation\n",
    "What we would expect is that the current will obey the following differential equation given by **Ohm’s law** at each point in time:\n",
    "\n",
    "$$ V_{1}-L\\frac{dI(t)}{dt}-R_{1}I(t)=0 $$\n",
    "\n",
    "The equation above yields the following solution\n",
    "\n",
    "$$ I(t)=\\frac{V_{1}}{R_{1}}(1-e^{-\\frac{R}{L}t}) $$"
   ]
  },
  {
   "cell_type": "markdown",
   "metadata": {},
   "source": [
    "Now, the same phenomenon (reversed) happens when you **open the circuit**, the inductor **opposes the change in flux** by generating a voltage that tries to keep up the shrinking flux of the magnetic field through the circuit. That means that, if you were to switch on and off the current at particular intervals you would obtain this behavior:\n",
    "\n",
    "* As you can see, **at time 0** the circuit is closed and the current is reaching its theoretical value, **after 5 times tau** (time constant of the circuit).\n",
    "* The circuit is opened again and the current **exponentially** decays to zero. By knowing tau, one could find the frequency at which the switch should click in order to maintain this behavior. \n",
    "* This process yields the **on and off-cycle** (in green). Where the green function hits the x-axis the switch clicks and opens/closes the circuit."
   ]
  },
  {
   "cell_type": "markdown",
   "metadata": {},
   "source": [
    "## Source code"
   ]
  },
  {
   "cell_type": "code",
   "execution_count": 1,
   "metadata": {},
   "outputs": [
    {
     "name": "stdout",
     "output_type": "stream",
     "text": [
      "Inductance (H): \t0.0229\n",
      "Resistance (Ohm): \t3.34\n",
      "DC voltage (V): \t5\n",
      "Current (A): \t\t1.4970059880239521\n",
      "Tau: \t\t\t0.006856287425149701\n",
      "Critical time (s): \t0.03016766467065869\n",
      "\n",
      "\n",
      "Switch frequency (Hz): \t16.57403731639539\n",
      "w coefficient (2*pi*f) \t104.1377477470217\n"
     ]
    },
    {
     "data": {
      "image/png": "[encoded data removed]",
      "text/plain": [
       "<Figure size 432x288 with 1 Axes>"
      ]
     },
     "metadata": {},
     "output_type": "display_data"
    }
   ],
   "source": [
    "import numpy as np\n",
    "import matplotlib.pyplot as plt\n",
    "\n",
    "plt.style.use('ggplot')\n",
    "\n",
    "l = 0.0229      #Inductance (H)\n",
    "r = 3.34        #Resistance (Ohm)\n",
    "v = 5           #Voltage (V) DC\n",
    "i = v/r         #Peak current (A)\n",
    "tau = l/r       #Tau time constant\n",
    "a = tau * 5   #critical time value at which current is switched (switching occurs every a seconds)\n",
    "\n",
    "t = np.linspace(0,2*a,2000) #Time vector\n",
    "\n",
    "#1st on-cycle current\n",
    "\n",
    "def initialCurrent():\n",
    "    current = []\n",
    "    for i in t:\n",
    "        if i <= a:\n",
    "            current.append((v/r)*(1-np.exp((-r/l)*i)))          #I(t) = v/r*[1-exp((-r/l)*t)]\n",
    "        else:\n",
    "            current.append(0)\n",
    "    return np.array(current)\n",
    "\n",
    "#Plot Icurrent\n",
    "Icurrent = initialCurrent()\n",
    "plt.plot(t,Icurrent,label='current',color='blue')\n",
    "\n",
    "#1st off-cycle current\n",
    "\n",
    "def laterCurrent():\n",
    "    current = []\n",
    "    for i in t:\n",
    "        if i >= a:\n",
    "            current.append(Icurrent[-1001]*np.exp((-r/l)*(i-a)))  #I(t) = Ir * exp((-r/l)*(t-t0))\n",
    "        else:\n",
    "            current.append(0)\n",
    "    return np.array(current)\n",
    "\n",
    "#Plot current after switch off\n",
    "current_off = laterCurrent()\n",
    "plt.plot(t,current_off,color='blue')\n",
    "\n",
    "\n",
    "#Current on and off cycle: on and off at the zeros of the it function\n",
    "f = 1/(2*a)                 #frequency f = 1/T\n",
    "w = np.pi/a                 #w = 2pi * f\n",
    "it = i*np.sin(w*t)\n",
    "plt.plot(t,it,label='On/off cycle',color='green')\n",
    "\n",
    "#Plot zeros (switching points)\n",
    "zeros = np.array([0,a,2*a])\n",
    "zeros_i = i*np.sin(w*zeros)\n",
    "plt.plot(zeros,zeros_i,marker='x',markersize=10,label='On and off',color='red')\n",
    "plt.annotate('On',xy=(zeros[0]+0.0005,zeros_i[0]))\n",
    "plt.annotate('Off',xy=(zeros[1]+0.0005,zeros_i[1]))\n",
    "plt.annotate('On',xy=(zeros[2]+0.0005,zeros_i[2]))\n",
    "\n",
    "#Critical value plot\n",
    "plt.plot((a,a+0.00001),(max(it),min(it)),'r',alpha=0.9,label='Critical value')\n",
    "\n",
    "#Print some data\n",
    "print('Inductance (H):','\\t'+str(l))\n",
    "print('Resistance (Ohm):','\\t'+str(r))\n",
    "print('DC voltage (V):','\\t'+str(v))\n",
    "print('Current (A):','\\t\\t'+str(i))\n",
    "print('Tau:','\\t\\t\\t'+str(tau))\n",
    "print('Critical time (s):','\\t'+str(a))\n",
    "print('\\n')\n",
    "print('Switch frequency (Hz):','\\t'+str(f))\n",
    "print('w coefficient (2*pi*f)','\\t'+str(w))\n",
    "\n",
    "#Plot settings\n",
    "\n",
    "#x axis line\n",
    "plt.plot((0,2*a+0.0005),(0,0),'k',alpha=0.9,markersize=10)\n",
    "\n",
    "#Axis labels\n",
    "plt.xlabel('time (s)')\n",
    "plt.ylabel('current (A)')\n",
    "\n",
    "#Legend and limits\n",
    "plt.legend(loc=3,fancybox=True,shadow=True)\n",
    "plt.xlim(-0.002,2*a+0.003)\n",
    "plt.ylim(min(it)-0.05,max(it)+0.05)\n",
    "\n",
    "plt.show()"
   ]
  },
  {
   "cell_type": "code",
   "execution_count": null,
   "metadata": {},
   "outputs": [],
   "source": []
  },
  {
   "cell_type": "code",
   "execution_count": null,
   "metadata": {},
   "outputs": [],
   "source": []
  }
 ],
 "metadata": {
  "kernelspec": {
   "display_name": "Python 3 (ipykernel)",
   "language": "python",
   "name": "python3"
  },
  "language_info": {
   "codemirror_mode": {
    "name": "ipython",
    "version": 3
   },
   "file_extension": ".py",
   "mimetype": "text/x-python",
   "name": "python",
   "nbconvert_exporter": "python",
   "pygments_lexer": "ipython3",
   "version": "3.8.6"
  }
 },
 "nbformat": 4,
 "nbformat_minor": 4
}
