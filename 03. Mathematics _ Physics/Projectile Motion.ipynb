{
 "cells": [
  {
   "cell_type": "markdown",
   "id": "857c7e0c-25f4-4f1b-99fa-c0934d5e6284",
   "metadata": {},
   "source": [
    "## Projectile Motion\n",
    "If you throw a ball across a field, it follows a trajectory like the one shown in Figure below.\n",
    "\n",
    "![alt text](https://yaser-rahmati.gitbook.io/~/files/v0/b/gitbook-x-prod.appspot.com/o/spaces%2F-M2g31CUvdCruJm660Ot%2Fuploads%2FbWv76MD6ElJOMT9rmOoC%2F956.png?alt=media&token=cc1bc310-8816-4502-9e1f-c4aa87285a7a \"Projectile Motion\")\n",
    "\n",
    "In the figure, the ball is thrown from point **A** and lands at point **B**. This type of motion is referred to as projectile motion. Our aim here is to use the **equations of projectile motion** to graph the trajectory of a body, showing the position of the ball starting from the point it’s thrown until it hits the ground again.\n",
    "\n",
    "When you throw the ball, it has an **initial velocity** and the direction of that velocity creates a certain angle with the ground. Let’s call the initial velocity *u* and the angle that it makes with the ground *θ* (theta), as shown in Figure. The ball has two velocity components: \n",
    "* One along the x direction, calculated by : \n",
    "\n",
    "$$ u_{x}=u\\times cos\\theta $$\n",
    "\n",
    "* The other along the y direction, where :\n",
    "\n",
    "$$ u_{y}=u\\times sin\\theta $$\n",
    "\n",
    "As the ball moves, its velocity changes, and we will represent that changed velocity using v: \n",
    "* The horizontal component is **v<sub>x</sub>** \n",
    "* The vertical component is **v<sub>y</sub>**. \n",
    "* For simplicity, assume the horizontal component (*v<sub>x</sub>*) **doesn’t change** during the motion of the body.\n",
    "* The vertical component (v<sub>y</sub>) **decreases** because of the force of gravity according to the equation:\n",
    "\n",
    "$$ v_{y} = u_{y} - gt = u\\times sin\\theta - gt $$\n",
    "\n",
    "* In this equation, **g** is the gravitational acceleration and t is the time at which the velocity is measured. Because uy = u×sinθ, we can substitute to get:\n",
    "* Because the horizontal component of the velocity remains constant, the horizontal distance traveled (**Sx**) is given by :\n",
    "\n",
    "$$ S_{x} = ut\\times cos\\theta $$\n",
    "\n",
    "* The vertical component of the velocity changes, though, and the vertical distance traveled is given by the formula :\n",
    "\n",
    "$$ s_{y}=u(sin(\\theta ))t-\\frac{1}{2}gt^{2} $$\n",
    "\n",
    "* The ball reaches its highest point when the vertical component of the velocity (v<sub>y</sub>) is 0, which is when v<sub>y</sub> = 0. So we’re looking for the value t using the formula:\n",
    "\n",
    "$$ v_{y}=usin(\\theta)-gt=0\\Rightarrow t=u\\times \\frac{sin(\\theta )}{g} $$\n",
    "\n",
    "* We’ll call this time t_peak. After it reaches its highest point, the ball will hit the ground after being airborne for another t_peak seconds, so the total time of flight (t_flight) of the ball is:\n",
    "\n",
    "$$ t_{flight}=2t_{peak}=2\\frac{usin(\\theta )}{g} $$\n",
    "\n",
    "doing math with python page 50"
   ]
  },
  {
   "cell_type": "code",
   "execution_count": 31,
   "id": "4cd71596-8f7e-4b48-aa31-1e102cd58dde",
   "metadata": {},
   "outputs": [
    {
     "data": {
      "image/png": "[encoded data removed]",
      "text/plain": [
       "<Figure size 432x288 with 1 Axes>"
      ]
     },
     "metadata": {
      "needs_background": "light"
     },
     "output_type": "display_data"
    }
   ],
   "source": [
    "# Draw the trajectory of a body in projectile motion\n",
    "\n",
    "from matplotlib import pyplot as plt\n",
    "import numpy as np\n",
    "import math\n",
    "\n",
    "def draw_graph(x, y):\n",
    "    plt.plot(x, y)\n",
    "    plt.xlabel('x-coordinate')\n",
    "    plt.ylabel('y-coordinate')\n",
    "    plt.title('Projectile motion of a ball')\n",
    "\n",
    "# angle in degree\n",
    "angle = 45\n",
    "# convert angle to radian\n",
    "theta = math.radians(angle)\n",
    "g = 9.8\n",
    "# initial velocity\n",
    "u = 5\n",
    "# Time of flight\n",
    "t_flight = 2*u*math.sin(theta)/g\n",
    "# Find time intervals\n",
    "intervals = np.arange( 0 , t_flight , 0.001)   \n",
    "# List of x and y coordinates\n",
    "x = []\n",
    "y = []\n",
    "    \n",
    "for t in intervals:\n",
    "    x.append(u*math.cos(theta)*t)\n",
    "    y.append(u*math.sin(theta)*t - 0.5*g*t*t)\n",
    "\n",
    "draw_graph(x, y)\n",
    "plt.show()"
   ]
  },
  {
   "cell_type": "code",
   "execution_count": 16,
   "id": "c6f83bba-772d-4c94-8b8b-20770d9c9ccf",
   "metadata": {},
   "outputs": [
    {
     "name": "stdout",
     "output_type": "stream",
     "text": [
      "0.7215375318230076\n"
     ]
    }
   ],
   "source": []
  },
  {
   "cell_type": "code",
   "execution_count": null,
   "id": "32f3c3d1-37b4-46c4-a7bc-3c5779913e96",
   "metadata": {},
   "outputs": [],
   "source": []
  }
 ],
 "metadata": {
  "kernelspec": {
   "display_name": "Python 3 (ipykernel)",
   "language": "python",
   "name": "python3"
  },
  "language_info": {
   "codemirror_mode": {
    "name": "ipython",
    "version": 3
   },
   "file_extension": ".py",
   "mimetype": "text/x-python",
   "name": "python",
   "nbconvert_exporter": "python",
   "pygments_lexer": "ipython3",
   "version": "3.8.6"
  }
 },
 "nbformat": 4,
 "nbformat_minor": 5
}
