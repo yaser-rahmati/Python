{
 "cells": [
  {
   "cell_type": "markdown",
   "id": "7f223a17-1173-411e-80ff-548f474f305a",
   "metadata": {},
   "source": [
    "## Finding the Maxima and Minima of a Function\n",
    "\n",
    "Consider the function $x^5 − 30x^3 + 50x$, defined on the domain [−5, 5]. Note that I have used square brackets to indicate a closed domain, indicating that the variable $x$ can assume any real value greater than or equal to $−5$ and less than or equal to $5$.\n",
    "\n",
    "![alt text](https://4137876152-files.gitbook.io/~/files/v0/b/gitbook-x-prod.appspot.com/o/spaces%2F-M2g31CUvdCruJm660Ot%2Fuploads%2Fl2a7WdIzsJKSyD1uzTwG%2F958.png?alt=media&token=176f1f5a-56eb-4c0a-9dd2-e42b54a84caf \"Finding the Maxima and Minima of a Function\")\n",
    "\n",
    "Let's plot the function in Python as below:"
   ]
  },
  {
   "cell_type": "code",
   "execution_count": 3,
   "id": "b2522050-8a9b-4635-9be6-6632eb2b879e",
   "metadata": {},
   "outputs": [
    {
     "data": {
      "image/png": "[encoded data removed]",
      "text/plain": [
       "<Figure size 432x288 with 1 Axes>"
      ]
     },
     "metadata": {
      "needs_background": "light"
     },
     "output_type": "display_data"
    },
    {
     "data": {
      "text/plain": [
       "<sympy.plotting.plot.Plot at 0x19a79d90>"
      ]
     },
     "execution_count": 3,
     "metadata": {},
     "output_type": "execute_result"
    }
   ],
   "source": [
    "from sympy.plotting import plot\n",
    "from sympy import Symbol, sin\n",
    "x = Symbol('x')\n",
    "plot((x**5 -30*x**3 + 50*x) , (x, -5, 5))"
   ]
  },
  {
   "cell_type": "markdown",
   "id": "ae9f0249-a570-4f2e-82e9-c4121a69b1f0",
   "metadata": {},
   "source": [
    "From the graph, we can see that the function attains its minimum value on the interval $−2 ≤ x ≤ 0$ at the point $B$. \n",
    "\n",
    "Similarly, it attains its maximum value on the interval $0 ≤ x ≤ 2$ at the point $C$. \n",
    "\n",
    "On the other hand, the function attains its maximum and minimum values on the entire domain of $x$ that we’ve considered here at the points $A$ and $D$, respectively. Thus, when we consider the function on the whole interval $[−5, 5]$, the points $B$ and $C$ are referred to as a **local minimum** and a **local maximum**, respectively, while the points $A$ and $D$ are the **global maximum** and the **global minimum**, respectively. \n",
    "\n",
    "The term **extremum** (plural extrema) refers to the points where the function attains a **local or global maximum or minimum**. \n",
    "\n",
    "If $x$ is an extremum of the function $f(x)$, then the first-order derivative of $f$ at $x$, denoted $f′(x)$, must vanish. This property shows that a good way to find possible extrema is to try to solve the equation $f′(x) = 0$. Such solutions are called **critical points of the function**. Let’s try this out:"
   ]
  },
  {
   "cell_type": "code",
   "execution_count": 4,
   "id": "84e517af-ffd8-46e2-95fe-8e3bc98b6aed",
   "metadata": {},
   "outputs": [],
   "source": [
    "from sympy import Symbol, solve, Derivative\n",
    "x = Symbol('x')\n",
    "f = x**5 - 30*x**3 + 50*x\n",
    "d1 = Derivative(f, x).doit()"
   ]
  },
  {
   "cell_type": "markdown",
   "id": "27d4bb76-7856-4a74-abf7-9f8dd540a8af",
   "metadata": {},
   "source": [
    "Now that we have calculated the first-order derivative, $f′(x)$, we’ll solve $f′(x) = 0$ to find the critical points:"
   ]
  },
  {
   "cell_type": "code",
   "execution_count": 5,
   "id": "7d34a9c3-82ee-4e39-a23e-8ff985a2e827",
   "metadata": {},
   "outputs": [
    {
     "data": {
      "text/plain": [
       "[-sqrt(9 - sqrt(71)),\n",
       " sqrt(9 - sqrt(71)),\n",
       " -sqrt(sqrt(71) + 9),\n",
       " sqrt(sqrt(71) + 9)]"
      ]
     },
     "execution_count": 5,
     "metadata": {},
     "output_type": "execute_result"
    }
   ],
   "source": [
    "critical_points = solve(d1)\n",
    "critical_points"
   ]
  },
  {
   "cell_type": "markdown",
   "id": "7480319a-3779-46e3-ac7f-d00be3432fda",
   "metadata": {},
   "source": [
    "The numbers in the list critical_points shown here correspond to the points $B$, $C$, $A$, and $D$, respectively. We will create labels to refer to these points, and then we can use the labels in our commands:"
   ]
  },
  {
   "cell_type": "code",
   "execution_count": 6,
   "id": "3a6ed57c-0f2b-4b78-816a-c25b25ceebab",
   "metadata": {},
   "outputs": [],
   "source": [
    "A = critical_points[2]\n",
    "B = critical_points[0]\n",
    "C = critical_points[1]\n",
    "D = critical_points[3]"
   ]
  },
  {
   "cell_type": "markdown",
   "id": "3fd0bcb4-98e8-4645-bce9-ec3f33293f58",
   "metadata": {},
   "source": [
    "Because all the critical points for this function lie within the considered interval, they are all relevant for our search for the global maximum and minimum of $f(x)$. We may now apply the so-called second derivative test to narrow down which critical points could be global maxima or minima.\n",
    "\n",
    "First, we calculate the second-order derivative for the function $f(x)$. Note that to do so, we enter $2$ as the third argument:"
   ]
  },
  {
   "cell_type": "code",
   "execution_count": 8,
   "id": "e990c122-5ee5-4254-9d77-a6ed2efa29f4",
   "metadata": {},
   "outputs": [
    {
     "data": {
      "text/latex": [
       "$\\displaystyle 20 x \\left(x^{2} - 9\\right)$"
      ],
      "text/plain": [
       "20*x*(x**2 - 9)"
      ]
     },
     "execution_count": 8,
     "metadata": {},
     "output_type": "execute_result"
    }
   ],
   "source": [
    "d2 = Derivative(f, x, 2).doit()\n",
    "d2"
   ]
  },
  {
   "cell_type": "markdown",
   "id": "00ba2042-9fb4-4206-9623-5da90e62b794",
   "metadata": {},
   "source": [
    "Now, we find the value of the **second derivativ**e by substituting the value of each of the critical points one by one in place of $x$. \n",
    "\n",
    "* If the resulting value is less than $0$, the point is a **local maximum**; \n",
    "* if the value is greater than $0$, it’s a **local minimum**. \n",
    "* If the resulting value is $0$, then the test is **inconclusive** and we cannot deduce anything about whether the critical point $x$ is a local minimum, maximum, or neither."
   ]
  },
  {
   "cell_type": "code",
   "execution_count": 10,
   "id": "55ec8037-bcdf-497d-8ea4-fd847a0d588f",
   "metadata": {},
   "outputs": [
    {
     "name": "stdout",
     "output_type": "stream",
     "text": [
      "127.661060789073\n",
      "-127.661060789073\n",
      "-703.493179468151\n",
      "703.493179468151\n"
     ]
    }
   ],
   "source": [
    "print(d2.subs({x:B}).evalf())\n",
    "print(d2.subs({x:C}).evalf())\n",
    "print(d2.subs({x:A}).evalf())\n",
    "print(d2.subs({x:D}).evalf())"
   ]
  },
  {
   "cell_type": "markdown",
   "id": "c775e6e0-1017-486c-8dfa-d3ca5f6555b1",
   "metadata": {},
   "source": [
    "Evaluating the second derivative test at the critical points tells us that the points $A$ and $C$ are local maxima and the points $B$ and $D$ are local minima.\n",
    "\n",
    "The global maximum and minimum of $f(x)$ on the interval $[−5, 5]$ is attained either at a critical point $x$ or at one of the endpoints of the domain ($x = −5$ and $x = 5$). We have already found all of the critical points, which are the points $A$, $B$, $C$, and $D$. The function cannot attain its global minimum at either of the critical points $A$ or $C$ because they are local maximums. By similar logic, the function cannot attain its global maximum at $B$ or $D$.\n",
    "\n",
    "Thus, to find the **global maximum**, we must compute the value of $f(x)$ at the points $A$, $C$, $−5$, and $5$. Among these points, the place where $f(x)$ has the largest value must be the global maximum.\n",
    "\n",
    "We will create two labels, x_min and x_max, to refer to the domain boundaries and evaluate the function at the points $A$, $C$, x_min, and x_max:"
   ]
  },
  {
   "cell_type": "code",
   "execution_count": 14,
   "id": "8d75fdfe-c725-4bfc-bd55-b1f91e6c0215",
   "metadata": {},
   "outputs": [
    {
     "name": "stdout",
     "output_type": "stream",
     "text": [
      "705.959460380365\n",
      "25.0846626340294\n",
      "375.000000000000\n",
      "-375.000000000000\n"
     ]
    }
   ],
   "source": [
    "x_min = -5\n",
    "x_max = 5\n",
    "print(f.subs({x:A}).evalf())\n",
    "print(f.subs({x:C}).evalf())\n",
    "print(f.subs({x:x_min}).evalf())\n",
    "print(f.subs({x:x_max}).evalf())"
   ]
  },
  {
   "cell_type": "markdown",
   "id": "128c687b-cb57-4f7f-b276-57241224292b",
   "metadata": {},
   "source": [
    "By these calculations, as well as by examining the function value at all the critical points and the domain boundaries (Figure above), we see that thepoint $A$ turns out be the **global maximum**.\n",
    "\n",
    "Similarly, to determine the global minimum, we must compute the values of $f(x)$ at the points $B$, $D$, $−5$, and $5$:"
   ]
  },
  {
   "cell_type": "code",
   "execution_count": 15,
   "id": "36b15179-cf6c-4e21-9b90-1a716f291997",
   "metadata": {},
   "outputs": [
    {
     "name": "stdout",
     "output_type": "stream",
     "text": [
      "-25.0846626340294\n",
      "-705.959460380365\n",
      "375.000000000000\n",
      "-375.000000000000\n"
     ]
    }
   ],
   "source": [
    "print(f.subs({x:B}).evalf())\n",
    "print(f.subs({x:D}).evalf())\n",
    "print(f.subs({x:x_min}).evalf())\n",
    "print(f.subs({x:x_max}).evalf())"
   ]
  },
  {
   "cell_type": "markdown",
   "id": "05abf9d3-85d0-45c0-81f9-2ddaaf9e6a29",
   "metadata": {},
   "source": [
    "The point where $f(x)$ has the smallest value must be the global minimum for the function; this turns out to be point $D$."
   ]
  },
  {
   "cell_type": "code",
   "execution_count": null,
   "id": "c5917768-8169-4f04-bcf2-bc0b1de09dd5",
   "metadata": {},
   "outputs": [],
   "source": []
  }
 ],
 "metadata": {
  "kernelspec": {
   "display_name": "Python 3 (ipykernel)",
   "language": "python",
   "name": "python3"
  },
  "language_info": {
   "codemirror_mode": {
    "name": "ipython",
    "version": 3
   },
   "file_extension": ".py",
   "mimetype": "text/x-python",
   "name": "python",
   "nbconvert_exporter": "python",
   "pygments_lexer": "ipython3",
   "version": "3.8.6"
  }
 },
 "nbformat": 4,
 "nbformat_minor": 5
}
