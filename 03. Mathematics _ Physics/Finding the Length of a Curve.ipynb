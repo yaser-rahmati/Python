{
 "cells": [
  {
   "cell_type": "markdown",
   "id": "9a0c9a62-1a07-42f8-a747-13ee74b12705",
   "metadata": {},
   "source": [
    "## Finding the Length of a Curve\n",
    "\n",
    "Let  $f(x)$  be a smooth function defined over  $[a,b]$ . We want to calculate the length of the curve from the point  $(a,f(a))$  to the point  $(b,f(b))$ . We start by using line segments to approximate the length of the curve. \n",
    "\n",
    "For  $i=0,1,2,…,n$ , let  $P=x_{i}$  be a regular partition of  $[a,b]$ . Then, for  $i=1,2,…,n$ , construct a line segment from the point  $(x_{i−1},f(x_{i−1}))$  to the point  $(x_{i},f(x_{i}))$ . Although it might seem logical to use either horizontal or vertical line segments, we want our line segments to approximate the curve as closely as possible. Figure  below  depicts this construct for  $n=5$ .\n",
    "\n",
    "![alt text](https://4137876152-files.gitbook.io/~/files/v0/b/gitbook-x-prod.appspot.com/o/spaces%2F-M2g31CUvdCruJm660Ot%2Fuploads%2Fny2YWZlnsokLJhYZ4lIp%2F961.png?alt=media&token=7c5d0fa6-30b4-44d8-a94d-60a8ebeb46276 \"Finding the Length of a Curve\")\n",
    "\n",
    "To help us find the length of each line segment, we look at the change in vertical distance as well as the change in horizontal distance over each interval. Because we have used a regular partition, the change in horizontal distance over each interval is given by  $Δx$ . The change in vertical distance varies from interval to interval, though, so we use  $Δy_{i}=f(x_{i})−f(x_{i−1})$  to represent the change in vertical distance over the interval  $[x_{i−1},x_{i}]$ , as shown in Figure  below . Note that some (or all)  $Δy_{i}$  may be negative.\n",
    "\n",
    "![alt text](https://4137876152-files.gitbook.io/~/files/v0/b/gitbook-x-prod.appspot.com/o/spaces%2F-M2g31CUvdCruJm660Ot%2Fuploads%2Fwn94uOaF25oevvtBnmLI%2F962.png?alt=media&token=f78e5286-e777-421b-b0f5-63c753ccd965 \"Finding the Length of a Curve\")\n",
    "\n",
    "By the Pythagorean theorem, the length of the line segment is:\n",
    "\n",
    "$$ \\sqrt{(\\Delta x)^{2}+(\\Delta y)^{2}} $$\n",
    "\n",
    "We can also write this as:\n",
    "\n",
    "$$ \\Delta x\\sqrt{(1 +(\\frac{\\Delta y}{\\Delta x})^{2}} $$\n",
    "\n",
    "Now, by the Mean Value Theorem, there is a point  $x^{∗}_{i}∈[x_{i−1},x_{i}]$  such that  $f'(x^{∗}_{i})=(Δy{i})/(Δx)$ . Then the length of the line segment is given by:\n",
    "\n",
    "$$ \\Delta x\\sqrt{1 +[f'(x^{*}_{i})]^{2}} $$\n",
    "\n",
    "Adding up the lengths of all the line segments, we get:\n",
    "\n",
    "$$ ArcLength\\approx \\sum_{i=1}^{n}(\\sqrt{1 +[f'(x^{*}_{i})]^{2}})(\\Delta x) $$\n",
    "\n",
    "This is a **Riemann sum**. Taking the limit as  n→∞,  we have:\n",
    "\n",
    "$$ Arc-Length=lim\\underset{n \\mapsto \\infty  }{} [\\sum_{i=1}^{n}(\\sqrt{1 +[f'(x^{*}_{i})]^{2}})(\\Delta x)]\n",
    "=\\int_{a}^{b}\\sqrt{1+[{f}'(x)]^{2}} $$\n",
    "\n",
    "## Example \n",
    "\n",
    "Let $f(x)=x^{2}$ . Calculate the arc length of the graph of  $f(x)$  over the interval  $[1,3]$ .\n",
    "\n",
    "#### Solution\n",
    "\n",
    "Let's plot the function over the given interval."
   ]
  },
  {
   "cell_type": "code",
   "execution_count": 15,
   "id": "edfb9a5d-e9c2-4b26-87a9-a478ea30c912",
   "metadata": {},
   "outputs": [
    {
     "data": {
      "image/png": "[encoded data removed]",
      "text/plain": [
       "<Figure size 432x288 with 1 Axes>"
      ]
     },
     "metadata": {
      "needs_background": "light"
     },
     "output_type": "display_data"
    },
    {
     "data": {
      "text/plain": [
       "<sympy.plotting.plot.Plot at 0x1c626580>"
      ]
     },
     "execution_count": 15,
     "metadata": {},
     "output_type": "execute_result"
    }
   ],
   "source": [
    "from sympy.plotting import plot\n",
    "from sympy import Symbol\n",
    "\n",
    "x = Symbol('x')\n",
    "f = x**2\n",
    "plot(f , (x , 1 , 3))"
   ]
  },
  {
   "cell_type": "markdown",
   "id": "d4e9882a-c5ed-4387-abba-e767b3d9cecf",
   "metadata": {},
   "source": [
    "Now, let's find the derivative of function."
   ]
  },
  {
   "cell_type": "code",
   "execution_count": 16,
   "id": "bdb84795-76c9-461a-af0a-36200ea26a36",
   "metadata": {},
   "outputs": [
    {
     "name": "stdout",
     "output_type": "stream",
     "text": [
      "2⋅x\n"
     ]
    }
   ],
   "source": [
    "from sympy import Derivative, pprint\n",
    "\n",
    "f_derivative = Derivative(f, x).doit()\n",
    "pprint(f_derivative)"
   ]
  },
  {
   "cell_type": "markdown",
   "id": "bcf1b9cf-5241-4d90-847b-c41442ad27df",
   "metadata": {},
   "source": [
    "So, the arc length will be:"
   ]
  },
  {
   "cell_type": "code",
   "execution_count": 14,
   "id": "6a3004a7-4afe-4954-a353-7c98294bdb9c",
   "metadata": {},
   "outputs": [
    {
     "data": {
      "text/latex": [
       "$\\displaystyle 8.26814590106396$"
      ],
      "text/plain": [
       "8.26814590106396"
      ]
     },
     "execution_count": 14,
     "metadata": {},
     "output_type": "execute_result"
    }
   ],
   "source": [
    "from sympy import Integral, sqrt\n",
    "\n",
    "Integral(sqrt(1 + (f_derivative **2)), (x, 1, 3)).doit().evalf()"
   ]
  },
  {
   "cell_type": "code",
   "execution_count": null,
   "id": "a0196ddd-b970-422c-9941-201c812d64b4",
   "metadata": {},
   "outputs": [],
   "source": []
  }
 ],
 "metadata": {
  "kernelspec": {
   "display_name": "Python 3 (ipykernel)",
   "language": "python",
   "name": "python3"
  },
  "language_info": {
   "codemirror_mode": {
    "name": "ipython",
    "version": 3
   },
   "file_extension": ".py",
   "mimetype": "text/x-python",
   "name": "python",
   "nbconvert_exporter": "python",
   "pygments_lexer": "ipython3",
   "version": "3.8.6"
  }
 },
 "nbformat": 4,
 "nbformat_minor": 5
}
