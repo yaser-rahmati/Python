{
 "cells": [
  {
   "cell_type": "markdown",
   "id": "271f6eb7-954c-49be-9136-72fbabe2899c",
   "metadata": {},
   "source": [
    "## Resistive Voltage Divider\n",
    "The simplest, easiest to understand, and most basic form of a passive voltage divider network is that of **two resistors connected together in series**. This basic combination allows us to use the Voltage Divider Rule to calculate the voltage drops across each series resistor.\n",
    "\n",
    "![alt text](https://files.gitbook.com/v0/b/gitbook-x-prod.appspot.com/o/spaces%2F-M2g31CUvdCruJm660Ot%2Fuploads%2FAZcixALMuxiQbr4T1XiQ%2F955.gif?alt=media&token=3605a357-d32f-4b3d-9c0a-eb36020802bd \"Resistive Voltage Divider\")\n",
    "\n",
    "Here the circuit consists of two resistors connected together in series: **R1**, and **R2**. Since the two resistors are connected in series, it must therefore follow that the same value of electric current must flow  through each resistive element of the circuit as it has nowhere else to go. Thus providing an **IR** voltage drop across each resistive element.\n",
    "\n",
    "With a supply or source voltage, **V<sub>S</sub>** applied across this series combination, we can apply **Kirchhoff’s Voltage Law, (KVL)** and also using **Ohm’s Law** to find the voltage dropped across each resistor derived in terms of the common current, I flowing through them. So solving for the current (I) flowing through the series network gives us:\n",
    "\n",
    "$$ V_{s}=V_{R1}+V_{R2}=I\\times R_{1}+I\\times R_{2}\\Rightarrow I=\\frac{V_{s}}{R_{1}+R_{2}} $$\n",
    "\n",
    "Hence, we can calculate the voltage dropped across resistor, **R2** in the above series circuit as being:\n",
    "\n",
    "$$ V_{O}=\\frac{R_{2}}{R_{1}+R_{2}}V_{s} $$\n",
    "\n",
    "## Source Code"
   ]
  },
  {
   "cell_type": "code",
   "execution_count": 13,
   "id": "1df7ae56-3337-4ab1-90a8-80527cc5f205",
   "metadata": {},
   "outputs": [
    {
     "name": "stdout",
     "output_type": "stream",
     "text": [
      "I =  0.001\n",
      "Vout =  3.0\n"
     ]
    }
   ],
   "source": [
    "# input voltage\n",
    "Vsrc = 5\n",
    "\n",
    "# initialize resistor values in ohm\n",
    "R1 = 2000 \n",
    "R2 = 3000\n",
    "\n",
    "# voltage dropped across resistor, R2\n",
    "I = Vsrc/(R1+R2)\n",
    "Vout=I*R2\n",
    "print(\"I = \" , I)\n",
    "print(\"Vout = \" , Vout)\n"
   ]
  },
  {
   "cell_type": "code",
   "execution_count": null,
   "id": "2ebd211c-2fec-4519-9846-dc0b28583cf7",
   "metadata": {},
   "outputs": [],
   "source": []
  }
 ],
 "metadata": {
  "kernelspec": {
   "display_name": "Python 3 (ipykernel)",
   "language": "python",
   "name": "python3"
  },
  "language_info": {
   "codemirror_mode": {
    "name": "ipython",
    "version": 3
   },
   "file_extension": ".py",
   "mimetype": "text/x-python",
   "name": "python",
   "nbconvert_exporter": "python",
   "pygments_lexer": "ipython3",
   "version": "3.8.6"
  }
 },
 "nbformat": 4,
 "nbformat_minor": 5
}
