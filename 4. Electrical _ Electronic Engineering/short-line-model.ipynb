{
 "cells": [
  {
   "cell_type": "markdown",
   "id": "d834789a",
   "metadata": {
    "_cell_guid": "b1076dfc-b9ad-4769-8c92-a6c4dae69d19",
    "_uuid": "8f2839f25d086af736a60e9eeb907d3b93b6e0e5",
    "papermill": {
     "duration": 0.018801,
     "end_time": "2022-01-09T22:11:04.762537",
     "exception": false,
     "start_time": "2022-01-09T22:11:04.743736",
     "status": "completed"
    },
    "tags": []
   },
   "source": [
    "## Overview\n",
    "The capacitance may often be ignored without much error if the lines are** less than about 80 km** (50 miles) long, or if the **voltage is not over 69 kV**. The short line model is obtained by multiplying the series impedance per unit length by the line length.\n",
    "\n",
    "$$Z=(r+jwL)l = R + jX$$\n",
    "\n",
    "where *r* and *L* are the **per-phase resistance** and **inductance per unit length**, respectively, and l is the line length. The short line model on a per-phase basis is shown in Figure below.\n",
    "\n",
    "![](https://files.gitbook.com/v0/b/gitbook-28427.appspot.com/o/assets%2F-M2g31CUvdCruJm660Ot%2F-MdSrDhE9RtdVqp8188W%2F-MdSsPXMlMMqz9uOiiMy%2F708.png?alt=media&token=956a5c6b-1ef6-44c9-9fb7-3aa01169267f)\n",
    "\n",
    "If a **three-phase load** with apparent power is connected at the end of the transmission line, the receiving end current is obtained by:\n",
    "\n",
    "$$I_{R}=\\frac{S^{*}_{R(3\\Phi)}}{3V^{*}_{R}}$$\n",
    "\n",
    "The **phase voltage** at the sending end is:\n",
    "\n",
    "$$V_{S} = V_{R} + ZI_{R}$$\n",
    "\n",
    "and since the shunt capacitance is neglected by the two-port network as shown in Figure below and the above equations can be written in terms of the generalized circuit constants commonly known as the ABCD constants:\n",
    "\n",
    "![](https://files.gitbook.com/v0/b/gitbook-28427.appspot.com/o/assets%2F-M2g31CUvdCruJm660Ot%2F-MdSuSkUIZQZ5g1b0nRq%2F-MdSvbTDm7ayzpbryBcd%2F709.png?alt=media&token=f271f09c-ab47-4e0b-859c-f325dd5f48e4)\n",
    "\n",
    "$$\\left\\{\\begin{matrix}V_{S} = AV_{R} + BI_{R}\\\\I_{S} = CV_{R} + DI_{R}\\end{matrix}\\right.$$\n",
    "\n",
    "For the short line model, we have:\n",
    "\n",
    "$$\\begin{bmatrix}V_{S}\\\\ I_{S}\\end{bmatrix} = \\begin{bmatrix}A & B\\\\C & D\\end{bmatrix}\\begin{bmatrix}V_{R}\\\\ I_{R}\\end{bmatrix}$$\n",
    "\n",
    "For the short line model, we have:\n",
    "\n",
    "$$\\begin{bmatrix}V_{S}\\\\ I_{S}\\end{bmatrix} = \\begin{bmatrix}1 & Z\\\\0 & 1\\end{bmatrix}\\begin{bmatrix}V_{R}\\\\ I_{R}\\end{bmatrix}$$"
   ]
  },
  {
   "cell_type": "markdown",
   "id": "ea8485b8",
   "metadata": {
    "papermill": {
     "duration": 0.017187,
     "end_time": "2022-01-09T22:11:04.797813",
     "exception": false,
     "start_time": "2022-01-09T22:11:04.780626",
     "status": "completed"
    },
    "tags": []
   },
   "source": [
    "## Example\n",
    "A 220-kV, three-phase transmission line is 40 km long. The resistance per phase is 0.15 Ω per km and the inductance per phase is 1.3263 mH per km. The shunt capacitance is negligible. Use the short line model to find the voltage and power at the sending end and the voltage regulation and efficiency when the line is supplying a three-phase load of 381 MVA at 0.8 power factor lagging at 220 kV."
   ]
  },
  {
   "cell_type": "markdown",
   "id": "d37875cc",
   "metadata": {
    "papermill": {
     "duration": 0.017211,
     "end_time": "2022-01-09T22:11:04.834932",
     "exception": false,
     "start_time": "2022-01-09T22:11:04.817721",
     "status": "completed"
    },
    "tags": []
   },
   "source": [
    "## 1. Import library"
   ]
  },
  {
   "cell_type": "code",
   "execution_count": 1,
   "id": "198b8db7",
   "metadata": {
    "execution": {
     "iopub.execute_input": "2022-01-09T22:11:04.881674Z",
     "iopub.status.busy": "2022-01-09T22:11:04.880340Z",
     "iopub.status.idle": "2022-01-09T22:11:04.887827Z",
     "shell.execute_reply": "2022-01-09T22:11:04.888452Z",
     "shell.execute_reply.started": "2021-11-09T09:39:56.364979Z"
    },
    "papermill": {
     "duration": 0.036089,
     "end_time": "2022-01-09T22:11:04.888817",
     "exception": false,
     "start_time": "2022-01-09T22:11:04.852728",
     "status": "completed"
    },
    "tags": []
   },
   "outputs": [],
   "source": [
    "import numpy as np"
   ]
  },
  {
   "cell_type": "markdown",
   "id": "2367a85b",
   "metadata": {
    "papermill": {
     "duration": 0.018217,
     "end_time": "2022-01-09T22:11:04.925886",
     "exception": false,
     "start_time": "2022-01-09T22:11:04.907669",
     "status": "completed"
    },
    "tags": []
   },
   "source": [
    "## 2. Data entry"
   ]
  },
  {
   "cell_type": "code",
   "execution_count": 2,
   "id": "ee02ffe9",
   "metadata": {
    "execution": {
     "iopub.execute_input": "2022-01-09T22:11:04.967169Z",
     "iopub.status.busy": "2022-01-09T22:11:04.966018Z",
     "iopub.status.idle": "2022-01-09T22:11:04.969267Z",
     "shell.execute_reply": "2022-01-09T22:11:04.968669Z",
     "shell.execute_reply.started": "2021-11-09T09:39:56.371484Z"
    },
    "papermill": {
     "duration": 0.026082,
     "end_time": "2022-01-09T22:11:04.969421",
     "exception": false,
     "start_time": "2022-01-09T22:11:04.943339",
     "status": "completed"
    },
    "tags": []
   },
   "outputs": [],
   "source": [
    "r = 0.15    # ohm per km\n",
    "l = 1.3263  # milli-henry\n",
    "f = 60      # frequncy in Hz\n",
    "length = 40 # in terms of km\n",
    "pf = 0.8    # power factor\n",
    "vrl2l = 220 # kV"
   ]
  },
  {
   "cell_type": "markdown",
   "id": "ea2775b5",
   "metadata": {
    "papermill": {
     "duration": 0.017356,
     "end_time": "2022-01-09T22:11:05.004107",
     "exception": false,
     "start_time": "2022-01-09T22:11:04.986751",
     "status": "completed"
    },
    "tags": []
   },
   "source": [
    "## 3. Series impedance per phase"
   ]
  },
  {
   "cell_type": "code",
   "execution_count": 3,
   "id": "4132e5b6",
   "metadata": {
    "execution": {
     "iopub.execute_input": "2022-01-09T22:11:05.046522Z",
     "iopub.status.busy": "2022-01-09T22:11:05.045346Z",
     "iopub.status.idle": "2022-01-09T22:11:05.049332Z",
     "shell.execute_reply": "2022-01-09T22:11:05.050004Z",
     "shell.execute_reply.started": "2021-11-09T09:39:56.386606Z"
    },
    "papermill": {
     "duration": 0.02739,
     "end_time": "2022-01-09T22:11:05.050213",
     "exception": false,
     "start_time": "2022-01-09T22:11:05.022823",
     "status": "completed"
    },
    "tags": []
   },
   "outputs": [
    {
     "name": "stdout",
     "output_type": "stream",
     "text": [
      "The series impedance per phase :  (6+20.000132814989485j)  ohm\n"
     ]
    }
   ],
   "source": [
    "# series impedance per phase : Z=(r+jwL)l\n",
    "# w = 2*pi*frequency\n",
    "Z = complex(r*length , 2*np.pi*f*l*length*0.001)\n",
    "print('The series impedance per phase : ' , Z , ' ohm')"
   ]
  },
  {
   "cell_type": "markdown",
   "id": "903cf180",
   "metadata": {
    "papermill": {
     "duration": 0.018026,
     "end_time": "2022-01-09T22:11:05.086476",
     "exception": false,
     "start_time": "2022-01-09T22:11:05.068450",
     "status": "completed"
    },
    "tags": []
   },
   "source": [
    "## 4. Receiving end voltage per phase"
   ]
  },
  {
   "cell_type": "code",
   "execution_count": 4,
   "id": "ed644c9b",
   "metadata": {
    "execution": {
     "iopub.execute_input": "2022-01-09T22:11:05.129968Z",
     "iopub.status.busy": "2022-01-09T22:11:05.128928Z",
     "iopub.status.idle": "2022-01-09T22:11:05.132756Z",
     "shell.execute_reply": "2022-01-09T22:11:05.133634Z",
     "shell.execute_reply.started": "2021-11-09T09:39:56.403099Z"
    },
    "papermill": {
     "duration": 0.028568,
     "end_time": "2022-01-09T22:11:05.133933",
     "exception": false,
     "start_time": "2022-01-09T22:11:05.105365",
     "status": "completed"
    },
    "tags": []
   },
   "outputs": [
    {
     "name": "stdout",
     "output_type": "stream",
     "text": [
      "The receiving end voltage per phase :  (127.01705922171767+0j) kV\n"
     ]
    }
   ],
   "source": [
    "vr = complex(220/np.sqrt(3) , 0)\n",
    "print('The receiving end voltage per phase : ' , vr , 'kV')"
   ]
  },
  {
   "cell_type": "markdown",
   "id": "22ca9afb",
   "metadata": {
    "papermill": {
     "duration": 0.018546,
     "end_time": "2022-01-09T22:11:05.172730",
     "exception": false,
     "start_time": "2022-01-09T22:11:05.154184",
     "status": "completed"
    },
    "tags": []
   },
   "source": [
    "## 5. Apparent power"
   ]
  },
  {
   "cell_type": "code",
   "execution_count": 5,
   "id": "73afe1fd",
   "metadata": {
    "execution": {
     "iopub.execute_input": "2022-01-09T22:11:05.217231Z",
     "iopub.status.busy": "2022-01-09T22:11:05.213523Z",
     "iopub.status.idle": "2022-01-09T22:11:05.219288Z",
     "shell.execute_reply": "2022-01-09T22:11:05.219915Z",
     "shell.execute_reply.started": "2021-11-09T09:39:56.412837Z"
    },
    "papermill": {
     "duration": 0.027772,
     "end_time": "2022-01-09T22:11:05.220118",
     "exception": false,
     "start_time": "2022-01-09T22:11:05.192346",
     "status": "completed"
    },
    "tags": []
   },
   "outputs": [
    {
     "name": "stdout",
     "output_type": "stream",
     "text": [
      "The apparent power :  (304.8+228.59999999999994j)  MVA\n"
     ]
    }
   ],
   "source": [
    "theta = np.math.acos(pf)\n",
    "sr3ph = 381 * complex(np.cos(theta) , np.sin(theta))\n",
    "print('The apparent power : ' ,sr3ph , ' MVA')"
   ]
  },
  {
   "cell_type": "markdown",
   "id": "c2013eb9",
   "metadata": {
    "papermill": {
     "duration": 0.019567,
     "end_time": "2022-01-09T22:11:05.258892",
     "exception": false,
     "start_time": "2022-01-09T22:11:05.239325",
     "status": "completed"
    },
    "tags": []
   },
   "source": [
    "## 6. Current per phase"
   ]
  },
  {
   "cell_type": "code",
   "execution_count": 6,
   "id": "f7fd0c2a",
   "metadata": {
    "execution": {
     "iopub.execute_input": "2022-01-09T22:11:05.306202Z",
     "iopub.status.busy": "2022-01-09T22:11:05.305091Z",
     "iopub.status.idle": "2022-01-09T22:11:05.309073Z",
     "shell.execute_reply": "2022-01-09T22:11:05.309759Z",
     "shell.execute_reply.started": "2021-11-09T09:39:56.425531Z"
    },
    "papermill": {
     "duration": 0.030518,
     "end_time": "2022-01-09T22:11:05.309975",
     "exception": false,
     "start_time": "2022-01-09T22:11:05.279457",
     "status": "completed"
    },
    "tags": []
   },
   "outputs": [
    {
     "name": "stdout",
     "output_type": "stream",
     "text": [
      "The current per phase :  (799.8925547681723-599.9194160761291j)  A\n"
     ]
    }
   ],
   "source": [
    "ir = 1000 * np.conj(sr3ph)/(3*np.conj(vr))\n",
    "print('The current per phase : ' ,ir , ' A')"
   ]
  },
  {
   "cell_type": "markdown",
   "id": "c05e6201",
   "metadata": {
    "papermill": {
     "duration": 0.018813,
     "end_time": "2022-01-09T22:11:05.347945",
     "exception": false,
     "start_time": "2022-01-09T22:11:05.329132",
     "status": "completed"
    },
    "tags": []
   },
   "source": [
    "## 7. Sending end voltage"
   ]
  },
  {
   "cell_type": "code",
   "execution_count": 7,
   "id": "11efe6ef",
   "metadata": {
    "execution": {
     "iopub.execute_input": "2022-01-09T22:11:05.391828Z",
     "iopub.status.busy": "2022-01-09T22:11:05.388930Z",
     "iopub.status.idle": "2022-01-09T22:11:05.394489Z",
     "shell.execute_reply": "2022-01-09T22:11:05.395063Z",
     "shell.execute_reply.started": "2021-11-09T09:39:56.437323Z"
    },
    "papermill": {
     "duration": 0.028108,
     "end_time": "2022-01-09T22:11:05.395252",
     "exception": false,
     "start_time": "2022-01-09T22:11:05.367144",
     "status": "completed"
    },
    "tags": []
   },
   "outputs": [
    {
     "name": "stdout",
     "output_type": "stream",
     "text": [
      "The sending end voltage :  (143.81488255014023+12.39844083662792j)  kV\n"
     ]
    }
   ],
   "source": [
    "vs = vr + Z*ir*0.001\n",
    "print('The sending end voltage : ' , vs , ' kV')"
   ]
  },
  {
   "cell_type": "markdown",
   "id": "2640dfff",
   "metadata": {
    "papermill": {
     "duration": 0.01924,
     "end_time": "2022-01-09T22:11:05.433794",
     "exception": false,
     "start_time": "2022-01-09T22:11:05.414554",
     "status": "completed"
    },
    "tags": []
   },
   "source": [
    "## 8. Sending end line-to-line voltage magnitude"
   ]
  },
  {
   "cell_type": "code",
   "execution_count": 8,
   "id": "1b3a55fc",
   "metadata": {
    "execution": {
     "iopub.execute_input": "2022-01-09T22:11:05.475811Z",
     "iopub.status.busy": "2022-01-09T22:11:05.475161Z",
     "iopub.status.idle": "2022-01-09T22:11:05.480751Z",
     "shell.execute_reply": "2022-01-09T22:11:05.481554Z",
     "shell.execute_reply.started": "2021-11-09T09:39:56.450069Z"
    },
    "papermill": {
     "duration": 0.028714,
     "end_time": "2022-01-09T22:11:05.481818",
     "exception": false,
     "start_time": "2022-01-09T22:11:05.453104",
     "status": "completed"
    },
    "tags": []
   },
   "outputs": [
    {
     "name": "stdout",
     "output_type": "stream",
     "text": [
      "The sending end line-to-line voltage magnitude :  250.01864997289695  kV\n"
     ]
    }
   ],
   "source": [
    "vsl2l = np.sqrt(3)*abs(vs)\n",
    "print('The sending end line-to-line voltage magnitude : ' , vsl2l , ' kV')"
   ]
  },
  {
   "cell_type": "markdown",
   "id": "802d045e",
   "metadata": {
    "papermill": {
     "duration": 0.021453,
     "end_time": "2022-01-09T22:11:05.523359",
     "exception": false,
     "start_time": "2022-01-09T22:11:05.501906",
     "status": "completed"
    },
    "tags": []
   },
   "source": [
    "## 9. Voltage regulation"
   ]
  },
  {
   "cell_type": "code",
   "execution_count": 9,
   "id": "9d85b4cb",
   "metadata": {
    "execution": {
     "iopub.execute_input": "2022-01-09T22:11:05.577478Z",
     "iopub.status.busy": "2022-01-09T22:11:05.576679Z",
     "iopub.status.idle": "2022-01-09T22:11:05.581637Z",
     "shell.execute_reply": "2022-01-09T22:11:05.582498Z",
     "shell.execute_reply.started": "2021-11-09T09:39:56.463527Z"
    },
    "papermill": {
     "duration": 0.039313,
     "end_time": "2022-01-09T22:11:05.582778",
     "exception": false,
     "start_time": "2022-01-09T22:11:05.543465",
     "status": "completed"
    },
    "tags": []
   },
   "outputs": [
    {
     "name": "stdout",
     "output_type": "stream",
     "text": [
      "The voltage requlation :  13.644840896771342  %\n"
     ]
    }
   ],
   "source": [
    "vreg = (abs(vsl2l)-abs(vrl2l))*100/abs(vrl2l)\n",
    "print('The voltage requlation : ' , vreg , ' %')"
   ]
  },
  {
   "cell_type": "markdown",
   "id": "37c9f6fb",
   "metadata": {
    "papermill": {
     "duration": 0.033038,
     "end_time": "2022-01-09T22:11:05.637368",
     "exception": false,
     "start_time": "2022-01-09T22:11:05.604330",
     "status": "completed"
    },
    "tags": []
   },
   "source": [
    "## 10. Sending end power"
   ]
  },
  {
   "cell_type": "code",
   "execution_count": 10,
   "id": "091939e6",
   "metadata": {
    "execution": {
     "iopub.execute_input": "2022-01-09T22:11:05.696974Z",
     "iopub.status.busy": "2022-01-09T22:11:05.696225Z",
     "iopub.status.idle": "2022-01-09T22:11:05.700706Z",
     "shell.execute_reply": "2022-01-09T22:11:05.699559Z",
     "shell.execute_reply.started": "2021-11-09T09:39:56.474613Z"
    },
    "papermill": {
     "duration": 0.039214,
     "end_time": "2022-01-09T22:11:05.700980",
     "exception": false,
     "start_time": "2022-01-09T22:11:05.661766",
     "status": "completed"
    },
    "tags": []
   },
   "outputs": [
    {
     "name": "stdout",
     "output_type": "stream",
     "text": [
      "The sending end power :  (322.79516528925615+288.58428263546864j)  MVA\n"
     ]
    }
   ],
   "source": [
    "ss3ph = 0.001*3*vs*np.conj(ir)\n",
    "print('The sending end power : ' , ss3ph , ' MVA')"
   ]
  },
  {
   "cell_type": "markdown",
   "id": "78573f00",
   "metadata": {
    "papermill": {
     "duration": 0.020306,
     "end_time": "2022-01-09T22:11:05.743245",
     "exception": false,
     "start_time": "2022-01-09T22:11:05.722939",
     "status": "completed"
    },
    "tags": []
   },
   "source": [
    "## 11. Transmission line efficiency"
   ]
  },
  {
   "cell_type": "code",
   "execution_count": 11,
   "id": "a6392ad3",
   "metadata": {
    "execution": {
     "iopub.execute_input": "2022-01-09T22:11:05.788952Z",
     "iopub.status.busy": "2022-01-09T22:11:05.788251Z",
     "iopub.status.idle": "2022-01-09T22:11:05.791403Z",
     "shell.execute_reply": "2022-01-09T22:11:05.791994Z",
     "shell.execute_reply.started": "2021-11-09T09:39:56.488605Z"
    },
    "papermill": {
     "duration": 0.028633,
     "end_time": "2022-01-09T22:11:05.792184",
     "exception": false,
     "start_time": "2022-01-09T22:11:05.763551",
     "status": "completed"
    },
    "tags": []
   },
   "outputs": [
    {
     "name": "stdout",
     "output_type": "stream",
     "text": [
      "The transmission line efficiency :  94.42520606740479  %\n"
     ]
    }
   ],
   "source": [
    "eff = 100*sr3ph.real/ss3ph.real\n",
    "print('The transmission line efficiency : ' , eff , ' %')"
   ]
  }
 ],
 "metadata": {
  "kernelspec": {
   "display_name": "Python 3",
   "language": "python",
   "name": "python3"
  },
  "language_info": {
   "codemirror_mode": {
    "name": "ipython",
    "version": 3
   },
   "file_extension": ".py",
   "mimetype": "text/x-python",
   "name": "python",
   "nbconvert_exporter": "python",
   "pygments_lexer": "ipython3",
   "version": "3.7.10"
  },
  "papermill": {
   "default_parameters": {},
   "duration": 11.358784,
   "end_time": "2022-01-09T22:11:06.525582",
   "environment_variables": {},
   "exception": null,
   "input_path": "__notebook__.ipynb",
   "output_path": "__notebook__.ipynb",
   "parameters": {},
   "start_time": "2022-01-09T22:10:55.166798",
   "version": "2.3.3"
  }
 },
 "nbformat": 4,
 "nbformat_minor": 5
}
