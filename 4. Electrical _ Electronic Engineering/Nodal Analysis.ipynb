{
 "cells": [
  {
   "cell_type": "markdown",
   "id": "b9740645-8ce5-4db5-9a63-bbcd039667f9",
   "metadata": {},
   "source": [
    "## Nodal Analysis\n",
    "Determine the nodal voltages for the circuit of Figure below, as referenced to the bottom node.\n",
    "\n",
    "![alt text](https://yaser-rahmati.gitbook.io/~/files/v0/b/gitbook-28427.appspot.com/o/assets%2F-M2g31CUvdCruJm660Ot%2F-MdfklWkOyUsuqblxKnM%2F-MdfksAEdFA_qfQmac5s%2F713.png?alt=media&token=d6f6e890-7863-47ce-8a50-747263643375 \"Nodal Analysis\")\n",
    "\n",
    "## 1. Identify the goal of the problem.\n",
    "There are **four nodes** in this circuit. With the bottom node as our reference, we label the other three nodes as shown in Figure below. The circuit has been redrawn for clarity, taking care to identify the two relevant nodes for the 4 Ω resistor.\n",
    "\n",
    "![alt text](https://yaser-rahmati.gitbook.io/~/files/v0/b/gitbook-28427.appspot.com/o/assets%2F-M2g31CUvdCruJm660Ot%2F-MdfoKbA5MDSW49wLjee%2F-MdfpUeCVwHDE01OLkbZ%2F714.png?alt=media&token=fadff00d-2bad-4bd9-8f9f-4bdf0d78dd6c \"Identify the goal of the problem\")\n",
    "\n",
    "## 2. Collect the known information.\n",
    "We have three unknown voltages, **v1**, **v2**, and **v3**. All current sources and resistors have designated values, which are marked on the schematic.\n",
    "\n",
    "## 3. Devise a plan.\n",
    "This problem is well suited to nodal analysis, as three independent KCL equations may be written in terms of the current sources and the current through each resistor.\n",
    "\n",
    "## 4. Construct an appropriate set of equations.\n",
    "We begin by writing a KCL equation for node 1:\n",
    "\n",
    "$$ -8-3=\\frac{V_{1}-V{2}}{3}+\\frac{V_{1}-V{3}}{4} $$\n",
    "\n",
    "or\n",
    "\n",
    "$$ 0.5833V_{1}-0.3333V_{2}-0.25V_{3}=-11 $$\n",
    "\n",
    "nt node 2:\n",
    "\n",
    "$$ -(-3)=\\frac{V_{2}-V_{1}}{3}+\\frac{V_{2}}{1}+\\frac{V_{2}-V_{3}}{7} $$\n",
    "\n",
    "or\n",
    "\n",
    "$$ -0.3333V_{1}+1.4762V_{2}-0.1429V_{3}=3 $$\n",
    "\n",
    "and at node 3:\n",
    "\n",
    "$$ -(-25)=\\frac{V_{3}}{5}+\\frac{V_{3}-V_{2}}{7}+\\frac{V_{3}-V_{1}}{4} $$\n",
    "\n",
    "or\n",
    "\n",
    "$$ -0.25V_{1}-0.1429V_{2}+0.5929V_{3}=25 $$\n",
    "\n",
    "and matrix representation of 3 equations is:\n",
    "\n",
    "$$ \\begin{bmatrix}\n",
    "0.5833&  -0.3333&  -0.25\\\\ \n",
    "-0.3333 &  1.4762& -0.1429 \\\\ \n",
    "-0.25&  -0.1429& 0.5929 \n",
    "\\end{bmatrix}\\begin{bmatrix}\n",
    "V_{1}\\\\ \n",
    "V_{2}\\\\ \n",
    "V_{3}\n",
    "\\end{bmatrix}=\\begin{bmatrix}\n",
    "-11\\\\ \n",
    "3\\\\ \n",
    "25\n",
    "\\end{bmatrix} $$\n",
    "\n",
    "## 5. Python Source Code"
   ]
  },
  {
   "cell_type": "code",
   "execution_count": 3,
   "id": "f47c84ca-fc81-4eff-8e55-5a592ed133e4",
   "metadata": {},
   "outputs": [
    {
     "name": "stdout",
     "output_type": "stream",
     "text": [
      "Z =  [[2.69936213 0.73684092 1.31579541]\n",
      " [0.73684092 0.89473186 0.52634072]\n",
      " [1.31579541 0.52634072 2.36829641]]\n",
      "V =  [[ 5.41242462]\n",
      " [ 7.73746342]\n",
      " [46.31268288]]\n"
     ]
    }
   ],
   "source": [
    "import numpy as np\n",
    "Y = np.array([[0.5833, -0.3333, -0.25],\n",
    "              [-0.3333, 1.4762, -0.1429],\n",
    "              [-0.25, -0.1429, 0.5929]])\n",
    "I = np.array([[-11],[3], [25]])\n",
    "Z=np.linalg.inv(Y)\n",
    "print('Z = ' , Z)\n",
    "print('V = ' , np.dot(Z,I))"
   ]
  },
  {
   "cell_type": "markdown",
   "id": "bb684346-fb68-4e91-b377-00f9c6158132",
   "metadata": {},
   "source": [
    "## 6. Solution\n",
    "| V1 | V2 | V3 |\n",
    "| --- | --- | --- |\n",
    "| 5.41242462 | 7.73746342 | 46.31268288 |"
   ]
  }
 ],
 "metadata": {
  "kernelspec": {
   "display_name": "Python 3 (ipykernel)",
   "language": "python",
   "name": "python3"
  },
  "language_info": {
   "codemirror_mode": {
    "name": "ipython",
    "version": 3
   },
   "file_extension": ".py",
   "mimetype": "text/x-python",
   "name": "python",
   "nbconvert_exporter": "python",
   "pygments_lexer": "ipython3",
   "version": "3.8.6"
  }
 },
 "nbformat": 4,
 "nbformat_minor": 5
}
