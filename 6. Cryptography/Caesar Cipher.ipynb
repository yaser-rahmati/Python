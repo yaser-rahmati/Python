{
 "cells": [
  {
   "cell_type": "markdown",
   "id": "00c08d4b-ab1f-4757-a840-8d5a57e3aa46",
   "metadata": {},
   "source": [
    "## Caesar Cipher\n",
    "\n",
    "In cryptography, a **Caesar cipher**, also known as **Caesar's cipher**, the **shift cipher**, **Caesar's code** or **Caesar shift**, is one of the simplest and most widely known encryption techniques. It is a type of substitution cipher in which each letter in the plaintext is replaced by a letter some fixed number of positions down the alphabet. For example, with a left shift of $3$, $D$ would be replaced by $A$, $E$ would become $B$, and so on. The method is named after **Julius Caesar**, who used it in his private correspondence\n",
    "\n",
    "## Methodology"
   ]
  },
  {
   "cell_type": "code",
   "execution_count": 14,
   "id": "a9546f78-a5c6-41eb-92da-1d2674e92271",
   "metadata": {},
   "outputs": [
    {
     "name": "stdin",
     "output_type": "stream",
     "text": [
      "Enter a string:  ABCD\n"
     ]
    },
    {
     "name": "stdout",
     "output_type": "stream",
     "text": [
      "Encrypted text is: DEFG\n"
     ]
    }
   ],
   "source": [
    "alphabets = \"ABCDEFGHIJKLMNOPQRSTUVWXYZ\"\n",
    "\n",
    "string_input = input(\"Enter a string: \")\n",
    "\n",
    "input_length = len(string_input)\n",
    "\n",
    "string_output = \"\"\n",
    "\n",
    "for i in range(input_length):\n",
    "    character = string_input[i]\n",
    "    location_of_character = alphabets.find(character)\n",
    "    new_location = location_of_character + 3\n",
    "    string_output += alphabets[new_location]\n",
    "\n",
    "print(\"Encrypted text is:\", string_output)"
   ]
  },
  {
   "cell_type": "markdown",
   "id": "6f149566-ff7e-4fb2-a0b9-77eadd5e4e4a",
   "metadata": {},
   "source": [
    "## Example\n",
    "\n",
    "The transformation can be represented by aligning two alphabets; the cipher alphabet is the plain alphabet rotated left or right by some number of positions. For instance, here is a Caesar cipher using a left rotation of three places, equivalent to a right shift of 23 (the shift parameter is used as the key):\n",
    "\n",
    "![alt text](https://4137876152-files.gitbook.io/~/files/v0/b/gitbook-x-prod.appspot.com/o/spaces%2F-M2g31CUvdCruJm660Ot%2Fuploads%2Fkg5L6BqIsmdtL49UO64v%2F959.png?alt=media&token=e342aeb3-d462-43cc-9265-910ed9141238 \"Caesar Cipher\")\n",
    "\n",
    "When encrypting, a person looks up each letter of the message in the \"plain\" line and writes down the corresponding letter in the \"cipher\" line.\n",
    "\n",
    "|  |  |\n",
    "| --- | --- |\n",
    "| Plaintext | THE QUICK BROWN FOX JUMPS OVER THE LAZY DOG |\n",
    "| Ciphertext | QEB NRFZH YOLTK CLU GRJMP LSBO QEB IXWV ALD |\n",
    "\n",
    "Deciphering is done in reverse, with a right shift of 3.\n",
    "\n",
    "The encryption can also be represented using modular arithmetic by first transforming the letters into numbers, according to the scheme, $A → 0$, $B → 1$, ..., $Z → 25$. \n",
    "\n",
    "Encryption of a letter $x$ by a shift $n$ can be described mathematically as,\n",
    "\n",
    "$$ E_{n}(x)=(x+n) \\quad \\textrm{mod} \\quad 26 $$\n",
    "\n",
    "Decryption is performed similarly,\n",
    "\n",
    "$$ D_{n}(x)=(x-n) \\quad \\textrm{mod} \\quad 26 $$\n",
    "\n",
    "(There are different definitions for the modulo operation. In the above, the result is in the range $0$ to $25$; i.e., if $x + n$ or $x − n$ are not in the range $0$ to $25$, we have to **subtract** or **add** $26$.)\n",
    "\n",
    "## Upgrade The Previous Program\n",
    "\n",
    "If **new_location** variable is equal or greater than $26$, we have error. So let's fix it."
   ]
  },
  {
   "cell_type": "code",
   "execution_count": 40,
   "id": "f9a0decb-0008-40d8-83bd-0a5017320e48",
   "metadata": {},
   "outputs": [
    {
     "name": "stdin",
     "output_type": "stream",
     "text": [
      "Enter a string:  HELLO RAHMATY ACADEMY\n",
      "Enter a value to shift by:  4\n"
     ]
    },
    {
     "name": "stdout",
     "output_type": "stream",
     "text": [
      "Encrypted text is: LIPPSDVELQEXCDEGEHIQC\n"
     ]
    }
   ],
   "source": [
    "alphabets = \"ABCDEFGHIJKLMNOPQRSTUVWXYZ\"\n",
    "\n",
    "string_input = input(\"Enter a string: \")\n",
    "shift_input = int(input(\"Enter a value to shift by: \"))\n",
    "\n",
    "input_length = len(string_input)\n",
    "\n",
    "string_output = \"\"\n",
    "\n",
    "for i in range(input_length):\n",
    "    character = string_input[i]\n",
    "    location_of_character = alphabets.find(character)\n",
    "    new_location = (location_of_character + shift_input) % 26\n",
    "    string_output += alphabets[new_location]\n",
    "\n",
    "print(\"Encrypted text is:\", string_output)"
   ]
  },
  {
   "cell_type": "markdown",
   "id": "d88d7343-1e2a-4991-959e-e287410eff63",
   "metadata": {},
   "source": [
    "But what about the lowercase characters!!! Let's fix it too. "
   ]
  },
  {
   "cell_type": "code",
   "execution_count": 42,
   "id": "2ccdf621-edc1-47c7-8338-fccf9442608b",
   "metadata": {},
   "outputs": [
    {
     "name": "stdout",
     "output_type": "stream",
     "text": [
      "Plain txt : CEASeR CIPhER EXAmPLE\n",
      "Shift pattern : 4\n",
      "Cipher: HJFXjWsHNUmJWsJCFrUQJ\n"
     ]
    }
   ],
   "source": [
    "def encypt_func(txt, s):  \n",
    "    result = \"\"  \n",
    "  \n",
    "  \n",
    "    # transverse the plain txt  \n",
    "    for i in range(len(txt)):  \n",
    "        char = txt[i]  \n",
    "        # encypt_func uppercase characters in plain txt  \n",
    "  \n",
    "        if (char.isupper()):  \n",
    "            result += chr((ord(char) + s - 64) % 26 + 65)  \n",
    "        # encypt_func lowercase characters in plain txt  \n",
    "        else:  \n",
    "            result += chr((ord(char) + s - 96) % 26 + 97)  \n",
    "    return result  \n",
    "\n",
    "# check the above function  \n",
    "txt = \"CEASeR CIPhER EXAmPLE\"  \n",
    "s = 4  \n",
    "  \n",
    "print(\"Plain txt : \" + txt)  \n",
    "print(\"Shift pattern : \" + str(s))  \n",
    "print(\"Cipher: \" + encypt_func(txt, s))  "
   ]
  },
  {
   "cell_type": "markdown",
   "id": "6405bea1-a437-4cd5-83d3-45a711fe424c",
   "metadata": {},
   "source": [
    "## Hacking of Caesar Cipher Algorithm\n",
    "\n",
    "The cipher text can be hacked with various possibilities. One of such possibility is Brute Force Technique, which involves trying every possible decryption key. This technique does not demand much effort and is relatively simple for a hacker. The program implementation for hacking Caesar cipher algorithm is as follows:"
   ]
  },
  {
   "cell_type": "code",
   "execution_count": 43,
   "id": "a3b4f3cc-f942-4856-b933-e5e1f766ace1",
   "metadata": {},
   "outputs": [
    {
     "name": "stdout",
     "output_type": "stream",
     "text": [
      "Key #0: LIPPS VELQEXC EGEHIQC\n",
      "Key #1: KHOOR UDKPDWB DFDGHPB\n",
      "Key #2: JGNNQ TCJOCVA CECFGOA\n",
      "Key #3: IFMMP SBINBUZ BDBEFNZ\n",
      "Key #4: HELLO RAHMATY ACADEMY\n",
      "Key #5: GDKKN QZGLZSX ZBZCDLX\n",
      "Key #6: FCJJM PYFKYRW YAYBCKW\n",
      "Key #7: EBIIL OXEJXQV XZXABJV\n",
      "Key #8: DAHHK NWDIWPU WYWZAIU\n",
      "Key #9: CZGGJ MVCHVOT VXVYZHT\n",
      "Key #10: BYFFI LUBGUNS UWUXYGS\n",
      "Key #11: AXEEH KTAFTMR TVTWXFR\n",
      "Key #12: ZWDDG JSZESLQ SUSVWEQ\n",
      "Key #13: YVCCF IRYDRKP RTRUVDP\n",
      "Key #14: XUBBE HQXCQJO QSQTUCO\n",
      "Key #15: WTAAD GPWBPIN PRPSTBN\n",
      "Key #16: VSZZC FOVAOHM OQORSAM\n",
      "Key #17: URYYB ENUZNGL NPNQRZL\n",
      "Key #18: TQXXA DMTYMFK MOMPQYK\n",
      "Key #19: SPWWZ CLSXLEJ LNLOPXJ\n",
      "Key #20: ROVVY BKRWKDI KMKNOWI\n",
      "Key #21: QNUUX AJQVJCH JLJMNVH\n",
      "Key #22: PMTTW ZIPUIBG IKILMUG\n",
      "Key #23: OLSSV YHOTHAF HJHKLTF\n",
      "Key #24: NKRRU XGNSGZE GIGJKSE\n",
      "Key #25: MJQQT WFMRFYD FHFIJRD\n"
     ]
    }
   ],
   "source": [
    "# Caesar Cipher Hacker\n",
    "\n",
    "message = 'LIPPS VELQEXC EGEHIQC'\n",
    "LETTERS = 'ABCDEFGHIJKLMNOPQRSTUVWXYZ'\n",
    "\n",
    "# loop through every possible key\n",
    "for key in range(len(LETTERS)):\n",
    "\n",
    "    # It is important to set translated to the blank string so that the\n",
    "    # previous iteration's value for translated is cleared.\n",
    "    translated = ''\n",
    "\n",
    "    # The rest of the program is the same as the original Caesar program:\n",
    "\n",
    "    # run the encryption/decryption code on each symbol in the message\n",
    "    for symbol in message:\n",
    "        if symbol in LETTERS:\n",
    "            num = LETTERS.find(symbol) # get the number of the symbol\n",
    "            num = num - key\n",
    "\n",
    "            # handle the wrap-around if num is 26 or larger or less than 0\n",
    "            if num < 0:\n",
    "                num = num + len(LETTERS)\n",
    "\n",
    "            # add number's symbol at the end of translated\n",
    "            translated = translated + LETTERS[num]\n",
    "\n",
    "        else:\n",
    "            # just add the symbol without encrypting/decrypting\n",
    "            translated = translated + symbol\n",
    "\n",
    "    # display the current key being tested, along with its decryption\n",
    "    print('Key #%s: %s' % (key, translated)) "
   ]
  },
  {
   "cell_type": "code",
   "execution_count": null,
   "id": "e750ae80-ef11-4159-8855-3a1caf3bcff5",
   "metadata": {},
   "outputs": [],
   "source": []
  }
 ],
 "metadata": {
  "kernelspec": {
   "display_name": "Python 3 (ipykernel)",
   "language": "python",
   "name": "python3"
  },
  "language_info": {
   "codemirror_mode": {
    "name": "ipython",
    "version": 3
   },
   "file_extension": ".py",
   "mimetype": "text/x-python",
   "name": "python",
   "nbconvert_exporter": "python",
   "pygments_lexer": "ipython3",
   "version": "3.8.6"
  }
 },
 "nbformat": 4,
 "nbformat_minor": 5
}
