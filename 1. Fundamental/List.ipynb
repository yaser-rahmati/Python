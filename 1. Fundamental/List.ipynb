{
 "cells": [
  {
   "cell_type": "markdown",
   "id": "74d2e338-5ac5-4091-9b16-a7b1bc901e98",
   "metadata": {},
   "source": [
    "## List\n",
    "Lists are used to store **multiple items** in a **single variable**. Lists are created using **square brackets**."
   ]
  },
  {
   "cell_type": "code",
   "execution_count": 2,
   "id": "068c08da-37dc-4684-9f59-240f462ffe1c",
   "metadata": {},
   "outputs": [
    {
     "name": "stdout",
     "output_type": "stream",
     "text": [
      "['Yaser', 'Mohammad', 'Ali']\n"
     ]
    }
   ],
   "source": [
    "myListName = [\"Yaser\", \"Mohammad\", \"Ali\"]\n",
    "print(myListName)"
   ]
  },
  {
   "cell_type": "markdown",
   "id": "2d3982fe-f367-4bc1-9768-f1ae528b3383",
   "metadata": {},
   "source": [
    "Lists are one of **4** built-in data types in Python used to store **collections of data**, the other 3 are **Tuple**, **Set**, and **Dictionary**, all with different qualities and usage."
   ]
  },
  {
   "cell_type": "code",
   "execution_count": 6,
   "id": "8a8c8742-3250-4b1f-9079-3375891ec0f8",
   "metadata": {},
   "outputs": [
    {
     "name": "stdout",
     "output_type": "stream",
     "text": [
      "<class 'list'>\n",
      "<class 'tuple'>\n",
      "<class 'set'>\n",
      "<class 'dict'>\n"
     ]
    }
   ],
   "source": [
    "mylist = [\"Yaser\", \"Mohammad\", \"Ali\"]\n",
    "print(type(mylist))\n",
    "\n",
    "mytuple = (\"Yaser\", \"Mohammad\", \"Ali\")\n",
    "print(type(mytuple))\n",
    "\n",
    "myset = {\"Yaser\", \"Mohammad\", \"Ali\"}\n",
    "print(type(myset))\n",
    "\n",
    "thisdict = {\"brand\": \"BMW\", \"model\": \"iX3\", \"year\": 2022}\n",
    "print(type(thisdict))"
   ]
  },
  {
   "cell_type": "markdown",
   "id": "b302a9a9-3d3a-461a-9023-8538f307f288",
   "metadata": {},
   "source": [
    "List items are indexed, the first item has index **[0]**, the second item has index **[1]** etc."
   ]
  },
  {
   "cell_type": "code",
   "execution_count": 7,
   "id": "2a7730d5-09b4-4aaf-a691-11f926b14ec0",
   "metadata": {},
   "outputs": [
    {
     "name": "stdout",
     "output_type": "stream",
     "text": [
      "Yaser\n",
      "Ali\n"
     ]
    }
   ],
   "source": [
    "myListName = [\"Yaser\", \"Mohammad\", \"Ali\"]\n",
    "print(myListName[0])\n",
    "print(myListName[2])"
   ]
  },
  {
   "cell_type": "markdown",
   "id": "04c3290e-b5b5-40a6-b652-2907213ba6bd",
   "metadata": {},
   "source": [
    "Negative indexing means start from the end. **-1** refers to the last item, **-2** refers to the second last item etc."
   ]
  },
  {
   "cell_type": "code",
   "execution_count": 8,
   "id": "bb0d7759-3f2a-42f0-b375-d7ecc5ed1d9a",
   "metadata": {},
   "outputs": [
    {
     "name": "stdout",
     "output_type": "stream",
     "text": [
      "Ali\n",
      "Yaser\n"
     ]
    }
   ],
   "source": [
    "myListName = [\"Yaser\", \"Mohammad\", \"Ali\"]\n",
    "print(myListName[-1])\n",
    "print(myListName[-3])"
   ]
  },
  {
   "cell_type": "markdown",
   "id": "1accff83-5eb3-4f6e-82ed-8ee0517e8868",
   "metadata": {},
   "source": [
    "You can specify a range of indexes by specifying **where to start** and **where to end** the range. When specifying a range, the return value will be a **new list** with the specified items."
   ]
  },
  {
   "cell_type": "code",
   "execution_count": 11,
   "id": "c5a9cc2c-fbb1-499a-8f92-99c3767d2265",
   "metadata": {},
   "outputs": [
    {
     "name": "stdout",
     "output_type": "stream",
     "text": [
      "['c', 'd']\n"
     ]
    }
   ],
   "source": [
    "myList = ['a' , 'b' , 'c' , 'd' , 'e']\n",
    "print(myList[2:4])"
   ]
  },
  {
   "cell_type": "markdown",
   "id": "4eef23c5-3dca-444c-9dad-b4453a783819",
   "metadata": {},
   "source": [
    "By leaving out the start value, the range will start at the first item:"
   ]
  },
  {
   "cell_type": "code",
   "execution_count": 12,
   "id": "7f031aa3-2522-4d95-a3ab-44eda4710452",
   "metadata": {},
   "outputs": [
    {
     "name": "stdout",
     "output_type": "stream",
     "text": [
      "['a', 'b', 'c', 'd']\n"
     ]
    }
   ],
   "source": [
    "myList = ['a' , 'b' , 'c' , 'd' , 'e']\n",
    "print(myList[:4])"
   ]
  },
  {
   "cell_type": "markdown",
   "id": "6d127ea2-15bf-4b54-afab-d79da1143dc1",
   "metadata": {},
   "source": [
    "By leaving out the end value, the range will go on to the end of the list:"
   ]
  },
  {
   "cell_type": "code",
   "execution_count": 13,
   "id": "746b4279-e9bc-4dc5-84f2-0190f0aa3e29",
   "metadata": {},
   "outputs": [
    {
     "name": "stdout",
     "output_type": "stream",
     "text": [
      "['c', 'd', 'e']\n"
     ]
    }
   ],
   "source": [
    "myList = ['a' , 'b' , 'c' , 'd' , 'e']\n",
    "print(myList[2:])"
   ]
  },
  {
   "cell_type": "markdown",
   "id": "a27e22d3-06be-4abb-9678-e5db32ab003a",
   "metadata": {},
   "source": [
    "To determine how many items a list has, use the **len()** function:"
   ]
  },
  {
   "cell_type": "code",
   "execution_count": 15,
   "id": "88a7e6ac-164e-4b78-8295-db566ce3810e",
   "metadata": {},
   "outputs": [
    {
     "name": "stdout",
     "output_type": "stream",
     "text": [
      "5\n"
     ]
    }
   ],
   "source": [
    "myList = ['a' , 'b' , 'c' , 'd' , 'e']\n",
    "print(len(myList))"
   ]
  },
  {
   "cell_type": "markdown",
   "id": "a124693d-1b29-469c-9a81-976e50931deb",
   "metadata": {},
   "source": [
    "A list can contain **different data types**:"
   ]
  },
  {
   "cell_type": "code",
   "execution_count": 17,
   "id": "edce33c3-d618-4056-ba7f-822dc94b5df5",
   "metadata": {},
   "outputs": [
    {
     "name": "stdout",
     "output_type": "stream",
     "text": [
      "<class 'list'>\n"
     ]
    }
   ],
   "source": [
    "myList = [\"Rahmati\", 38, True, 120, \"Academy\"]\n",
    "print(type(mylist))"
   ]
  },
  {
   "cell_type": "markdown",
   "id": "fd5de54a-71ac-40a5-be1d-a11fad57d901",
   "metadata": {},
   "source": [
    "To change the value of **a specific item**, refer to the index number:"
   ]
  },
  {
   "cell_type": "code",
   "execution_count": 18,
   "id": "8428d635-44ea-4bbe-8589-8239e890b2f6",
   "metadata": {},
   "outputs": [
    {
     "name": "stdout",
     "output_type": "stream",
     "text": [
      "['a', 'b', 'changed', 'd', 'e']\n"
     ]
    }
   ],
   "source": [
    "myList = ['a' , 'b' , 'c' , 'd' , 'e']\n",
    "myList[2] = \"changed\"\n",
    "print(myList)"
   ]
  },
  {
   "cell_type": "markdown",
   "id": "6a8d253e-5c0f-4202-af51-a457820a452b",
   "metadata": {},
   "source": [
    "To change the value of items within a specific range, define a list with the new values, and refer to the range of index numbers where you want to insert the new values:"
   ]
  },
  {
   "cell_type": "code",
   "execution_count": 21,
   "id": "12d928b3-ef28-4614-ba0a-372e9febbafe",
   "metadata": {},
   "outputs": [
    {
     "name": "stdout",
     "output_type": "stream",
     "text": [
      "['Audi', 'Aston Martin', 'Ford', 'Chevrolet', 'Datsun', 'Ferrari']\n"
     ]
    }
   ],
   "source": [
    "carlist = [\"Audi\", \"BMW\", \"Cadillac\", \"Chevrolet\", \"Datsun\", \"Ferrari\"]\n",
    "carlist[1:3] = [\"Aston Martin\", \"Ford\"]\n",
    "print(carlist)"
   ]
  },
  {
   "cell_type": "markdown",
   "id": "c5202b7e-4d3c-4830-a3bb-a48f7d7d4968",
   "metadata": {},
   "source": [
    "If you insert more items than you replace, the new items will be inserted where you specified, and the remaining items will move accordingly:"
   ]
  },
  {
   "cell_type": "code",
   "execution_count": 22,
   "id": "d1f857ea-b109-4387-bcca-6d58662e60ab",
   "metadata": {},
   "outputs": [
    {
     "name": "stdout",
     "output_type": "stream",
     "text": [
      "['Audi', 'Aston Martin', 'Ford', 'Cadillac']\n"
     ]
    }
   ],
   "source": [
    "carlist = [\"Audi\", \"BMW\", \"Cadillac\"]\n",
    "carlist[1:2] = [\"Aston Martin\", \"Ford\"]\n",
    "print(carlist)"
   ]
  },
  {
   "cell_type": "markdown",
   "id": "c43ff512-8389-4a4f-8071-f8d1ee16e969",
   "metadata": {},
   "source": [
    "If you insert less items than you replace, the new items will be inserted where you specified, and the remaining items will move accordingly:"
   ]
  },
  {
   "cell_type": "code",
   "execution_count": 23,
   "id": "4adf07d4-e92a-45d5-9a37-86fe0cfcbb51",
   "metadata": {},
   "outputs": [
    {
     "name": "stdout",
     "output_type": "stream",
     "text": [
      "['Audi', 'Aston Martin']\n"
     ]
    }
   ],
   "source": [
    "carlist = [\"Audi\", \"BMW\", \"Cadillac\"]\n",
    "carlist[1:3] = [\"Aston Martin\"]\n",
    "print(carlist)"
   ]
  },
  {
   "cell_type": "markdown",
   "id": "75afed88-00bc-487d-8db7-8d703e25e98d",
   "metadata": {},
   "source": [
    "List objects have a **sort()** method that will sort the list **alphanumerically**, **ascending**, by default:"
   ]
  },
  {
   "cell_type": "code",
   "execution_count": 26,
   "id": "cd3d3f4e-2d4d-463b-9ac9-df212d4d4fc8",
   "metadata": {},
   "outputs": [
    {
     "name": "stdout",
     "output_type": "stream",
     "text": [
      "['Audi', 'BMW', 'Cadillac', 'Chevrolet', 'Datsun', 'Ferrari']\n",
      "[15, 60, 72, 95, 850]\n"
     ]
    }
   ],
   "source": [
    "# Sort the list alphabetically\n",
    "mylist1 = [\"Audi\", \"BMW\", \"Cadillac\", \"Chevrolet\", \"Datsun\", \"Ferrari\"]\n",
    "mylist1.sort()\n",
    "print(mylist1)\n",
    "\n",
    "# Sort the list numerically\n",
    "mylist2 = [850, 60, 72, 95, 15]\n",
    "mylist2.sort()\n",
    "print(mylist2)"
   ]
  },
  {
   "cell_type": "markdown",
   "id": "dabe7dc4-002f-403c-9af5-9f2dbb71dd72",
   "metadata": {},
   "source": [
    "To sort descending, use the keyword argument **reverse = True**:"
   ]
  },
  {
   "cell_type": "code",
   "execution_count": 27,
   "id": "2b97050f-8a86-4e20-9c61-592e36b6a9aa",
   "metadata": {},
   "outputs": [
    {
     "name": "stdout",
     "output_type": "stream",
     "text": [
      "['Ferrari', 'Datsun', 'Chevrolet', 'Cadillac', 'BMW', 'Audi']\n",
      "[850, 95, 72, 60, 15]\n"
     ]
    }
   ],
   "source": [
    "# Sort the list alphabetically\n",
    "mylist1 = [\"Audi\", \"BMW\", \"Cadillac\", \"Chevrolet\", \"Datsun\", \"Ferrari\"]\n",
    "mylist1.sort(reverse = True)\n",
    "print(mylist1)\n",
    "\n",
    "# Sort the list numerically\n",
    "mylist2 = [850, 60, 72, 95, 15]\n",
    "mylist2.sort(reverse = True)\n",
    "print(mylist2)"
   ]
  },
  {
   "cell_type": "markdown",
   "id": "b7359795-ce92-4e34-9d5f-d82dcbfcc32e",
   "metadata": {},
   "source": [
    "The **insert()** method inserts an item at the specified index:"
   ]
  },
  {
   "cell_type": "code",
   "execution_count": 28,
   "id": "bbfdfa42-9366-43c5-a1a4-f7a49afb2ca9",
   "metadata": {},
   "outputs": [
    {
     "name": "stdout",
     "output_type": "stream",
     "text": [
      "['Audi', 'BMW', 'Datsun', 'Cadillac', 'Chevrolet', 'Ferrari']\n"
     ]
    }
   ],
   "source": [
    "mylist = [\"Audi\", \"BMW\", \"Cadillac\", \"Chevrolet\", \"Ferrari\"]\n",
    "mylist.insert(2, \"Datsun\")\n",
    "print(mylist)"
   ]
  },
  {
   "cell_type": "markdown",
   "id": "22162c3c-0e35-4b8b-8f5a-f4f9cd98c57e",
   "metadata": {},
   "source": [
    "To **add** an item to the **end of the list**, use the **append()** method:"
   ]
  },
  {
   "cell_type": "code",
   "execution_count": 29,
   "id": "b49e42b3-8fd1-42a3-8d8b-026cc63f0741",
   "metadata": {},
   "outputs": [
    {
     "name": "stdout",
     "output_type": "stream",
     "text": [
      "['Audi', 'BMW', 'Cadillac', 'Chevrolet', 'Ferrari', 'Datsun']\n"
     ]
    }
   ],
   "source": [
    "mylist = [\"Audi\", \"BMW\", \"Cadillac\", \"Chevrolet\", \"Ferrari\"]\n",
    "mylist.append(\"Datsun\")\n",
    "print(mylist)"
   ]
  },
  {
   "cell_type": "markdown",
   "id": "fa13d59c-168f-47eb-8b87-001c06fb41bf",
   "metadata": {},
   "source": [
    "To append elements **from another list** to the **current list**, use the **extend()** method."
   ]
  },
  {
   "cell_type": "code",
   "execution_count": 30,
   "id": "0b8ad7cd-9872-4c90-946e-7ace4e379e86",
   "metadata": {},
   "outputs": [
    {
     "name": "stdout",
     "output_type": "stream",
     "text": [
      "['Audi', 'BMW', 'Cadillac', 'Chevrolet', 'Ferrari']\n"
     ]
    }
   ],
   "source": [
    "carlist1 = [\"Audi\", \"BMW\", \"Cadillac\"]\n",
    "carlist2 = [\"Chevrolet\", \"Ferrari\"]\n",
    "carlist1.extend(carlist2)\n",
    "print(carlist1)"
   ]
  },
  {
   "cell_type": "markdown",
   "id": "562e7479-5207-4106-b48f-94e926a7ed77",
   "metadata": {},
   "source": [
    "The **remove()** method removes the specified item."
   ]
  },
  {
   "cell_type": "code",
   "execution_count": 31,
   "id": "cf8baf1b-8dd8-4ed7-ae3d-5c5e7a2e8aec",
   "metadata": {},
   "outputs": [
    {
     "name": "stdout",
     "output_type": "stream",
     "text": [
      "['Audi', 'BMW', 'Chevrolet', 'Ferrari']\n"
     ]
    }
   ],
   "source": [
    "carlist = [\"Audi\", \"BMW\", \"Cadillac\", \"Chevrolet\", \"Ferrari\"]\n",
    "carlist.remove(\"Cadillac\")\n",
    "print(carlist)"
   ]
  },
  {
   "cell_type": "markdown",
   "id": "eee265cf-3abf-4da3-9295-e3ab7d7c19b0",
   "metadata": {},
   "source": [
    "The **pop()** method removes the specified index."
   ]
  },
  {
   "cell_type": "code",
   "execution_count": 32,
   "id": "0f58273e-5dc9-4f5f-827e-0b77c42b6cac",
   "metadata": {},
   "outputs": [
    {
     "name": "stdout",
     "output_type": "stream",
     "text": [
      "['Audi', 'BMW', 'Chevrolet', 'Ferrari']\n"
     ]
    }
   ],
   "source": [
    "carlist = [\"Audi\", \"BMW\", \"Cadillac\", \"Chevrolet\", \"Ferrari\"]\n",
    "carlist.pop(2)\n",
    "print(carlist)"
   ]
  },
  {
   "cell_type": "markdown",
   "id": "4819888a-aaf8-46ec-9a30-7b03d91573b3",
   "metadata": {},
   "source": [
    "If you do not specify the index, the **pop()** method removes **the last item**."
   ]
  },
  {
   "cell_type": "code",
   "execution_count": 33,
   "id": "ebcd991e-75a5-426e-b3cd-19dccb993fa4",
   "metadata": {},
   "outputs": [
    {
     "name": "stdout",
     "output_type": "stream",
     "text": [
      "['Audi', 'BMW', 'Cadillac', 'Chevrolet']\n"
     ]
    }
   ],
   "source": [
    "carlist = [\"Audi\", \"BMW\", \"Cadillac\", \"Chevrolet\", \"Ferrari\"]\n",
    "carlist.pop()\n",
    "print(carlist)"
   ]
  },
  {
   "cell_type": "markdown",
   "id": "32dbbe78-0ab7-4593-ae3e-5d07746bb90f",
   "metadata": {},
   "source": [
    "The **del** keyword also removes the specified index:"
   ]
  },
  {
   "cell_type": "code",
   "execution_count": 34,
   "id": "e84ed0c5-7131-4f56-a2cb-20c987bb5d77",
   "metadata": {},
   "outputs": [
    {
     "name": "stdout",
     "output_type": "stream",
     "text": [
      "['BMW', 'Cadillac', 'Chevrolet', 'Ferrari']\n"
     ]
    }
   ],
   "source": [
    "carlist = [\"Audi\", \"BMW\", \"Cadillac\", \"Chevrolet\", \"Ferrari\"]\n",
    "del carlist[0]\n",
    "print(carlist)"
   ]
  },
  {
   "cell_type": "markdown",
   "id": "396f6f41-e584-4ea7-8940-d03de44cda3f",
   "metadata": {},
   "source": [
    "The **clear()** method empties the list. The list still remains, but it has no content."
   ]
  },
  {
   "cell_type": "code",
   "execution_count": 35,
   "id": "516f8630-952d-40d6-833d-167af463f2b0",
   "metadata": {},
   "outputs": [
    {
     "name": "stdout",
     "output_type": "stream",
     "text": [
      "[]\n"
     ]
    }
   ],
   "source": [
    "carlist = [\"Audi\", \"BMW\", \"Cadillac\", \"Chevrolet\", \"Ferrari\"]\n",
    "carlist.clear()\n",
    "print(carlist)"
   ]
  },
  {
   "cell_type": "markdown",
   "id": "7791151b-8a41-47c1-a346-d6af95809e3e",
   "metadata": {},
   "source": [
    "You cannot copy a list simply by typing **list2 = list1**, because: **list2** will only be a reference to **list1**, and changes made in **list1** will automatically also be made in **list2**. There are ways to make a copy, one way is to use the built-in List method **copy()**."
   ]
  },
  {
   "cell_type": "code",
   "execution_count": 36,
   "id": "b128e2cd-a82b-4f5d-940a-7d6f83af0c9f",
   "metadata": {},
   "outputs": [
    {
     "name": "stdout",
     "output_type": "stream",
     "text": [
      "['apple', 'banana', 'cherry']\n",
      "['apple', 'banana', 'cherry']\n"
     ]
    }
   ],
   "source": [
    "# Make a copy of a list with the copy() method:\n",
    "\n",
    "thislist = [\"apple\", \"banana\", \"cherry\"]\n",
    "mylist = thislist.copy()\n",
    "print(mylist)\n",
    "\n",
    "# Make a copy of a list with the list() method:\n",
    "\n",
    "thislist = [\"apple\", \"banana\", \"cherry\"]\n",
    "mylist = list(thislist)\n",
    "print(mylist)"
   ]
  },
  {
   "cell_type": "markdown",
   "id": "f114290c-99ae-4980-b2e1-2db065240b40",
   "metadata": {},
   "source": [
    "You can loop through the list items by using a **for** loop:"
   ]
  },
  {
   "cell_type": "code",
   "execution_count": 37,
   "id": "efe5c453-d2d0-4df2-85bc-e840654df8c4",
   "metadata": {},
   "outputs": [
    {
     "name": "stdout",
     "output_type": "stream",
     "text": [
      "Audi\n",
      "BMW\n",
      "Cadillac\n",
      "Chevrolet\n",
      "Ferrari\n"
     ]
    }
   ],
   "source": [
    "carlist = [\"Audi\", \"BMW\", \"Cadillac\", \"Chevrolet\", \"Ferrari\"]\n",
    "for x in carlist:\n",
    "  print(x)"
   ]
  },
  {
   "cell_type": "markdown",
   "id": "a746cb68-8dcb-4af9-beba-404ac1251db7",
   "metadata": {},
   "source": [
    "You can also loop through the list items by referring to their index number. Use the **range()** and **len()** functions to create a suitable iterable."
   ]
  },
  {
   "cell_type": "code",
   "execution_count": 38,
   "id": "905331d4-02b1-416b-89a0-f5763df13428",
   "metadata": {},
   "outputs": [
    {
     "name": "stdout",
     "output_type": "stream",
     "text": [
      "Audi\n",
      "BMW\n",
      "Cadillac\n",
      "Chevrolet\n",
      "Ferrari\n"
     ]
    }
   ],
   "source": [
    "carlist = [\"Audi\", \"BMW\", \"Cadillac\", \"Chevrolet\", \"Ferrari\"]\n",
    "for i in range(len(carlist)):\n",
    "  print(carlist[i])"
   ]
  },
  {
   "cell_type": "code",
   "execution_count": null,
   "id": "40332327-987f-4ed5-b0f2-64c6a1b4a21c",
   "metadata": {},
   "outputs": [],
   "source": []
  }
 ],
 "metadata": {
  "kernelspec": {
   "display_name": "Python 3 (ipykernel)",
   "language": "python",
   "name": "python3"
  },
  "language_info": {
   "codemirror_mode": {
    "name": "ipython",
    "version": 3
   },
   "file_extension": ".py",
   "mimetype": "text/x-python",
   "name": "python",
   "nbconvert_exporter": "python",
   "pygments_lexer": "ipython3",
   "version": "3.8.6"
  }
 },
 "nbformat": 4,
 "nbformat_minor": 5
}
