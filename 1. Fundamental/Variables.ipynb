{
 "cells": [
  {
   "cell_type": "markdown",
   "id": "a6ae3a19-9645-488d-b9ce-e1fe742ab1fb",
   "metadata": {},
   "source": [
    "## Variables\n",
    "### 1. Variable Names\n",
    "* A variable name must start with a **letter** or the **underscore** character\n",
    "* A variable name **cannot start with a number**\n",
    "* A variable name can only contain **alpha-numeric characters** and **underscores** (A-z, 0-9, and _ )\n",
    "* Variable names are **case-sensitive**"
   ]
  },
  {
   "cell_type": "code",
   "execution_count": 19,
   "id": "a2c16e1c-a5e6-479f-8760-6c17ff97fc39",
   "metadata": {},
   "outputs": [],
   "source": [
    "myname = 'Yaser'\n",
    "my_family = 'Rahmati'\n",
    "_my_title = 'Network and Security Expert'\n",
    "myWeb = 'Rahmaty Academy'\n",
    "MYINSTA = '@yaser.rahmati'  "
   ]
  },
  {
   "cell_type": "markdown",
   "id": "81063869-9fb5-42f6-9048-f9b1965997f0",
   "metadata": {},
   "source": [
    "### 2. Multi Words Variable Names\n",
    "Variable names with more than one word can be difficult to read. There are several techniques you can use to make them more readable:"
   ]
  },
  {
   "cell_type": "code",
   "execution_count": 21,
   "id": "78b3f610-0416-4fa8-aa19-6bf1ed56330f",
   "metadata": {},
   "outputs": [],
   "source": [
    "# Camel Case : Each word, except the first, starts with a capital letter\n",
    "mySitebName = \"Rahmati Academy\"\n",
    "\n",
    "# Pascal Case : Each word starts with a capital letter\n",
    "MySiteName = \"Rahmati Academy\"\n",
    "\n",
    "# Snake Case : Each word is separated by an underscore character\n",
    "my_site_name = \"Rahmati Academy\""
   ]
  },
  {
   "cell_type": "markdown",
   "id": "ea6ff50f-a4b8-47b3-8414-35cfc386e6b1",
   "metadata": {},
   "source": [
    "### 3. Creating Variables\n",
    "Python has **no command** for declaring a variable. A variable is created the moment you **first assign a value to it**."
   ]
  },
  {
   "cell_type": "code",
   "execution_count": 10,
   "id": "8b405347-aef3-4a44-827b-42aae3c25ad1",
   "metadata": {},
   "outputs": [
    {
     "name": "stdout",
     "output_type": "stream",
     "text": [
      "24\n",
      "Rahmati Academy\n"
     ]
    }
   ],
   "source": [
    "a = 24\n",
    "b = 'Rahmati Academy'\n",
    "print(a)\n",
    "print(b)"
   ]
  },
  {
   "cell_type": "markdown",
   "id": "23c0b03b-bfff-4b0c-aeaa-9ce9674bea51",
   "metadata": {},
   "source": [
    "### 4. Casting\n",
    "If you want to specify the data type of a variable, this can be done with casting."
   ]
  },
  {
   "cell_type": "code",
   "execution_count": 12,
   "id": "b0bc7a7b-5282-4c11-9f29-adc542986ecf",
   "metadata": {},
   "outputs": [
    {
     "name": "stdout",
     "output_type": "stream",
     "text": [
      "5 <class 'str'>\n",
      "5 <class 'int'>\n",
      "5.0 <class 'float'>\n",
      "(5+0j) <class 'complex'>\n"
     ]
    }
   ],
   "source": [
    "a = str(5)\n",
    "b = int(5)\n",
    "c = float(5)\n",
    "d = complex(5)\n",
    "print ( a , type(a))\n",
    "print ( b , type(b))\n",
    "print ( c , type(c))\n",
    "print ( d , type(d))"
   ]
  },
  {
   "cell_type": "markdown",
   "id": "a42e2014-2c08-496c-9d63-cbebc4a7a68b",
   "metadata": {},
   "source": [
    "### 5. Single or Double Quotes?\n",
    "String variables can be declared either by using **single** or **double** quotes:"
   ]
  },
  {
   "cell_type": "code",
   "execution_count": 14,
   "id": "f3b75da7-a0a8-4c14-a33c-56f78f3d96b9",
   "metadata": {},
   "outputs": [
    {
     "name": "stdout",
     "output_type": "stream",
     "text": [
      "Welcome to Rahmati Academy\n"
     ]
    }
   ],
   "source": [
    "a = 'Welcome to '\n",
    "b = \"Rahmati Academy\"\n",
    "\n",
    "print(a + b)"
   ]
  },
  {
   "cell_type": "markdown",
   "id": "a15417f1-559e-4dbe-932e-6f2b71997aa5",
   "metadata": {},
   "source": [
    "### 6. Case-Sensitive\n",
    "Variable names are **case-sensitive**."
   ]
  },
  {
   "cell_type": "code",
   "execution_count": 15,
   "id": "3340d8f4-4448-455d-a676-f2821b827d43",
   "metadata": {},
   "outputs": [
    {
     "name": "stdout",
     "output_type": "stream",
     "text": [
      " Yaser  Rahmati \n"
     ]
    }
   ],
   "source": [
    "a = ' Yaser '\n",
    "A = ' Rahmati '\n",
    "print(a + A)"
   ]
  },
  {
   "cell_type": "markdown",
   "id": "95919f8d-21e1-4a62-afb4-76e87f604005",
   "metadata": {},
   "source": [
    "### 7. One Value to Multiple Variables\n",
    "You can assign the same value to multiple variables in one line:"
   ]
  },
  {
   "cell_type": "code",
   "execution_count": 22,
   "id": "6f6dddcc-2027-430a-b422-c4998b27fdbf",
   "metadata": {},
   "outputs": [
    {
     "name": "stdout",
     "output_type": "stream",
     "text": [
      "3\n"
     ]
    }
   ],
   "source": [
    "a = b = c = 1\n",
    "print(a + b + c)"
   ]
  },
  {
   "cell_type": "markdown",
   "id": "ddc266e5-a476-4341-93fc-bf40ca3515f8",
   "metadata": {},
   "source": [
    "### 8. Many Values to Multiple Variables\n",
    "Python allows you to assign values to multiple variables in one line:"
   ]
  },
  {
   "cell_type": "code",
   "execution_count": 23,
   "id": "0448ede5-dc47-4c01-b4e7-1a4f86deac9c",
   "metadata": {},
   "outputs": [
    {
     "name": "stdout",
     "output_type": "stream",
     "text": [
      "Yaser\n",
      "Rahmati\n",
      "Academy\n"
     ]
    }
   ],
   "source": [
    "a, b, c = \"Yaser\", \"Rahmati\", \"Academy\"\n",
    "print(a)\n",
    "print(b)\n",
    "print(c)"
   ]
  },
  {
   "cell_type": "markdown",
   "id": "3f5b453e-803a-4baf-aa0a-71ca692b1e50",
   "metadata": {},
   "source": [
    "### 9. Output Variables\n",
    "The Python **print** statement is often used to output variables. To combine both text and a variable, Python uses the + character:"
   ]
  },
  {
   "cell_type": "code",
   "execution_count": 25,
   "id": "9e416703-350d-45d2-8823-99a02f139c9b",
   "metadata": {},
   "outputs": [
    {
     "name": "stdout",
     "output_type": "stream",
     "text": [
      "Rahmati Academy\n"
     ]
    }
   ],
   "source": [
    "a = \"Academy\"\n",
    "print(\"Rahmati \" + a)"
   ]
  },
  {
   "cell_type": "markdown",
   "id": "ba1e6c43-711b-464a-9ae8-8101e76f6518",
   "metadata": {},
   "source": [
    "### 10. Global Variables\n",
    "Variables that are created **outside of a function** are known as global variables. Global variables can be used by everyone, both **inside** of functions and **outside**."
   ]
  },
  {
   "cell_type": "code",
   "execution_count": 28,
   "id": "caa27c73-5446-43fa-9e03-f42417aeb7f5",
   "metadata": {},
   "outputs": [
    {
     "name": "stdout",
     "output_type": "stream",
     "text": [
      "5\n"
     ]
    }
   ],
   "source": [
    "# Example 1\n",
    "# Create a variable outside of a function, and use it inside the function\n",
    "x = 5\n",
    "\n",
    "def myfunc():\n",
    "  print(x)\n",
    "\n",
    "myfunc()"
   ]
  },
  {
   "cell_type": "code",
   "execution_count": 29,
   "id": "e84ec3bf-de63-4b9f-8e21-aefa764da415",
   "metadata": {},
   "outputs": [
    {
     "name": "stdout",
     "output_type": "stream",
     "text": [
      "10\n",
      "5\n"
     ]
    }
   ],
   "source": [
    "# Example 2\n",
    "# Create a variable inside a function, with the same name as the global variable\n",
    "x = 5\n",
    "\n",
    "def myfunc():\n",
    "  x = 10\n",
    "  print(x)\n",
    "\n",
    "myfunc()\n",
    "print(x)"
   ]
  },
  {
   "cell_type": "markdown",
   "id": "a2d57e08-33ab-458e-bbde-8e47f729e49d",
   "metadata": {},
   "source": [
    "Normally, when you create a variable inside a function, that variable is local, and can only be used inside that function. To create a global variable inside a function, you can use the **global** keyword."
   ]
  },
  {
   "cell_type": "code",
   "execution_count": 31,
   "id": "f4d0c545-be50-47ac-84f7-b897ad72e2a7",
   "metadata": {},
   "outputs": [
    {
     "name": "stdout",
     "output_type": "stream",
     "text": [
      "5\n"
     ]
    }
   ],
   "source": [
    "# Example 3\n",
    "# If you use the global keyword, the variable belongs to the global scope:\n",
    "\n",
    "def myfunc():\n",
    "  global x\n",
    "  x = 5\n",
    "\n",
    "myfunc()\n",
    "print(x)"
   ]
  },
  {
   "cell_type": "markdown",
   "id": "939702a6-87c2-4782-8593-069d9513e49f",
   "metadata": {},
   "source": [
    "### 11. Built-in Data Types\n",
    "Variables can store data of different types, and different types can do different things. Python has the following data types built-in by default, in these categories:\n",
    "\n",
    "| Name | Type | Example |\n",
    "| --- | --- | --- |\n",
    "| Text Type: | str | x = \"Hello World\" |\n",
    "| Numeric Types: | int, float, complex | x = 20 , y = 20.5 , y = 1j |\n",
    "| Sequence Types: | list, tuple, range | x = [\"apple\", \"banana\"] , y = (\"apple\", \"banana\") , z = range(6) |\n",
    "| Mapping Type: | dict | x = {\"name\" : \"Yaser\", \"age\" : 38} |\n",
    "| Set Types: | set, frozenset | x = {\"apple\", \"banana\"} , y = frozenset({\"apple\", \"banana\"}) |\n",
    "| Boolean Type: | bool | x = True |\n",
    "| Binary Types: | bytes, bytearray, memoryview | x = bytes(5) , y = bytearray(5) , z = memoryview(bytes(5)) |"
   ]
  },
  {
   "cell_type": "markdown",
   "id": "7d1cbab6-15f4-4b3f-83b6-303917eb140b",
   "metadata": {},
   "source": [
    "### 12. Type Conversion\n",
    "For numbers, you can convert from one type to another with the **int()**, **float()**, and **complex()** methods:"
   ]
  },
  {
   "cell_type": "code",
   "execution_count": 33,
   "id": "1ecbaf98-295d-473c-96d3-039cc826883a",
   "metadata": {},
   "outputs": [
    {
     "name": "stdout",
     "output_type": "stream",
     "text": [
      "2.0\n",
      "3\n",
      "(2+0j)\n",
      "<class 'float'>\n",
      "<class 'int'>\n",
      "<class 'complex'>\n"
     ]
    }
   ],
   "source": [
    "x = 2    # int\n",
    "y = 3.6  # float\n",
    "z = 5j   # complex\n",
    "\n",
    "#convert from int to float:\n",
    "a = float(x)\n",
    "\n",
    "#convert from float to int:\n",
    "b = int(y)\n",
    "\n",
    "#convert from int to complex:\n",
    "c = complex(x)\n",
    "\n",
    "print(a)\n",
    "print(b)\n",
    "print(c)\n",
    "\n",
    "print(type(a))\n",
    "print(type(b))\n",
    "print(type(c))"
   ]
  },
  {
   "cell_type": "markdown",
   "id": "ed980543-2b51-4e1b-9f2a-5f53ba4e778f",
   "metadata": {},
   "source": [
    "### 13. Random Number\n",
    "Python does not have a random() function to make a random number, but Python has a built-in module called random that can be used to make random numbers:"
   ]
  },
  {
   "cell_type": "code",
   "execution_count": 37,
   "id": "1ff32572-e1bb-40df-ac9d-0c1bfd90649b",
   "metadata": {},
   "outputs": [
    {
     "name": "stdout",
     "output_type": "stream",
     "text": [
      "25\n"
     ]
    }
   ],
   "source": [
    "# display a random number between 10 and 49\n",
    "\n",
    "import random\n",
    "print(random.randrange(10, 50))"
   ]
  },
  {
   "cell_type": "markdown",
   "id": "afd03197-52d5-4f72-83d8-f19e3c1323f2",
   "metadata": {},
   "source": [
    "### 14. Booleans\n",
    "Booleans represent one of two values: **True** or **False**."
   ]
  },
  {
   "cell_type": "code",
   "execution_count": 39,
   "id": "bd0559ad-aad8-44be-ac22-1fc1a38dc115",
   "metadata": {},
   "outputs": [
    {
     "name": "stdout",
     "output_type": "stream",
     "text": [
      "True\n",
      "False\n",
      "False\n"
     ]
    }
   ],
   "source": [
    "print(15 > 11)\n",
    "print(9 == 7)\n",
    "print(12 < 8)"
   ]
  },
  {
   "cell_type": "markdown",
   "id": "69a331e4-b8c7-4248-9e9d-42104cd5c349",
   "metadata": {},
   "source": [
    "The **bool()** function allows you to evaluate any value, and give you True or False in return."
   ]
  },
  {
   "cell_type": "code",
   "execution_count": 45,
   "id": "72b7f796-f544-4283-9020-8eef92e64f2a",
   "metadata": {},
   "outputs": [
    {
     "name": "stdout",
     "output_type": "stream",
     "text": [
      "True\n",
      "True\n",
      "False\n",
      "False\n",
      "False\n",
      "False\n",
      "False\n",
      "False\n",
      "False\n"
     ]
    }
   ],
   "source": [
    "print(bool(\"Rahmaty\"))\n",
    "print(bool(24))\n",
    "print(bool(False))\n",
    "print(bool(None))\n",
    "print(bool(0))\n",
    "print(bool(\"\"))\n",
    "print(bool(()))\n",
    "print(bool([]))\n",
    "print(bool({}))"
   ]
  },
  {
   "cell_type": "markdown",
   "id": "abec1386-773b-4386-8b12-358d699081f8",
   "metadata": {},
   "source": [
    "You can create **functions** that returns a Boolean Value:"
   ]
  },
  {
   "cell_type": "code",
   "execution_count": 46,
   "id": "dd80482e-76b5-4dc9-ab81-e08a85e9ac7c",
   "metadata": {},
   "outputs": [
    {
     "name": "stdout",
     "output_type": "stream",
     "text": [
      "YES!\n"
     ]
    }
   ],
   "source": [
    "def myFunction() :\n",
    "  return True\n",
    "\n",
    "if myFunction():\n",
    "  print(\"YES!\")\n",
    "else:\n",
    "  print(\"NO!\")"
   ]
  },
  {
   "cell_type": "markdown",
   "id": "ccc862be-84ef-465e-b71e-a4d3525061f8",
   "metadata": {},
   "source": [
    "### 15. Strings\n",
    "Strings in python are surrounded by either **single quotation** marks, or **double quotation** marks."
   ]
  },
  {
   "cell_type": "code",
   "execution_count": 2,
   "id": "d97cef32-31ab-4828-a4f1-1ec03f1a64ff",
   "metadata": {},
   "outputs": [
    {
     "name": "stdout",
     "output_type": "stream",
     "text": [
      "Rahmati\n",
      "Academy\n"
     ]
    }
   ],
   "source": [
    "print(\"Rahmati\")\n",
    "print('Academy')"
   ]
  },
  {
   "cell_type": "markdown",
   "id": "7e7e47a1-accc-47ad-9500-dd3ab19ffdd7",
   "metadata": {},
   "source": [
    "Assigning a string to a variable is done with the variable name followed by an equal sign and the string:"
   ]
  },
  {
   "cell_type": "code",
   "execution_count": 3,
   "id": "ef8bb2a3-54f3-46c1-9136-f898d2dc0688",
   "metadata": {},
   "outputs": [
    {
     "name": "stdout",
     "output_type": "stream",
     "text": [
      "Rahmati\n",
      "Academy\n"
     ]
    }
   ],
   "source": [
    "a = \"Rahmati\"\n",
    "b = \"Academy\"\n",
    "print(a)\n",
    "print(b)"
   ]
  },
  {
   "cell_type": "markdown",
   "id": "a76e52ca-84bc-4b7d-923d-fa20b811540c",
   "metadata": {},
   "source": [
    "You can assign a multiline string to a variable by using **three quotes**:"
   ]
  },
  {
   "cell_type": "code",
   "execution_count": 8,
   "id": "9734a39c-0b39-4c1f-9698-2ca7ca95e465",
   "metadata": {},
   "outputs": [
    {
     "name": "stdout",
     "output_type": "stream",
     "text": [
      "I am a versatile, multi-skilled \n",
      "Network/Security Expert with extensive international \n",
      "experience in contributing to enterprise, government, \n",
      "and medium-size networks\n",
      "strong technical background and experience \n",
      "in security and operation including analysis, routing, \n",
      "switching, load balancing, network and infrastructure \n",
      "design, implementation, providing enhancements and \n",
      "support, monitoring ‎and maintenance\n"
     ]
    }
   ],
   "source": [
    "# You can use three double quotes:\n",
    "a = \"\"\"I am a versatile, multi-skilled \n",
    "Network/Security Expert with extensive international \n",
    "experience in contributing to enterprise, government, \n",
    "and medium-size networks\"\"\"\n",
    "print(a)\n",
    "\n",
    "# Or three single quotes:\n",
    "b = '''strong technical background and experience \n",
    "in security and operation including analysis, routing, \n",
    "switching, load balancing, network and infrastructure \n",
    "design, implementation, providing enhancements and \n",
    "support, monitoring ‎and maintenance'''\n",
    "print(b)"
   ]
  },
  {
   "cell_type": "markdown",
   "id": "332ab81f-b5e9-4df2-9a64-5bec7691fa21",
   "metadata": {},
   "source": [
    "To get the length of a string, use the **len()** function.print"
   ]
  },
  {
   "cell_type": "code",
   "execution_count": 9,
   "id": "ec043b9f-1852-4343-b7eb-3926a0905863",
   "metadata": {},
   "outputs": [
    {
     "name": "stdout",
     "output_type": "stream",
     "text": [
      "15\n"
     ]
    }
   ],
   "source": [
    "a = \"Rahmati Academy\"\n",
    "print(len(a))"
   ]
  },
  {
   "cell_type": "markdown",
   "id": "7e8c4a17-2604-4561-99d3-c88db89c7f6b",
   "metadata": {},
   "source": [
    "To check if a certain phrase or character is present in a string, we can use the keyword **in**."
   ]
  },
  {
   "cell_type": "code",
   "execution_count": 13,
   "id": "521687b8-c2ea-4d99-b8f4-a7f906481a85",
   "metadata": {},
   "outputs": [
    {
     "name": "stdout",
     "output_type": "stream",
     "text": [
      "True\n"
     ]
    }
   ],
   "source": [
    "txt = \"This allows the antibody to potently inhibit receptor attachment.\"\n",
    "print(\"inhibit\" in txt)"
   ]
  },
  {
   "cell_type": "markdown",
   "id": "7fa7490a-fbe4-46d8-9e81-88ea57fa8263",
   "metadata": {},
   "source": [
    "To check if a certain phrase or character is NOT present in a string, we can use the keyword **not in**."
   ]
  },
  {
   "cell_type": "code",
   "execution_count": 14,
   "id": "b4a5be42-9686-4429-bdf0-d5223cbc2ddc",
   "metadata": {},
   "outputs": [
    {
     "name": "stdout",
     "output_type": "stream",
     "text": [
      "False\n"
     ]
    }
   ],
   "source": [
    "txt = \"This allows the antibody to potently inhibit receptor attachment.\"\n",
    "print(\"prevent\" in txt)"
   ]
  },
  {
   "cell_type": "markdown",
   "id": "d5e961c8-a513-4efc-9718-75a947c27e86",
   "metadata": {},
   "source": [
    "### 16. Strings are Arrays\n",
    "Like many other popular programming languages, strings in Python are arrays of bytes representing unicode characters. However, Python **does not have** a **character data type**, a single character is simply a string with a length of 1. **Square brackets** can be used to access elements of the string."
   ]
  },
  {
   "cell_type": "code",
   "execution_count": 17,
   "id": "ef6f53d9-8b33-47b7-94d7-de9860e6c73c",
   "metadata": {},
   "outputs": [
    {
     "name": "stdout",
     "output_type": "stream",
     "text": [
      "a\n",
      "c\n"
     ]
    }
   ],
   "source": [
    "a = \"Rahmaty Academy\"\n",
    "print(a[1])\n",
    "print(a[9])"
   ]
  },
  {
   "cell_type": "markdown",
   "id": "7db38fe3-e287-4b81-acf6-fcfa95f09d1c",
   "metadata": {},
   "source": [
    "Since strings are arrays, we can loop through the characters in a string, with a **for** loop."
   ]
  },
  {
   "cell_type": "code",
   "execution_count": 19,
   "id": "5eff7535-5565-4a46-ba2d-b32682966759",
   "metadata": {},
   "outputs": [
    {
     "name": "stdout",
     "output_type": "stream",
     "text": [
      "R\n",
      "a\n",
      "h\n",
      "m\n",
      "a\n",
      "t\n",
      "i\n",
      " \n",
      "A\n",
      "c\n",
      "a\n",
      "d\n",
      "e\n",
      "m\n",
      "y\n"
     ]
    }
   ],
   "source": [
    "for x in \"Rahmati Academy\":\n",
    "  print(x)"
   ]
  },
  {
   "cell_type": "markdown",
   "id": "5e42a348-9ee1-4da0-90de-a6f8ff33746a",
   "metadata": {},
   "source": [
    "### 17. Modify Strings\n",
    "Python has a set of built-in methods that you can use on strings."
   ]
  },
  {
   "cell_type": "code",
   "execution_count": 23,
   "id": "df4de71e-12e0-41f0-963f-9a9b9c0dc853",
   "metadata": {},
   "outputs": [
    {
     "name": "stdout",
     "output_type": "stream",
     "text": [
      " RAHMATY ACADEMY \n",
      " rahmaty academy \n",
      "Rahmaty Academy\n",
      " R*hm*ty Ac*demy \n"
     ]
    }
   ],
   "source": [
    "txt = \" Rahmaty Academy \"\n",
    "# The upper() method returns the string in upper case:\n",
    "print(txt.upper())\n",
    "\n",
    "# The lower() method returns the string in lower case:\n",
    "print(txt.lower())\n",
    "\n",
    "# The strip() method removes any whitespace from the beginning or the end:\n",
    "print(txt.strip())\n",
    "\n",
    "# The replace() method replaces a string with another string:\n",
    "print(txt.replace(\"a\", \"*\"))"
   ]
  },
  {
   "cell_type": "markdown",
   "id": "fc0e521a-80e7-45f7-9e2c-62d085378520",
   "metadata": {},
   "source": [
    "### 18. String Concatenation\n",
    "To concatenate, or combine, two strings you can use the **+** operator."
   ]
  },
  {
   "cell_type": "code",
   "execution_count": 24,
   "id": "cdb76f3a-6a79-4936-95ed-c49afb306808",
   "metadata": {},
   "outputs": [
    {
     "name": "stdout",
     "output_type": "stream",
     "text": [
      "Rahmaty Academy\n"
     ]
    }
   ],
   "source": [
    "a = \"Rahmaty\"\n",
    "b = \"Academy\"\n",
    "c = a + \" \" + b\n",
    "print(c)"
   ]
  },
  {
   "cell_type": "markdown",
   "id": "3d3146d9-cd73-4d03-a19a-26af4ea0dda5",
   "metadata": {},
   "source": [
    "### 19. String Format\n",
    "We cannot combine strings and numbers like this:"
   ]
  },
  {
   "cell_type": "code",
   "execution_count": 32,
   "id": "b1dd8408-860b-4995-ab3f-05641f806f85",
   "metadata": {},
   "outputs": [
    {
     "ename": "TypeError",
     "evalue": "can only concatenate str (not \"int\") to str",
     "output_type": "error",
     "traceback": [
      "\u001b[1;31m---------------------------------------------------------------------------\u001b[0m",
      "\u001b[1;31mTypeError\u001b[0m                                 Traceback (most recent call last)",
      "\u001b[1;32m~\\AppData\\Local\\Temp/ipykernel_9008/311771909.py\u001b[0m in \u001b[0;36m<module>\u001b[1;34m\u001b[0m\n\u001b[0;32m      1\u001b[0m \u001b[0mage\u001b[0m \u001b[1;33m=\u001b[0m \u001b[1;36m38\u001b[0m\u001b[1;33m\u001b[0m\u001b[1;33m\u001b[0m\u001b[0m\n\u001b[1;32m----> 2\u001b[1;33m \u001b[0mtxt\u001b[0m \u001b[1;33m=\u001b[0m \u001b[1;34m\"My name is Yaser, I am \"\u001b[0m \u001b[1;33m+\u001b[0m \u001b[0mage\u001b[0m\u001b[1;33m\u001b[0m\u001b[1;33m\u001b[0m\u001b[0m\n\u001b[0m\u001b[0;32m      3\u001b[0m \u001b[0mprint\u001b[0m\u001b[1;33m(\u001b[0m\u001b[0mtxt\u001b[0m\u001b[1;33m)\u001b[0m\u001b[1;33m\u001b[0m\u001b[1;33m\u001b[0m\u001b[0m\n",
      "\u001b[1;31mTypeError\u001b[0m: can only concatenate str (not \"int\") to str"
     ]
    }
   ],
   "source": [
    "age = 38\n",
    "txt = \"My name is Yaser, I am \" + age\n",
    "print(txt)"
   ]
  },
  {
   "cell_type": "markdown",
   "id": "6158fbbd-e5f0-42bd-bd25-b786f3b4d330",
   "metadata": {},
   "source": [
    "But we can combine **strings** and **numbers** by using the **format()** method! The format() method takes the passed arguments, formats them, and places them in the string where the placeholders **{}** are:"
   ]
  },
  {
   "cell_type": "code",
   "execution_count": 33,
   "id": "3b015434-164f-431e-a096-12eccb0bead0",
   "metadata": {},
   "outputs": [
    {
     "name": "stdout",
     "output_type": "stream",
     "text": [
      "My name is Yaser, and I am 38\n"
     ]
    }
   ],
   "source": [
    "age = 38\n",
    "txt = \"My name is Yaser, and I am {}\"\n",
    "print(txt.format(age))"
   ]
  },
  {
   "cell_type": "markdown",
   "id": "8d126564-f4a2-4d5a-82cd-043318dd1e75",
   "metadata": {},
   "source": [
    "The **format()** method takes unlimited number of arguments, and are placed into the respective placeholders:"
   ]
  },
  {
   "cell_type": "code",
   "execution_count": 34,
   "id": "b1cda4ea-037a-41bd-970b-5c63d79e504e",
   "metadata": {},
   "outputs": [
    {
     "name": "stdout",
     "output_type": "stream",
     "text": [
      "I want 3 pieces of item 567 for 49.95 dollars.\n"
     ]
    }
   ],
   "source": [
    "quantity = 3\n",
    "itemno = 567\n",
    "price = 49.95\n",
    "myorder = \"I want {} pieces of item {} for {} dollars.\"\n",
    "print(myorder.format(quantity, itemno, price))"
   ]
  },
  {
   "cell_type": "markdown",
   "id": "54dea2f1-6a34-4b6c-b6f8-fabe70da04f9",
   "metadata": {},
   "source": [
    "### 20. Logical Operators\n",
    "Logical operators are used to combine **conditional statements**:"
   ]
  },
  {
   "cell_type": "code",
   "execution_count": 29,
   "id": "95f96725-09a7-4c88-b59a-7d7563068317",
   "metadata": {},
   "outputs": [
    {
     "name": "stdout",
     "output_type": "stream",
     "text": [
      "True\n",
      "True\n",
      "False\n"
     ]
    }
   ],
   "source": [
    "x = 8\n",
    "\n",
    "# and : Returns True if both statements are true\n",
    "print(x<10 and x>5)\n",
    "\n",
    "# or : Returns True if one of the statements is true\n",
    "print(x<-6 or x>5)\n",
    "\n",
    "# not : Reverse the result, returns False if the result is true\n",
    "print(not(x<10 and x>5))"
   ]
  },
  {
   "cell_type": "markdown",
   "id": "b49ca22b-be43-4c1f-8d99-58eb519fe49e",
   "metadata": {},
   "source": [
    "### 21. Arithmetic Operators\n",
    "Arithmetic operators are used with numeric values to perform **common mathematical operations**:"
   ]
  },
  {
   "cell_type": "code",
   "execution_count": 30,
   "id": "18f9a44b-8b77-4159-9eef-930617989626",
   "metadata": {},
   "outputs": [
    {
     "name": "stdout",
     "output_type": "stream",
     "text": [
      "10\n",
      "4\n",
      "21\n",
      "2.3333333333333335\n",
      "1\n",
      "343\n",
      "2\n"
     ]
    }
   ],
   "source": [
    "x = 7\n",
    "y = 3\n",
    "\n",
    "# Addition\n",
    "print(x+y)\n",
    "\n",
    "# Subtraction\n",
    "print(x-y)\n",
    "\n",
    "# Multiplication\n",
    "print(x*y)\n",
    "\n",
    "# Division\n",
    "print(x/y)\n",
    "\n",
    "# Modulus\n",
    "print(x%y)\n",
    "\n",
    "# Exponentiation\n",
    "print(x**y)\n",
    "\n",
    "# Floor division\n",
    "print(x//y)"
   ]
  },
  {
   "cell_type": "code",
   "execution_count": null,
   "id": "7b961070-e77f-43ae-b682-bc5090eef73f",
   "metadata": {},
   "outputs": [],
   "source": []
  }
 ],
 "metadata": {
  "kernelspec": {
   "display_name": "Python 3 (ipykernel)",
   "language": "python",
   "name": "python3"
  },
  "language_info": {
   "codemirror_mode": {
    "name": "ipython",
    "version": 3
   },
   "file_extension": ".py",
   "mimetype": "text/x-python",
   "name": "python",
   "nbconvert_exporter": "python",
   "pygments_lexer": "ipython3",
   "version": "3.8.6"
  }
 },
 "nbformat": 4,
 "nbformat_minor": 5
}
