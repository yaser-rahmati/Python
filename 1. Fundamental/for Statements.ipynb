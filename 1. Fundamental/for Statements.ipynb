{
 "cells": [
  {
   "cell_type": "markdown",
   "id": "f16f9900-dcad-4032-999c-a4d0cd8bf8d6",
   "metadata": {},
   "source": [
    "## for Statements\n",
    "The **for** statement in Python has the ability to iterate over the items of any sequence, such as a **list** or a **string**.\n",
    "\n",
    "## Syntax"
   ]
  },
  {
   "cell_type": "code",
   "execution_count": 3,
   "id": "ec4f496f-3c2d-4518-9c52-c65130b9b604",
   "metadata": {},
   "outputs": [
    {
     "ename": "NameError",
     "evalue": "name 'sequence' is not defined",
     "output_type": "error",
     "traceback": [
      "\u001b[1;31m---------------------------------------------------------------------------\u001b[0m",
      "\u001b[1;31mNameError\u001b[0m                                 Traceback (most recent call last)",
      "\u001b[1;32m~\\AppData\\Local\\Temp/ipykernel_6164/1760481605.py\u001b[0m in \u001b[0;36m<module>\u001b[1;34m\u001b[0m\n\u001b[0;32m      1\u001b[0m \u001b[1;34m''\u001b[0m\u001b[1;33m\u001b[0m\u001b[1;33m\u001b[0m\u001b[0m\n\u001b[1;32m----> 2\u001b[1;33m \u001b[1;32mfor\u001b[0m \u001b[0miterating_var\u001b[0m \u001b[1;32min\u001b[0m \u001b[0msequence\u001b[0m\u001b[1;33m:\u001b[0m\u001b[1;33m\u001b[0m\u001b[1;33m\u001b[0m\u001b[0m\n\u001b[0m\u001b[0;32m      3\u001b[0m    \u001b[0mstatements\u001b[0m\u001b[1;33m(\u001b[0m\u001b[0ms\u001b[0m\u001b[1;33m)\u001b[0m\u001b[1;33m\u001b[0m\u001b[1;33m\u001b[0m\u001b[0m\n\u001b[0;32m      4\u001b[0m \u001b[1;34m''\u001b[0m\u001b[1;33m\u001b[0m\u001b[1;33m\u001b[0m\u001b[0m\n",
      "\u001b[1;31mNameError\u001b[0m: name 'sequence' is not defined"
     ]
    }
   ],
   "source": [
    "for iterating_var in sequence:\n",
    "   statements(s)"
   ]
  },
  {
   "cell_type": "markdown",
   "id": "9a48cad6-dc38-473c-8a38-02c7f06a9f1c",
   "metadata": {},
   "source": [
    "* If a sequence contains an **expression list**, it is evaluated first. \n",
    "* Then, the first item in the sequence is assigned to the **iterating variable** *iterating_var*. \n",
    "* Next, the **statements block** is executed. \n",
    "* Each item in the list is assigned to *iterating_var*, and the statement(s) block is executed until the entire sequence is exhausted.\n",
    "\n",
    "## Flow Diagram\n",
    "\n",
    "![alt text](https://yaser-rahmati.gitbook.io/~/files/v0/b/gitbook-28427.appspot.com/o/assets%2F-M2g31CUvdCruJm660Ot%2F-Mcomgt3JgTCKuSoXaJD%2F-Mcoo9Y8C-BPvEEToGj6%2F665.jpg?alt=media&token=6781a04d-71c7-4fed-8f5a-6ec8ef7848b5 \"Flow Diagram\")\n",
    "\n",
    "## Looping Through a String\n",
    "Even strings are iterable objects, they contain a **sequence of characters**:"
   ]
  },
  {
   "cell_type": "code",
   "execution_count": 5,
   "id": "8337768a-f988-4b47-a15d-7bb915502ba1",
   "metadata": {},
   "outputs": [
    {
     "name": "stdout",
     "output_type": "stream",
     "text": [
      "R\n",
      "a\n",
      "h\n",
      "m\n",
      "a\n",
      "t\n",
      "i\n"
     ]
    }
   ],
   "source": [
    "for x in \"Rahmati\":\n",
    "  print(x)"
   ]
  },
  {
   "cell_type": "markdown",
   "id": "9c28fb3d-e72e-4c8c-b9d0-4137de829d1e",
   "metadata": {},
   "source": [
    "## The range() function\n",
    "The built-in function **range()** is the right function to iterate over a sequence of numbers. It generates an iterator of arithmetic progressions."
   ]
  },
  {
   "cell_type": "code",
   "execution_count": 7,
   "id": "d64bafcb-e431-4558-b5c9-facfba94ddf6",
   "metadata": {},
   "outputs": [
    {
     "name": "stdout",
     "output_type": "stream",
     "text": [
      "0\n",
      "1\n",
      "2\n",
      "3\n",
      "4\n"
     ]
    }
   ],
   "source": [
    "for i in range(5):\n",
    "    print(i)"
   ]
  },
  {
   "cell_type": "markdown",
   "id": "91e0c1fd-bcaf-4f0c-85cd-7171c2dc2e03",
   "metadata": {},
   "source": [
    "The **range()** function defaults to **0** as a starting value, however it is possible to specify the starting value by adding a parameter:"
   ]
  },
  {
   "cell_type": "code",
   "execution_count": 8,
   "id": "ea47ce9e-0245-485e-b043-17321e675a60",
   "metadata": {},
   "outputs": [
    {
     "name": "stdout",
     "output_type": "stream",
     "text": [
      "5\n",
      "6\n",
      "7\n",
      "8\n",
      "9\n"
     ]
    }
   ],
   "source": [
    "for i in range(5, 10):\n",
    "  print(i)"
   ]
  },
  {
   "cell_type": "markdown",
   "id": "6f59fae5-cefe-4d0e-ace6-2e646788c5fc",
   "metadata": {},
   "source": [
    "The **range()** function defaults to increment the sequence by **1**, however it is possible to specify the increment value by adding a **third parameter**:"
   ]
  },
  {
   "cell_type": "code",
   "execution_count": 9,
   "id": "ee2fb46e-0c9f-4ec7-9073-ec40650f1d07",
   "metadata": {},
   "outputs": [
    {
     "name": "stdout",
     "output_type": "stream",
     "text": [
      "14\n",
      "17\n",
      "20\n",
      "23\n",
      "26\n"
     ]
    }
   ],
   "source": [
    "for i in range(14, 27, 3):\n",
    "  print(i)"
   ]
  },
  {
   "cell_type": "markdown",
   "id": "eab3a41a-21ac-4b96-9507-6622049d8209",
   "metadata": {},
   "source": [
    "## Looping through a list"
   ]
  },
  {
   "cell_type": "code",
   "execution_count": 10,
   "id": "d90d04cf-a5f3-424e-9359-c90a8d57cd58",
   "metadata": {},
   "outputs": [
    {
     "name": "stdout",
     "output_type": "stream",
     "text": [
      "Alfa Romeo\n",
      "Audi\n",
      "BMW\n",
      "Bentley\n",
      "Cadillac\n"
     ]
    }
   ],
   "source": [
    "fruits = [\"Alfa Romeo\", \"Audi\", \"BMW\", \"Bentley\", \"Cadillac\"]\n",
    "for i in fruits :\n",
    "  print(i)"
   ]
  },
  {
   "cell_type": "markdown",
   "id": "12479818-d295-4f61-aa59-ad1f806c415e",
   "metadata": {},
   "source": [
    "## Example 1: Power of Two"
   ]
  },
  {
   "cell_type": "code",
   "execution_count": 11,
   "id": "24a47200-ac9d-49c1-96f0-bc0a03eb7def",
   "metadata": {},
   "outputs": [
    {
     "name": "stdout",
     "output_type": "stream",
     "text": [
      "0 1\n",
      "1 2\n",
      "2 4\n",
      "3 8\n",
      "4 16\n",
      "5 32\n",
      "6 64\n",
      "7 128\n",
      "8 256\n",
      "9 512\n",
      "10 1024\n"
     ]
    }
   ],
   "source": [
    "# Showing the first n powers of two.\n",
    "n = 10\n",
    "power = 1\n",
    "for i in range(n+1):\n",
    "    print(str(i) + ' ' + str(power))\n",
    "    power *= 2"
   ]
  },
  {
   "cell_type": "markdown",
   "id": "279a7452-4c29-4e25-b641-5393c2c86ec1",
   "metadata": {},
   "source": [
    "## Example 2: Factorial of a Number\n",
    "* The factorial of a number is the product of all the integers from 1 to that number.\n",
    "* For example, the factorial of 6 is 1×2×3×4×5×6 = 720. \n",
    "* Factorial is not defined for negative numbers, and the factorial of zero is one, 0! = 1."
   ]
  },
  {
   "cell_type": "code",
   "execution_count": 14,
   "id": "26aa6475-cc48-48ef-aa45-8d62ee389377",
   "metadata": {},
   "outputs": [
    {
     "name": "stdout",
     "output_type": "stream",
     "text": [
      "The factorial of 15 is 1307674368000\n"
     ]
    }
   ],
   "source": [
    "num = 15\n",
    "factorial = 1\n",
    "\n",
    "# check if the number is negative, positive or zero\n",
    "if num < 0:\n",
    "   print(\"Sorry, factorial does not exist for negative numbers\")\n",
    "elif num == 0:\n",
    "   print(\"The factorial of 0 is 1\")\n",
    "else:\n",
    "   for i in range(1,num + 1):\n",
    "       factorial = factorial*i\n",
    "   print(\"The factorial of\",num,\"is\",factorial)"
   ]
  },
  {
   "cell_type": "markdown",
   "id": "6e383f3d-7123-49b9-8ca3-39ce62c90365",
   "metadata": {},
   "source": [
    "## Example 3: Check Prime Number\n",
    "* A positive integer greater than 1 which has no other factors except 1 and the number itself is called a prime number. \n",
    "* 2, 3, 5, 7 etc. are prime numbers as they do not have any other factors. \n",
    "* But 6 is not prime (it is composite) since, 2 x 3 = 6."
   ]
  },
  {
   "cell_type": "code",
   "execution_count": 15,
   "id": "9de508f7-fc4f-4ca9-9c38-82d3e318c445",
   "metadata": {},
   "outputs": [
    {
     "name": "stdout",
     "output_type": "stream",
     "text": [
      "1237 is a prime number\n"
     ]
    }
   ],
   "source": [
    "# Program to check if a number is prime or not\n",
    "\n",
    "num = 1237\n",
    "\n",
    "# define a flag variable\n",
    "flag = False\n",
    "\n",
    "# prime numbers are greater than 1\n",
    "if num > 1:\n",
    "    # check for factors\n",
    "    for i in range(2, num):\n",
    "        if (num % i) == 0:\n",
    "            # if factor is found, set flag to True\n",
    "            flag = True\n",
    "            # break out of loop\n",
    "            break\n",
    "\n",
    "# check if flag is True\n",
    "if flag:\n",
    "    print(num, \"is not a prime number\")\n",
    "else:\n",
    "    print(num, \"is a prime number\")"
   ]
  }
 ],
 "metadata": {
  "kernelspec": {
   "display_name": "Python 3 (ipykernel)",
   "language": "python",
   "name": "python3"
  },
  "language_info": {
   "codemirror_mode": {
    "name": "ipython",
    "version": 3
   },
   "file_extension": ".py",
   "mimetype": "text/x-python",
   "name": "python",
   "nbconvert_exporter": "python",
   "pygments_lexer": "ipython3",
   "version": "3.8.6"
  }
 },
 "nbformat": 4,
 "nbformat_minor": 5
}
