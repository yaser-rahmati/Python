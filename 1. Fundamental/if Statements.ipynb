{
 "cells": [
  {
   "cell_type": "markdown",
   "id": "39fe57ec-3f1f-48d8-b683-a8d7d4cd5ebb",
   "metadata": {},
   "source": [
    "## 1. IF Statement\n",
    "The **if** statement contains a **logical expression** using which the data is compared and a decision is made based on the result of the comparison.\n",
    "### Syntax"
   ]
  },
  {
   "cell_type": "code",
   "execution_count": 25,
   "id": "baca8be9-d92c-4ee2-bc03-29bf951195c0",
   "metadata": {},
   "outputs": [
    {
     "ename": "SyntaxError",
     "evalue": "unexpected EOF while parsing (Temp/ipykernel_6036/1203602516.py, line 3)",
     "output_type": "error",
     "traceback": [
      "\u001b[1;36m  File \u001b[1;32m\"C:\\Users\\rahmati\\AppData\\Local\\Temp/ipykernel_6036/1203602516.py\"\u001b[1;36m, line \u001b[1;32m3\u001b[0m\n\u001b[1;33m    ## statement 2\u001b[0m\n\u001b[1;37m                  ^\u001b[0m\n\u001b[1;31mSyntaxError\u001b[0m\u001b[1;31m:\u001b[0m unexpected EOF while parsing\n"
     ]
    }
   ],
   "source": [
    "if expression:\n",
    "   statement(s)"
   ]
  },
  {
   "cell_type": "markdown",
   "id": "41008f4b-859c-451a-9a19-3ab18b892834",
   "metadata": {},
   "source": [
    "* If the boolean expression evaluates to **TRUE**, then the block of statement(s) inside the if statement is executed. \n",
    "* In Python, statements in a block are **uniformly indented** after the : symbol. \n",
    "* If boolean expression evaluates to **FALSE**, then the first set of code after the end of block is executed."
   ]
  },
  {
   "cell_type": "markdown",
   "id": "003a9829-d284-40c8-bc56-f791709f18aa",
   "metadata": {},
   "source": [
    "### Flow Diagram\n",
    "\n",
    "![alt text](https://yaser-rahmati.gitbook.io/~/files/v0/b/gitbook-28427.appspot.com/o/assets%2F-M2g31CUvdCruJm660Ot%2F-McjHXMpB-X_9Z0WZlMz%2F-McjHfMUjBicCLyRk3mB%2F654.jpg?alt=media&token=cd66ccbd-77e1-468b-88eb-561a9610534c \"IF statement\")\n"
   ]
  },
  {
   "cell_type": "markdown",
   "id": "d0633034-21e3-4111-8325-903b584d9570",
   "metadata": {},
   "source": [
    "### Example: The quadratic formula"
   ]
  },
  {
   "cell_type": "code",
   "execution_count": 8,
   "id": "9b1d8e63-0e6b-43e6-be8e-c091940da139",
   "metadata": {},
   "outputs": [
    {
     "name": "stdout",
     "output_type": "stream",
     "text": [
      "-0.6883484861008834\n",
      "-0.8716515138991167\n"
     ]
    }
   ],
   "source": [
    "import math\n",
    "\n",
    "## Equation : a(x^2)+b(x)+c(x)=0\n",
    "\n",
    "a = 5\n",
    "b = 7.8\n",
    "c = 3\n",
    "\n",
    "discriminant = b*b - 4.0*a*c\n",
    "if discriminant < 0 :\n",
    "    print('No real roots')\n",
    "else :\n",
    "    d = math.sqrt(discriminant)\n",
    "    print((-b + d) / (2.0*a))\n",
    "    print((-b - d) / (2.0*a))"
   ]
  },
  {
   "cell_type": "markdown",
   "id": "5af4745c-4de9-4e8f-9406-5025757f9b80",
   "metadata": {},
   "source": [
    "## 2. IF...ELSE Statements\n",
    "An **else** statement can be combined with an **if** statement. An else statement contains the block of code that executes if the conditional expression in the if statement resolves to 0 or a **FALSE** value.\n",
    "The else statement is an **optional statement** and there could be at most only one else statement following if.\n",
    "### Syntax"
   ]
  },
  {
   "cell_type": "code",
   "execution_count": 9,
   "id": "7b8087ef-bb83-4963-af0d-2d6a89b25340",
   "metadata": {},
   "outputs": [
    {
     "ename": "IndentationError",
     "evalue": "expected an indented block (Temp/ipykernel_6036/1155268304.py, line 3)",
     "output_type": "error",
     "traceback": [
      "\u001b[1;36m  File \u001b[1;32m\"C:\\Users\\rahmati\\AppData\\Local\\Temp/ipykernel_6036/1155268304.py\"\u001b[1;36m, line \u001b[1;32m3\u001b[0m\n\u001b[1;33m    else:\u001b[0m\n\u001b[1;37m    ^\u001b[0m\n\u001b[1;31mIndentationError\u001b[0m\u001b[1;31m:\u001b[0m expected an indented block\n"
     ]
    }
   ],
   "source": [
    "if expression:\n",
    "   statement(s)\n",
    "else:\n",
    "   statement(s)"
   ]
  },
  {
   "cell_type": "markdown",
   "id": "4ef299a6-318f-4784-a9c0-8ec041c6f720",
   "metadata": {},
   "source": [
    "### Flow Diagram\n",
    "\n",
    "![alt text](https://yaser-rahmati.gitbook.io/~/files/v0/b/gitbook-28427.appspot.com/o/assets%2F-M2g31CUvdCruJm660Ot%2F-McjNTtrzzPi86L7IGoi%2F-McjO5iW3OaYarRnpgZu%2F656.jpg?alt=media&token=a399d30e-784e-43f3-8a92-0e41e6430b68 \"IF...ELSE Statements\")\n",
    "\n",
    "### Example: Maximum of two numbers"
   ]
  },
  {
   "cell_type": "code",
   "execution_count": 10,
   "id": "541d5340-64e8-4e57-a342-2614d01e2e11",
   "metadata": {},
   "outputs": [
    {
     "name": "stdout",
     "output_type": "stream",
     "text": [
      "12\n"
     ]
    }
   ],
   "source": [
    "import sys\n",
    "\n",
    "a = 5\n",
    "b = 12\n",
    "\n",
    "if a > b:\n",
    "    maximum = a\n",
    "else:\n",
    "    maximum = b\n",
    "\n",
    "print(maximum)\n"
   ]
  },
  {
   "cell_type": "markdown",
   "id": "dbd21108-57c1-4e9e-afcb-d8da96d9b7d0",
   "metadata": {},
   "source": [
    "## 3. The elif Statement\n",
    "The **elif** statement allows you to check multiple expressions for **TRUE** and execute a block of code as soon as one of the conditions evaluates to TRUE.\n",
    "Similar to the else, the elif statement is optional. However, unlike else, for which there can be at most one statement, there can be an arbitrary number of elif statements following an if.\n",
    "### Syntax"
   ]
  },
  {
   "cell_type": "code",
   "execution_count": 16,
   "id": "b6d2168e-2b55-421f-89e9-9323d9343e0c",
   "metadata": {},
   "outputs": [
    {
     "ename": "NameError",
     "evalue": "name 'expression1' is not defined",
     "output_type": "error",
     "traceback": [
      "\u001b[1;31m---------------------------------------------------------------------------\u001b[0m",
      "\u001b[1;31mNameError\u001b[0m                                 Traceback (most recent call last)",
      "\u001b[1;32m~\\AppData\\Local\\Temp/ipykernel_6036/4258114274.py\u001b[0m in \u001b[0;36m<module>\u001b[1;34m\u001b[0m\n\u001b[1;32m----> 1\u001b[1;33m \u001b[1;32mif\u001b[0m \u001b[0mexpression1\u001b[0m\u001b[1;33m:\u001b[0m\u001b[1;33m\u001b[0m\u001b[1;33m\u001b[0m\u001b[0m\n\u001b[0m\u001b[0;32m      2\u001b[0m    \u001b[0mstatement\u001b[0m\u001b[1;33m(\u001b[0m\u001b[0ms\u001b[0m\u001b[1;33m)\u001b[0m\u001b[1;33m\u001b[0m\u001b[1;33m\u001b[0m\u001b[0m\n\u001b[0;32m      3\u001b[0m \u001b[1;32melif\u001b[0m \u001b[0mexpression2\u001b[0m\u001b[1;33m:\u001b[0m\u001b[1;33m\u001b[0m\u001b[1;33m\u001b[0m\u001b[0m\n\u001b[0;32m      4\u001b[0m    \u001b[0mstatement\u001b[0m\u001b[1;33m(\u001b[0m\u001b[0ms\u001b[0m\u001b[1;33m)\u001b[0m\u001b[1;33m\u001b[0m\u001b[1;33m\u001b[0m\u001b[0m\n\u001b[0;32m      5\u001b[0m \u001b[1;32melif\u001b[0m \u001b[0mexpression3\u001b[0m\u001b[1;33m:\u001b[0m\u001b[1;33m\u001b[0m\u001b[1;33m\u001b[0m\u001b[0m\n",
      "\u001b[1;31mNameError\u001b[0m: name 'expression1' is not defined"
     ]
    }
   ],
   "source": [
    "if expression1:\n",
    "   statement(s)\n",
    "elif expression2:\n",
    "   statement(s)\n",
    "elif expression3:\n",
    "   statement(s)\n",
    "else:\n",
    "   statement(s)"
   ]
  },
  {
   "cell_type": "markdown",
   "id": "0e2505ce-4f8f-4cda-a0f6-0d1703a954c9",
   "metadata": {},
   "source": [
    "### Example: Income Tax Calculator"
   ]
  },
  {
   "cell_type": "code",
   "execution_count": 18,
   "id": "169f9683-121d-46b1-b393-b879a0d94a7f",
   "metadata": {},
   "outputs": [
    {
     "name": "stdout",
     "output_type": "stream",
     "text": [
      "35000.0\n"
     ]
    }
   ],
   "source": [
    "import sys\n",
    "\n",
    "income = 125000\n",
    "\n",
    "if   income < 0:      rate = 0.00\n",
    "elif income < 8925:   rate = 0.10\n",
    "elif income < 36250:  rate = 0.15\n",
    "elif income < 87850:  rate = 0.23\n",
    "elif income < 183250: rate = 0.28\n",
    "elif income < 398350: rate = 0.33\n",
    "elif income < 400000: rate = 0.35\n",
    "else:                 rate = 0.396\n",
    "\n",
    "print(income * rate)"
   ]
  },
  {
   "cell_type": "markdown",
   "id": "f899704e-2634-4612-acb3-837bdec7e8a6",
   "metadata": {},
   "source": [
    "## 4. and\n",
    "The **and** keyword is a logical operator, and is used to combine conditional statements:\n",
    "\n",
    "### Example\n",
    "Test if **a** is greater than **b**, AND if **c** is greater than **a**:"
   ]
  },
  {
   "cell_type": "code",
   "execution_count": 20,
   "id": "f4f01256-a721-4fb4-afa5-6d6002d7f2df",
   "metadata": {},
   "outputs": [
    {
     "name": "stdout",
     "output_type": "stream",
     "text": [
      "Both conditions are True\n"
     ]
    }
   ],
   "source": [
    "a = 150\n",
    "b = 46\n",
    "c = 480\n",
    "if a > b and c > a:\n",
    "  print(\"Both conditions are True\")"
   ]
  },
  {
   "cell_type": "markdown",
   "id": "39052c1e-5466-48d5-ade1-69bc58ada09d",
   "metadata": {},
   "source": [
    "## 5. or\n",
    "The **or** keyword is a logical operator, and is used to combine conditional statements:\n",
    "\n",
    "### Example\n",
    "Test if **a** is greater than **b**, OR if **a** is greater than **c**:"
   ]
  },
  {
   "cell_type": "code",
   "execution_count": 22,
   "id": "8309e227-92ab-4e86-89b4-d221ad377667",
   "metadata": {},
   "outputs": [
    {
     "name": "stdout",
     "output_type": "stream",
     "text": [
      "At least one of the conditions is True\n"
     ]
    }
   ],
   "source": [
    "a = 150\n",
    "b = 46\n",
    "c = 480\n",
    "if a > b or a > c:\n",
    "  print(\"At least one of the conditions is True\")"
   ]
  },
  {
   "cell_type": "markdown",
   "id": "7e3c884e-3398-41f8-b694-db81112ce6cd",
   "metadata": {},
   "source": [
    "## 6. Nested If\n",
    "You can have if statements inside if statements, this is called nested if statements.\n",
    "### Example"
   ]
  },
  {
   "cell_type": "code",
   "execution_count": 23,
   "id": "821e8146-92b3-48dd-b435-e1a8061170ac",
   "metadata": {},
   "outputs": [
    {
     "name": "stdout",
     "output_type": "stream",
     "text": [
      "Above ten,\n",
      "and also above 20!\n"
     ]
    }
   ],
   "source": [
    "x = 50\n",
    "\n",
    "if x > 10:\n",
    "  print(\"Above ten,\")\n",
    "  if x > 20:\n",
    "    print(\"and also above 20!\")\n",
    "  else:\n",
    "    print(\"but not above 20.\")"
   ]
  },
  {
   "cell_type": "markdown",
   "id": "cf72ea8f-93b0-4b5e-83ae-3b1b5515b1ce",
   "metadata": {},
   "source": [
    "## 7. The pass Statement\n",
    "if statements **cannot be empty**, but if you for some reason have an if statement with no content, put in the **pass** statement to **avoid getting an error**.\n",
    "\n",
    "### Example"
   ]
  },
  {
   "cell_type": "code",
   "execution_count": 26,
   "id": "e8eb1525-a0db-43c5-aa8f-598d92b72be0",
   "metadata": {},
   "outputs": [],
   "source": [
    "a = 33\n",
    "b = 200\n",
    "\n",
    "if b > a:\n",
    "  pass"
   ]
  },
  {
   "cell_type": "code",
   "execution_count": null,
   "id": "81693583-e83a-48dd-b9f2-530fbb48df9a",
   "metadata": {},
   "outputs": [],
   "source": []
  }
 ],
 "metadata": {
  "kernelspec": {
   "display_name": "Python 3 (ipykernel)",
   "language": "python",
   "name": "python3"
  },
  "language_info": {
   "codemirror_mode": {
    "name": "ipython",
    "version": 3
   },
   "file_extension": ".py",
   "mimetype": "text/x-python",
   "name": "python",
   "nbconvert_exporter": "python",
   "pygments_lexer": "ipython3",
   "version": "3.8.6"
  }
 },
 "nbformat": 4,
 "nbformat_minor": 5
}
