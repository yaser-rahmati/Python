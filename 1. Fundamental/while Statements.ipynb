{
 "cells": [
  {
   "cell_type": "markdown",
   "id": "b85894b4-914a-4150-826c-c4e0d70f0237",
   "metadata": {},
   "source": [
    "## *while* Statements\n",
    "\n",
    "A while loop statement in Python programming language repeatedly executes a target statement as long as a given condition is true.\n",
    "\n",
    "## Syntax"
   ]
  },
  {
   "cell_type": "code",
   "execution_count": null,
   "id": "eef78f37-481e-4528-83b9-d58078ff1bd7",
   "metadata": {},
   "outputs": [],
   "source": [
    "while expression:\n",
    "   statement(s)"
   ]
  },
  {
   "cell_type": "markdown",
   "id": "56e63bc6-797a-4a8a-87b8-7c86bc6386ec",
   "metadata": {},
   "source": [
    "* The loop iterates **while the condition is true**.\n",
    "* When the condition becomes false, program control passes to the line immediately following the loop.\n",
    "* Python uses **indentation** as its method of grouping statements."
   ]
  },
  {
   "cell_type": "markdown",
   "id": "1a0e4fc4-7ea9-4b1a-bafa-5b782371db0d",
   "metadata": {},
   "source": [
    "## Flow Diagram\n",
    "\n",
    "![alt text](https://4137876152-files.gitbook.io/~/files/v0/b/gitbook-28427.appspot.com/o/assets%2F-M2g31CUvdCruJm660Ot%2F-McnSTAFjVaDSRKhu5hw%2F-McnTDC-GQb_aCsZ0HnH%2F664.jpg?alt=media&token=f4c38291-3a9f-4ca3-bf1c-6cafb91650a2 \"while Statements\")\n",
    "\n"
   ]
  },
  {
   "cell_type": "markdown",
   "id": "315970ca-6edf-4a95-bda9-eceed8993f91",
   "metadata": {},
   "source": [
    "### Example 1\n",
    "\n",
    "Print $i$ as long as $i$ is less than $6$:"
   ]
  },
  {
   "cell_type": "code",
   "execution_count": 1,
   "id": "81ca647e-9e06-47ea-8368-c9aba06b6904",
   "metadata": {},
   "outputs": [
    {
     "name": "stdout",
     "output_type": "stream",
     "text": [
      "1\n",
      "2\n",
      "3\n",
      "4\n",
      "5\n"
     ]
    }
   ],
   "source": [
    "i = 1\n",
    "while i < 6:\n",
    "  print(i)\n",
    "  i += 1"
   ]
  },
  {
   "cell_type": "markdown",
   "id": "0f536c2f-9b26-4749-8c8d-3206b1e78289",
   "metadata": {},
   "source": [
    "### Example 2: *Check Armstrong Number*\n",
    "\n",
    "A positive integer is called an Armstrong number of order $n$ if:\n",
    "\n",
    "$$ abcd... = (a^{n})+ (b^{n}) + (c^{n}) + (d^{n}) + ... $$\n",
    "\n",
    "In the case of an Armstrong number of $3$ digits, the sum of cubes of each digit is equal to the number itself. For example:\n",
    "\n",
    "$$ 153 = (1)^{3} + (5)^{3} + (3)^{3} $$\n",
    "\n"
   ]
  },
  {
   "cell_type": "code",
   "execution_count": 4,
   "id": "6a1e17d2-52d7-473a-ba35-122ba72b1127",
   "metadata": {},
   "outputs": [
    {
     "name": "stdin",
     "output_type": "stream",
     "text": [
      "Enter your number:  153\n"
     ]
    },
    {
     "name": "stdout",
     "output_type": "stream",
     "text": [
      "153 is an Armstrong number\n"
     ]
    }
   ],
   "source": [
    "# To take input from the user.\n",
    "# try 663, 407, 153, 370, 371\n",
    "num = int(input('Enter your number: '))\n",
    "\n",
    "# initialize sum\n",
    "sum = 0\n",
    "\n",
    "# find the sum of the cube of each digit\n",
    "temp = num\n",
    "while temp > 0:\n",
    "   digit = temp % 10\n",
    "   sum += digit ** 3\n",
    "   temp //= 10\n",
    "\n",
    "# display the result\n",
    "if num == sum:\n",
    "   print(num,\"is an Armstrong number\")\n",
    "else:\n",
    "   print(num,\"is not an Armstrong number\")"
   ]
  },
  {
   "cell_type": "markdown",
   "id": "d077bc04-85db-4183-b1bf-cdaf26c36c58",
   "metadata": {},
   "source": [
    "### Example 3: *Fibonacci sequence*\n",
    "\n",
    "A Fibonacci sequence is the integer sequence of $0, 1, 1, 2, 3, 5, 8...$. The first two terms are $0$ and $1$. All other terms are obtained by adding the preceding two terms. This means to say the $n$th term is the sum of $(n-1)$th and $(n-2)$th term."
   ]
  },
  {
   "cell_type": "code",
   "execution_count": 5,
   "id": "91e8d755-a934-4e9d-94ce-b49460abea7f",
   "metadata": {},
   "outputs": [
    {
     "name": "stdin",
     "output_type": "stream",
     "text": [
      "Enter your number:  10\n"
     ]
    },
    {
     "name": "stdout",
     "output_type": "stream",
     "text": [
      "Fibonacci sequence:\n",
      "0\n",
      "1\n",
      "1\n",
      "2\n",
      "3\n",
      "5\n",
      "8\n",
      "13\n",
      "21\n",
      "34\n"
     ]
    }
   ],
   "source": [
    "# To take input from the user\n",
    "nterms = int(input('Enter your number: '))\n",
    "\n",
    "# first two terms\n",
    "n1, n2 = 0, 1\n",
    "count = 0\n",
    "\n",
    "# check if the number of terms is valid\n",
    "if nterms <= 0:\n",
    "   print(\"Please enter a positive integer\")\n",
    "# if there is only one term, return n1\n",
    "elif nterms == 1:\n",
    "   print(\"Fibonacci sequence upto\",nterms,\":\")\n",
    "   print(n1)\n",
    "# generate fibonacci sequence\n",
    "else:\n",
    "   print(\"Fibonacci sequence:\")\n",
    "   while count < nterms:\n",
    "       print(n1)\n",
    "       nth = n1 + n2\n",
    "       # update values\n",
    "       n1 = n2\n",
    "       n2 = nth\n",
    "       count += 1"
   ]
  },
  {
   "cell_type": "markdown",
   "id": "9e5f9bbd-7d18-4b91-8ac9-7a31a47e01cd",
   "metadata": {},
   "source": [
    "## The *break* Statement\n",
    "\n",
    "With the $break$ statement we can stop the loop even if the while condition is true:\n",
    "\n",
    "#### Example 4\n",
    "\n",
    "Exit the loop when $i$ is $3$:"
   ]
  },
  {
   "cell_type": "code",
   "execution_count": 6,
   "id": "ef17fb07-fff0-4774-b505-faed819314b1",
   "metadata": {},
   "outputs": [
    {
     "name": "stdout",
     "output_type": "stream",
     "text": [
      "1\n",
      "2\n",
      "3\n"
     ]
    }
   ],
   "source": [
    "i = 1\n",
    "while i < 6:\n",
    "  print(i)\n",
    "  if i == 3:\n",
    "    break\n",
    "  i += 1"
   ]
  },
  {
   "cell_type": "code",
   "execution_count": null,
   "id": "f89354c2-ad85-4e57-8bdb-af16bfbff2e4",
   "metadata": {},
   "outputs": [],
   "source": []
  }
 ],
 "metadata": {
  "kernelspec": {
   "display_name": "Python 3 (ipykernel)",
   "language": "python",
   "name": "python3"
  },
  "language_info": {
   "codemirror_mode": {
    "name": "ipython",
    "version": 3
   },
   "file_extension": ".py",
   "mimetype": "text/x-python",
   "name": "python",
   "nbconvert_exporter": "python",
   "pygments_lexer": "ipython3",
   "version": "3.8.6"
  }
 },
 "nbformat": 4,
 "nbformat_minor": 5
}
