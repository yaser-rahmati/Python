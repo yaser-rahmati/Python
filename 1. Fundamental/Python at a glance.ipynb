{
 "cells": [
  {
   "cell_type": "markdown",
   "id": "3ac02e09-c8dc-4e74-92e2-1bfaef7fd62a",
   "metadata": {},
   "source": [
    "## Python Applications\n",
    "Python is known for its **general-purpose nature** that makes it applicable in **almost every domain of software development**. Python makes its presence in every emerging field. It is the fastest-growing programming language and can develop any application. Here, we are specifying application areas where Python can be applied.\n",
    "![alt text](https://yaser-rahmati.gitbook.io/~/files/v0/b/gitbook-28427.appspot.com/o/assets%2F-M2g31CUvdCruJm660Ot%2F-McmJZSF_cgelpo0MZ09%2F-McmJofbJ8HySkJCuc5h%2F662.png?alt=media&token=cb3bd2fe-ef0a-451d-8ddc-4e5d775f5573 \"Python Applications\")"
   ]
  },
  {
   "cell_type": "markdown",
   "id": "8004dd78-a6ce-48a9-9aad-4f1699eadb4d",
   "metadata": {},
   "source": [
    "### 1) Web Applications\n",
    "We can use Python to develop web applications. It provides libraries to handle internet protocols such as HTML and XML, JSON, Email processing, request, beautifulSoup, Feedparser, etc. One of Python web-framework named **Django** is used on Instagram. Python provides many useful frameworks, and these are given below:\n",
    "* **Django** and Pyramid framework(Use for heavy applications)\n",
    "* **Flask** and Bottle (Micro-framework)\n",
    "* **Plone** and Django CMS (Advance Content management)\n",
    "\n",
    "### 2) Desktop GUI Applications\n",
    "The GUI stands for the **Graphical User Interface**, which provides a smooth interaction to any application. Python provides a Tk GUI library to develop a user interface. Some popular GUI libraries are given below.\n",
    "* **Tkinter** or **Tk**\n",
    "* **wxWidgetM**\n",
    "* **Kivy** (used for writing multitouch applications )\n",
    "* **PyQt** or **Pyside**\n",
    "\n",
    "### 3) Console-based Application\n",
    "Console-based applications run from the **command-line** or **shell**. These applications are computer program which are used commands to execute. This kind of application was more popular in the old generation of computers. Python can develop this kind of application very effectively. It is famous for having **REPL**, which means the **Read-Eval-Print Loop** that makes it the most suitable language for the command-line applications.\n",
    "Python provides many free library or module which helps to build the command-line apps. The necessary IO libraries are used to read and write. It helps to parse argument and create console help text out-of-the-box. There are also advance libraries that can develop independent console apps.\n",
    "\n",
    "### 4) Software Development\n",
    "Python is useful for the software development process. It works as a support language and can be used to build control and management, testing, etc.\n",
    "* **SCons** is used to build control.\n",
    "* **Buildbot** and Apache Gumps are used for automated continuous compilation and testing.\n",
    "* **Round** or **Trac** for bug tracking and project management.\n",
    "\n",
    "### 5) Scientific and Numeric\n",
    "This is the era of Artificial intelligence where the machine can perform the task the same as the human. Python language is the most suitable language for **Artificial intelligence** or **machine learning**. It consists of many scientific and mathematical libraries, which makes easy to solve complex calculations.\n",
    "Implementing machine learning algorithms require complex mathematical calculation. Python has many libraries for scientific and numeric such as Numpy, Pandas, Scipy, Scikit-learn, etc. If you have some basic knowledge of Python, you need to import libraries on the top of the code. Few popular frameworks of machine libraries are given below.\n",
    "* **SciPy**\n",
    "* **Scikit-learn**\n",
    "* **NumPy**\n",
    "* **Pandas**\n",
    "* **Matplotlib**\n",
    "\n",
    "### 6) Business Applications\n",
    "**Business** Applications differ from **standard** applications. **E-commerce** and **ERP** are an example of a business application. This kind of application requires **extensively**, **scalability** and **readability**, and Python provides all these features.\n",
    "**Oddo** is an example of the all-in-one Python-based application which offers a range of business applications. Python provides a **Tryton** platform which is used to develop the business application.\n",
    "\n",
    "### 7) Audio or Video-based Applications\n",
    "Python is flexible to perform multiple tasks and can be used to create multimedia applications. Some multimedia applications which are made by using Python are **TimPlayer**, **cplay**, etc. The few multimedia libraries are given below.\n",
    "* Gstreamer\n",
    "* Pyglet\n",
    "* QT Phonon\n",
    "\n",
    "### 8) 3D CAD Applications\n",
    "The CAD (Computer-aided design) is used to design engineering related architecture. It is used to develop the 3D representation of a part of a system. Python can create a 3D CAD application by using the following functionalities.\n",
    "* **Fandango** (Popular )\n",
    "* **CAMVOX**\n",
    "* **HeeksCNC**\n",
    "* **AnyCAD**\n",
    "* **RCAM**\n",
    "\n",
    "### 9) Enterprise Applications\n",
    "Python can be used to create applications that can be used within an Enterprise or an Organization. Some real-time applications are **OpenERP**, **Tryton**, **Picalo**, etc.\n",
    "\n",
    "### 10) Image Processing Application\n",
    "Python contains many libraries that are used to work with the image. The image can be manipulated according to our requirements. Some libraries of image processing are given below.\n",
    "* **OpenCV**\n",
    "* **Pillow** \n",
    "* **SimpleITK**"
   ]
  },
  {
   "cell_type": "markdown",
   "id": "d353e1d7-f79c-4a7f-b446-4ece63ae57ca",
   "metadata": {},
   "source": [
    "## How To Install Python 3 on Windows 10\n",
    "### Step 1: Download Python Executable Installer\n",
    "Open your web browser and navigate to the [Downloads for Windows section](https://www.python.org/downloads/windows/) of the [official Python website](https://www.python.org/). Search for your desired version of Python. At the time of publishing this article, the latest Python 3 release is version 3.9.5, while the latest Python 2 release is version 2.7.18.\n",
    "\n",
    "### Step 2: Run Executable Installer\n",
    "Run the **Python Installer** once downloaded. Make sure you select the **Install launcher for all users** and **Add Python 3.7 to PATH** checkboxes. Select **Install Now** – the recommended installation options. For all recent versions of Python, the recommended installation options include **Pip** and **IDLE**.\n",
    "\n",
    "![alt text](https://yaser-rahmati.gitbook.io/~/files/v0/b/gitbook-28427.appspot.com/o/assets%2F-M2g31CUvdCruJm660Ot%2F-MceJ9xMUIpi7M5_nZac%2F-MceJSRyZP2ALbFo-aSF%2F640.png?alt=media&token=71231f9d-2dc9-4ddf-95de-3a893af14556 \"Python Setup\")\n",
    "\n",
    "The next dialog will prompt you to select whether to **Disable path length limit**. Choosing this option will allow Python to bypass the 260-character MAX_PATH limit. Effectively, it will enable Python to use long path names.\n",
    "\n",
    "![alt text](https://yaser-rahmati.gitbook.io/~/files/v0/b/gitbook-28427.appspot.com/o/assets%2F-M2g31CUvdCruJm660Ot%2F-MceJrzRqGusjqtVvN7t%2F-MceKH7uRbBg_p3jAIOL%2F641.png?alt=media&token=b9927901-635f-4fc8-9d39-8ac2717e5946 \"Python Setup\")\n",
    "\n",
    "\n",
    "### Step 3: Verify Python Was Installed On Windows  \n",
    "Navigate to the directory in which Python was installed on the system. In our case, it is **C:\\Users\\Username\\AppData\\Local\\Programs\\Python\\Python37** since we have installed the latest version. Double-click **python.exe**. The output should be similar to what you can see below:\n",
    "\n",
    "![alt text](https://yaser-rahmati.gitbook.io/~/files/v0/b/gitbook-28427.appspot.com/o/assets%2F-M2g31CUvdCruJm660Ot%2F-MceKfyqDqbIHd4OQbrm%2F-MceKuAqOdXdXIxsQVHA%2F642.png?alt=media&token=97f288e3-2c34-456b-ae6b-0b7ad6616d33 \"Python\")\n",
    "\n",
    "## My First Program\n",
    "### 1) Run Python in Immediate mode\n",
    "Once Python is installed, typing python in the command line will invoke the interpreter in immediate mode. We can directly type in Python code, and press Enter to get the output. Try typing in **1 + 1** and press enter. We get 2 as the output. This prompt can be used as a calculator. To exit this mode, type **quit()** or **exit()** and press enter.\n",
    "\n",
    "![alt text](https://yaser-rahmati.gitbook.io/~/files/v0/b/gitbook-28427.appspot.com/o/assets%2F-M2g31CUvdCruJm660Ot%2F-MceOBj0ml0FZPVPnhKL%2F-MceOWIiJmEAcuCrF8zy%2F643.jpg?alt=media&token=0ae420a0-5674-4c29-9e66-2c58cf600089 \"Python\")\n",
    "\n",
    "### 2) Run Python in the Integrated Development Environment (IDE)\n",
    "We can use any text editing software to write a Python script file. We just need to save it with the **.py** extension. But using an IDE can make our life a lot easier. \n",
    "* IDE is a piece of software that provides useful features like code hinting, syntax highlighting and checking, file explorers, etc. to the programmer for application development.\n",
    "By the way, when you install Python, an IDE named IDLE is also installed. When you open IDLE, an interactive Python Shell is opened.\n",
    "\n",
    "![alt text](https://yaser-rahmati.gitbook.io/~/files/v0/b/gitbook-28427.appspot.com/o/assets%2F-M2g31CUvdCruJm660Ot%2F-MceSsj_2wfZQlFfOJSS%2F-MceTE9wMCfpyrLmoU_v%2F644.jpg?alt=media&token=652822c0-9b82-450f-b472-a095eb224306 \"IDLE\")\n",
    "\n",
    "Now you can create a new file and save it with **.py** extension. For example, **hello.py**. Write Python code in the file and save it. To run the file, go to **Run > Run Module** or simply click **F5**.\n",
    "\n",
    "![alt text](https://yaser-rahmati.gitbook.io/~/files/v0/b/gitbook-28427.appspot.com/o/assets%2F-M2g31CUvdCruJm660Ot%2F-MceTeUtq-GkW3U_V3m7%2F-MceTl_Wjt_l3C2I8WQY%2F645.jpg?alt=media&token=e748a3f7-32ca-4a76-a1ff-1c80c1a8edca \"Run\")\n",
    "\n",
    "### 3) My first Python Program\n",
    "Now that we have Python up and running, we can write our first Python program. Let's create a very simple program called **Hello World**. A \"Hello, World!\" is a simple program that outputs **Hello, World!** on the screen. Since it's a very simple program, it's often used to introduce a new programming language to beginners. Type the following code in any text editor or an IDE and save it as **hello_world.py**"
   ]
  },
  {
   "cell_type": "code",
   "execution_count": 1,
   "id": "b9c0bf4a-af94-4864-8a7c-b6849cafc309",
   "metadata": {},
   "outputs": [
    {
     "name": "stdout",
     "output_type": "stream",
     "text": [
      "Hello, world!\n"
     ]
    }
   ],
   "source": [
    "print(\"Hello, world!\")"
   ]
  },
  {
   "cell_type": "markdown",
   "id": "cec3c0b0-c5b6-4fb0-841f-46f81d393b6c",
   "metadata": {},
   "source": [
    "Congratulations! You just wrote your first program in Python."
   ]
  }
 ],
 "metadata": {
  "kernelspec": {
   "display_name": "Python 3 (ipykernel)",
   "language": "python",
   "name": "python3"
  },
  "language_info": {
   "codemirror_mode": {
    "name": "ipython",
    "version": 3
   },
   "file_extension": ".py",
   "mimetype": "text/x-python",
   "name": "python",
   "nbconvert_exporter": "python",
   "pygments_lexer": "ipython3",
   "version": "3.8.6"
  }
 },
 "nbformat": 4,
 "nbformat_minor": 5
}
