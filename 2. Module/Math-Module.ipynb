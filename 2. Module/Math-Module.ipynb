{
 "cells": [
  {
   "cell_type": "markdown",
   "id": "9ac2b0fe-0c43-4c5b-9214-05548442a794",
   "metadata": {},
   "source": [
    "# Math Module\n",
    "Python has a **built-in** module that you can use for mathematical tasks. The math module has a set of **methods** and **constants**."
   ]
  },
  {
   "cell_type": "markdown",
   "id": "1960014b-46e7-42a4-b62a-8d77787d2068",
   "metadata": {},
   "source": [
    "## 1. Math Constants\n",
    "Constants provided by the math module are :\n",
    "* Euler’s Number\n",
    "* Pi\n",
    "* Tau\n",
    "* Infinity\n",
    "* Not a Number (NaN)"
   ]
  },
  {
   "cell_type": "code",
   "execution_count": 1,
   "id": "79593b43-e95e-473d-86a6-4e2b41d556c1",
   "metadata": {},
   "outputs": [
    {
     "name": "stdout",
     "output_type": "stream",
     "text": [
      "2.718281828459045\n",
      "3.141592653589793\n",
      "6.283185307179586\n",
      "inf\n",
      "-inf\n",
      "nan\n"
     ]
    }
   ],
   "source": [
    "# Import math Library\n",
    "import math\n",
    " \n",
    "# Print the value of Euler e\n",
    "print (math.e)\n",
    "\n",
    "# Print the value of pi\n",
    "print (math.pi)\n",
    "\n",
    "# Print the value of tau\n",
    "print (math.tau)\n",
    "\n",
    "# Print the positive infinity\n",
    "print (math.inf)\n",
    " \n",
    "# Print the negative infinity\n",
    "print (-math.inf)\n",
    "\n",
    "# Print the value of nan\n",
    "print (math.nan)"
   ]
  },
  {
   "cell_type": "markdown",
   "id": "8fa7e488-ac46-4e07-9ec5-cefae34b93a5",
   "metadata": {},
   "source": [
    "### Example 1: \n",
    "Let’s find the area of the circle."
   ]
  },
  {
   "cell_type": "code",
   "execution_count": 4,
   "id": "c6afae27-c4a6-4ac5-b0c2-ef08e34c9336",
   "metadata": {},
   "outputs": [
    {
     "name": "stdout",
     "output_type": "stream",
     "text": [
      "78.53981633974483\n"
     ]
    }
   ],
   "source": [
    "# Import math Library\n",
    "import math\n",
    " \n",
    "# radius of the circle\n",
    "r = 5\n",
    " \n",
    "# area of the circle\n",
    "print(math.pi * r * r)"
   ]
  },
  {
   "cell_type": "markdown",
   "id": "9bdca65e-8169-482b-ab22-3653c34bc065",
   "metadata": {},
   "source": [
    "### Example 2: \n",
    "Comparing the values of infinity with the maximum floating point value."
   ]
  },
  {
   "cell_type": "code",
   "execution_count": 5,
   "id": "1b25c09e-99ce-475b-9ca2-a6fc5a7d3a37",
   "metadata": {},
   "outputs": [
    {
     "name": "stdout",
     "output_type": "stream",
     "text": [
      "True\n",
      "True\n"
     ]
    }
   ],
   "source": [
    "# Import math Library\n",
    "import math\n",
    " \n",
    "print (math.inf > 10e108)\n",
    "print (-math.inf < -10e108)"
   ]
  },
  {
   "cell_type": "markdown",
   "id": "4243e41c-8d3a-4729-b0a0-b9a3b8a4280b",
   "metadata": {},
   "source": [
    "## 2. Arithmetic Functions\n",
    "The Python **math** module provides functions that are useful in **number theory**. These functions allow you to calculate a range of important values, including the following:\n",
    "\n",
    "* The factorials of a number\n",
    "* The greatest common divisor of two numbers"
   ]
  },
  {
   "cell_type": "markdown",
   "id": "01fa731c-b616-4eb5-ada4-35534a87735b",
   "metadata": {},
   "source": [
    "### Finding the factorial of the number"
   ]
  },
  {
   "cell_type": "code",
   "execution_count": 11,
   "id": "22b1c75a-600a-4dc7-81ab-c753356d21df",
   "metadata": {},
   "outputs": [
    {
     "name": "stdout",
     "output_type": "stream",
     "text": [
      "The factorial of 10 is :  3628800\n"
     ]
    }
   ],
   "source": [
    "# Python code to demonstrate the working of factorial()\n",
    " \n",
    "# importing \"math\" for mathematical operations\n",
    "import math\n",
    " \n",
    "x = 10\n",
    " \n",
    "# returning the factorial of 10\n",
    "print(\"The factorial of 10 is : \" , math.factorial(x))\n"
   ]
  },
  {
   "cell_type": "markdown",
   "id": "ebdae369-e102-4cbd-af33-9092ff71f4a0",
   "metadata": {},
   "source": [
    "### Finding the GCD (greatest common divisor)"
   ]
  },
  {
   "cell_type": "code",
   "execution_count": 12,
   "id": "1d8d7634-4286-4b2b-8a66-f477dad20dee",
   "metadata": {},
   "outputs": [
    {
     "name": "stdout",
     "output_type": "stream",
     "text": [
      "The gcd of 105 and 75 is :  15\n"
     ]
    }
   ],
   "source": [
    "# Python code to demonstrate the working of gcd()\n",
    " \n",
    "# importing \"math\" for mathematical operations\n",
    "import math\n",
    " \n",
    "x = 105\n",
    "y = 75\n",
    " \n",
    "# returning the gcd of 15 and 5\n",
    "print (\"The gcd of 105 and 75 is : \" , math.gcd(x, y))"
   ]
  },
  {
   "cell_type": "markdown",
   "id": "8d823ea1-e594-4905-b60a-4973ecf54239",
   "metadata": {},
   "source": [
    "## 3. Logarithmic and Power Functions\n",
    "### Finding the power of exp"
   ]
  },
  {
   "cell_type": "code",
   "execution_count": 13,
   "id": "6ae9ba34-583a-4e43-9021-2b4f36f25576",
   "metadata": {},
   "outputs": [
    {
     "name": "stdout",
     "output_type": "stream",
     "text": [
      "148.4131591025766\n",
      "0.01831563888873418\n",
      "1.0\n"
     ]
    }
   ],
   "source": [
    "# Python code to demonstrate the working of exp()\n",
    "import math\n",
    " \n",
    "# initializing the value\n",
    "num_int = 5\n",
    "num_neg_int = -4\n",
    "num_float = 0.00\n",
    " \n",
    "# checking exp() values with different numbers\n",
    "print (math.exp(num_int))\n",
    "print (math.exp(num_neg_int))\n",
    "print (math.exp(num_float))"
   ]
  },
  {
   "cell_type": "markdown",
   "id": "b667e41e-abaa-47c2-b2b9-de277da75957",
   "metadata": {},
   "source": [
    "### Finding the power of a number"
   ]
  },
  {
   "cell_type": "code",
   "execution_count": 14,
   "id": "bb9bb1ff-3575-4b09-b45c-6c6752299c76",
   "metadata": {},
   "outputs": [
    {
     "name": "stdout",
     "output_type": "stream",
     "text": [
      "The value of 5**4 is :  625\n"
     ]
    }
   ],
   "source": [
    "# Python code to demonstrate pow()\n",
    " \n",
    "print (\"The value of 5**4 is : \" , pow(5,4))"
   ]
  },
  {
   "cell_type": "markdown",
   "id": "bfcd9b6c-3e96-4381-95a1-f3059adc8ed0",
   "metadata": {},
   "source": [
    "### Finding the Logarithm"
   ]
  },
  {
   "cell_type": "code",
   "execution_count": 18,
   "id": "fa440ebe-5c5f-45fc-87b1-97f3480ce13f",
   "metadata": {},
   "outputs": [
    {
     "name": "stdout",
     "output_type": "stream",
     "text": [
      "The value of log 2 with base 3 is :  0.6309297535714574\n",
      "The value of log2 of 16 is :  4.0\n",
      "The value of log10 of 10000 is :  4.0\n"
     ]
    }
   ],
   "source": [
    "# Python code to demonstrate the working of logarithm\n",
    " \n",
    "# importing \"math\" for mathematical operations\n",
    "import math\n",
    " \n",
    "# returning the log of 2,3\n",
    "print (\"The value of log 2 with base 3 is : \", math.log(2,3))\n",
    " \n",
    "# returning the log2 of 16\n",
    "print (\"The value of log2 of 16 is : \", math.log2(16))\n",
    "    \n",
    "# returning the log10 of 10000\n",
    "print (\"The value of log10 of 10000 is : \", math.log10(10000))"
   ]
  },
  {
   "cell_type": "markdown",
   "id": "ccbac089-83b9-4e54-891f-53673d2d7ec4",
   "metadata": {},
   "source": [
    "### Finding the Square root"
   ]
  },
  {
   "cell_type": "code",
   "execution_count": 19,
   "id": "96d89134-e226-4abb-a5ce-8b28fce1ccbd",
   "metadata": {},
   "outputs": [
    {
     "name": "stdout",
     "output_type": "stream",
     "text": [
      "0.0\n",
      "4.0\n",
      "2.6832815729997477\n"
     ]
    }
   ],
   "source": [
    "# Python3 program to demonstrate the sqrt() method\n",
    " \n",
    "# import the math module\n",
    "import math\n",
    " \n",
    "# print the square root of 0\n",
    "print(math.sqrt(0))\n",
    " \n",
    "# print the square root of 16\n",
    "print(math.sqrt(16))\n",
    " \n",
    "# print the square root of 7.2\n",
    "print(math.sqrt(7.2))"
   ]
  },
  {
   "cell_type": "markdown",
   "id": "2b8a1154-0316-4340-a044-9e571311020e",
   "metadata": {},
   "source": [
    "## 4. Trigonometric and Angular Functions\n",
    "### Finding sine, cosine, and tangent"
   ]
  },
  {
   "cell_type": "code",
   "execution_count": 21,
   "id": "4332ca24-bbe5-4452-8722-18becc54ef1e",
   "metadata": {},
   "outputs": [
    {
     "name": "stdout",
     "output_type": "stream",
     "text": [
      "The value of sine of pi/3 is :  0.8660254037844386\n",
      "The value of cosine of pi/3 is :  0.5000000000000001\n",
      "The value of tangent of pi/3 is :  1.7320508075688767\n"
     ]
    }
   ],
   "source": [
    "# Python code to demonstrate the working of sin(), cos(), and tan()\n",
    " \n",
    "# importing \"math\" for mathematical operations\n",
    "import math\n",
    " \n",
    "a = math.pi/3\n",
    " \n",
    "# returning the value of sine of pi/3\n",
    "print (\"The value of sine of pi/3 is : \", math.sin(a))\n",
    " \n",
    "# returning the value of cosine of pi/3\n",
    "print (\"The value of cosine of pi/3 is : \", math.cos(a))\n",
    " \n",
    "# returning the value of tangent of pi/3\n",
    "print (\"The value of tangent of pi/3 is : \", math.tan(a))"
   ]
  },
  {
   "cell_type": "markdown",
   "id": "ff248295-5720-4a51-9efb-d37254e0084c",
   "metadata": {},
   "source": [
    "### Converting values from degrees to radians and vice versa"
   ]
  },
  {
   "cell_type": "code",
   "execution_count": 24,
   "id": "aa590707-85c6-4428-9fe1-7242359ba0f3",
   "metadata": {},
   "outputs": [
    {
     "name": "stdout",
     "output_type": "stream",
     "text": [
      "The converted value from radians to degrees is :  45.0\n",
      "The converted value from degrees to radians is :  0.7853981633974483\n"
     ]
    }
   ],
   "source": [
    "# Python code to demonstrate the working of degrees() and radians()\n",
    " \n",
    "# importing \"math\" for mathematical operations\n",
    "import math\n",
    " \n",
    "x = math.pi/4\n",
    "y = 45\n",
    " \n",
    "# returning the converted value from radians to degrees\n",
    "print (\"The converted value from radians to degrees is : \", math.degrees(x))\n",
    " \n",
    "# returning the converted value from degrees to radians\n",
    "print (\"The converted value from degrees to radians is : \", math.radians(y))"
   ]
  },
  {
   "cell_type": "markdown",
   "id": "db3d940d-c86e-44a9-8fa5-1ada58635656",
   "metadata": {},
   "source": [
    "## 5. Numeric Functions"
   ]
  },
  {
   "cell_type": "code",
   "execution_count": 30,
   "id": "5e470812-6631-4813-a457-a6b3699b03ac",
   "metadata": {},
   "outputs": [
    {
     "name": "stdout",
     "output_type": "stream",
     "text": [
      "The ceil of 2.3 is :  3\n",
      "The floor of 2.3 is :  2\n",
      "The absolute value of -10 is :  10.0\n",
      "The copysigned value of -10 and 5.5 is :  -5.5\n"
     ]
    }
   ],
   "source": [
    "# importing \"math\" for mathematical operations\n",
    "import math\n",
    "\n",
    "# ceil() : smallest integral value greater than the number\n",
    "print (\"The ceil of 2.3 is : \", math.ceil(2.3))\n",
    "\n",
    "# floor() : greatest integral value smaller than the number\n",
    "print (\"The floor of 2.3 is : \", math.floor(2.3))\n",
    "\n",
    "# fabs() : absolute value of the number\n",
    "print (\"The absolute value of -10 is : \", math.fabs(-10))\n",
    "\n",
    "# copysign(a, b) : returns the number with the value of ‘a’ but with the sign of ‘b’\n",
    "print (\"The copysigned value of -10 and 5.5 is : \", math.copysign(5.5, -10))"
   ]
  },
  {
   "cell_type": "code",
   "execution_count": null,
   "id": "0768021f-6b8c-457d-93a2-b11bce63678a",
   "metadata": {},
   "outputs": [],
   "source": []
  }
 ],
 "metadata": {
  "kernelspec": {
   "display_name": "Python 3 (ipykernel)",
   "language": "python",
   "name": "python3"
  },
  "language_info": {
   "codemirror_mode": {
    "name": "ipython",
    "version": 3
   },
   "file_extension": ".py",
   "mimetype": "text/x-python",
   "name": "python",
   "nbconvert_exporter": "python",
   "pygments_lexer": "ipython3",
   "version": "3.8.6"
  }
 },
 "nbformat": 4,
 "nbformat_minor": 5
}
