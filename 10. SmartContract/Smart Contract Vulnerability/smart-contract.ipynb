{
 "cells": [
  {
   "cell_type": "markdown",
   "id": "6939d15c-124f-4c78-ba90-c10c402cc645",
   "metadata": {},
   "source": [
    "# Smart Contract Vulnerability Detection"
   ]
  },
  {
   "cell_type": "markdown",
   "id": "ece7b197-4933-44ef-9dac-26b1c466b9a0",
   "metadata": {
    "tags": []
   },
   "source": [
    "## Phase 1. Lab Preparation\n",
    "### 1.1. Check OS Version"
   ]
  },
  {
   "cell_type": "raw",
   "id": "b76b107e-cc53-45d5-a2b7-d84d3141753d",
   "metadata": {},
   "source": [
    "[root@localhost ~]# cat /etc/os-release\n",
    "NAME=\"CentOS Linux\"\n",
    "VERSION=\"7 (Core)\"\n",
    "ID=\"centos\"\n",
    "ID_LIKE=\"rhel fedora\"\n",
    "VERSION_ID=\"7\"\n",
    "PRETTY_NAME=\"CentOS Linux 7 (Core)\"\n",
    "ANSI_COLOR=\"0;31\"\n",
    "CPE_NAME=\"cpe:/o:centos:centos:7\"\n",
    "HOME_URL=\"https://www.centos.org/\"\n",
    "BUG_REPORT_URL=\"https://bugs.centos.org/\"\n",
    "\n",
    "CENTOS_MANTISBT_PROJECT=\"CentOS-7\"\n",
    "CENTOS_MANTISBT_PROJECT_VERSION=\"7\"\n",
    "REDHAT_SUPPORT_PRODUCT=\"centos\"\n",
    "REDHAT_SUPPORT_PRODUCT_VERSION=\"7\""
   ]
  },
  {
   "cell_type": "markdown",
   "id": "8e7ff6a0-1b9c-400c-bc9f-c51fb33eb5f4",
   "metadata": {},
   "source": [
    "### 1.2. Updating the repository"
   ]
  },
  {
   "cell_type": "raw",
   "id": "b81af88e-87fe-4548-a70b-6b316d86910c",
   "metadata": {},
   "source": [
    "[root@localhost ~]# sudo yum update -y"
   ]
  },
  {
   "cell_type": "markdown",
   "id": "d26d0894-f2ba-4a8a-af65-f1743d7b2d7b",
   "metadata": {},
   "source": [
    "### 1.3. Add NodeSource yum repository\n",
    "The current LTS version of Node.js is version 10.x. If you want to install version 8 just change **setup_10.x** with **setup_8.** in the command below. Run the following curl command to add the NodeSource yum repository to your system:"
   ]
  },
  {
   "cell_type": "raw",
   "id": "24020bf0-bae9-4491-8fbc-79d103d58fde",
   "metadata": {},
   "source": [
    "[root@localhost ~]# curl -sL https://rpm.nodesource.com/setup_10.x | sudo bash -"
   ]
  },
  {
   "cell_type": "markdown",
   "id": "35285c60-1227-4252-ae5f-7a013b6ed5e5",
   "metadata": {},
   "source": [
    "### 1.4. Install Node.js and npm\n",
    "Once the NodeSource repository is enabled, install **Node.js** and **npm** by typing:"
   ]
  },
  {
   "cell_type": "raw",
   "id": "2445e50e-cfc7-4a75-835b-3374d371cbf8",
   "metadata": {},
   "source": [
    "[root@localhost ~]# sudo yum install nodejs"
   ]
  },
  {
   "cell_type": "markdown",
   "id": "2cb39be5-6d61-4447-be93-b11533ec4608",
   "metadata": {},
   "source": [
    "### 1.5. Verify the Node.js and npm Installation\n",
    "To check that the installation was successful, run the following commands which will print the Node.js and npm versions."
   ]
  },
  {
   "cell_type": "raw",
   "id": "b6f28554-855a-4f0b-8c4e-3a4790d09dc8",
   "metadata": {},
   "source": [
    "[root@localhost ~]# node --version\n",
    "v10.24.1\n",
    "[root@localhost ~]# npm --version\n",
    "6.14.12"
   ]
  },
  {
   "cell_type": "markdown",
   "id": "4182a408-f76c-421e-aa2e-6706f67b20f1",
   "metadata": {},
   "source": [
    "### 1.6. Install Python 3\n",
    "Now that the environment is up to date, all we need do to install **Python 3** is run the following command."
   ]
  },
  {
   "cell_type": "raw",
   "id": "726cc941-a6a8-4e4f-9c0c-81963a0ea2af",
   "metadata": {},
   "source": [
    "[root@centos7 ~]# yum install -y python3"
   ]
  },
  {
   "cell_type": "markdown",
   "id": "1e0a155e-de1b-46be-937d-e999b51e9e2d",
   "metadata": {},
   "source": [
    "### 1.7. Verify Installation\n",
    "In order to ensure that Python 3 is in fact installed and usable, we can drop into a Python 3 shell by running the following command."
   ]
  },
  {
   "cell_type": "raw",
   "id": "cb858e4a-03c3-4c3a-9d46-b50aa11cc593",
   "metadata": {},
   "source": [
    "[root@centos7 ~]# python3\n",
    "Python 3.6.8 (default, Aug  7 2019, 17:28:10) \n",
    "[GCC 4.8.5 20150623 (Red Hat 4.8.5-39)] on linux\n",
    "Type \"help\", \"copyright\", \"credits\" or \"license\" for more information.\n",
    ">>> "
   ]
  },
  {
   "cell_type": "markdown",
   "id": "f80ce9aa-3252-4adb-91de-31a9eaec2547",
   "metadata": {},
   "source": [
    "### 1.8. Install Pip for Python 3\n",
    "To install Pip for Python 3 open the terminal window, enter the following:"
   ]
  },
  {
   "cell_type": "raw",
   "id": "dee2a0c8-20e3-4e46-aa09-66e65f1af044",
   "metadata": {},
   "source": [
    "[root@centos7 ~]# sudo yum –y install python3-pip"
   ]
  },
  {
   "cell_type": "markdown",
   "id": "11ab1d6f-470b-4b05-b4d4-cea9fbc8ad6a",
   "metadata": {},
   "source": [
    "### 1.9. Install Truffle\n",
    "Now, we need one command to install Truffle:"
   ]
  },
  {
   "cell_type": "raw",
   "id": "c4b7d643-a1bc-4017-9024-3d8a846373d2",
   "metadata": {},
   "source": [
    "[root@centos7 ~]# npm install -g truffle"
   ]
  },
  {
   "cell_type": "markdown",
   "id": "547bbbaa-acb9-4945-85d4-b37ac55eda2b",
   "metadata": {},
   "source": [
    "### 1.10. Verify Truffle Installation\n",
    "To verify that Truffle is installed properly, type truffle version on a terminal."
   ]
  },
  {
   "cell_type": "raw",
   "id": "8372f101-e8d2-4c6b-b69d-3e13e10a2787",
   "metadata": {},
   "source": [
    "[root@centos7 ~]# truffle version\n",
    "Truffle v5.4.22 (core: 5.4.22)\n",
    "Solidity v0.5.16 (solc-js)\n",
    "Node v10.24.1\n",
    "Web3.js v1.5.3\n",
    "[root@centos7 ~]#"
   ]
  },
  {
   "cell_type": "markdown",
   "id": "567d693f-36ab-443e-9940-2730e7cf29cb",
   "metadata": {},
   "source": [
    "## Phase 2. Test Lab"
   ]
  },
  {
   "cell_type": "markdown",
   "id": "39c23e4a-1352-40ed-ac9d-5b3fc4db3cfa",
   "metadata": {},
   "source": [
    "### 2.1. Data Set\n",
    "The first step of our experiment is to collect enough data. We use three data sets including **Smartbugs** , **SolidiFi-benchmark**, and **Smartbugs-wilds**."
   ]
  },
  {
   "cell_type": "raw",
   "id": "ebdccbfd-07ed-4bdb-892f-36564d4c712f",
   "metadata": {},
   "source": [
    "[root@localhost /]# cd tmp\n",
    "[root@localhost tmp]# mkdir smartcontract\n",
    "[root@localhost tmp]# cd smartcontract/\n",
    "[root@localhost smartcontract]# mkdir dataset sample tools\n",
    "[root@localhost smartcontract]# ls\n",
    "dataset  sample  tools\n",
    "[root@localhost smartcontract]# cd dataset/\n",
    "[root@localhost dataset]# git clone https://github.com/smartbugs/smartbugs.git\n",
    "[root@localhost dataset]# git clone https://github.com/DependableSystemsLab/SolidiFI-benchmark.git\n",
    "[root@localhost dataset]# git clone https://github.com/smartbugs/smartbugs-wild.git"
   ]
  },
  {
   "cell_type": "markdown",
   "id": "0b6cfbc0-1d6d-4c69-89a5-5b13b6d753c6",
   "metadata": {},
   "source": [
    "### 2.2. [Slither](https://github.com/crytic/slither), the Solidity source analyzer\n",
    "Slither is a **Solidity static analysis framework** written in **Python 3**. It runs a suite of vulnerability detectors, prints visual information about contract details, and provides an API to easily write custom analyses. Slither enables developers to find vulnerabilities, enhance their code comprehension, and quickly prototype custom analyses."
   ]
  },
  {
   "cell_type": "raw",
   "id": "e317a512-c0b4-4dab-9c07-743f733df1d5",
   "metadata": {},
   "source": [
    "[root@localhost smartcontract]# ls\n",
    "dataset  sample  tools\n",
    "[root@localhost smartcontract]# cd tools/\n",
    "[root@localhost tools]# git clone https://github.com/crytic/slither.git\n",
    "[root@localhost tools]# cd slither\n",
    "[root@localhost slither]# python3 setup.py install"
   ]
  },
  {
   "cell_type": "markdown",
   "id": "6bbb74a5-97bd-45fe-8079-cde9f442f5d0",
   "metadata": {},
   "source": [
    "## Phase 3. Collecting Data Set"
   ]
  },
  {
   "cell_type": "markdown",
   "id": "4c4e7795-6bab-430b-a139-3c350a282212",
   "metadata": {},
   "source": [
    "## 3.1. [Smartbugs](https://github.com/smartbugs/smartbugs)\n",
    "* Smartbugs is a dataset consisting of **labeled smart contracts** according to their vulnerabilities. \n",
    "* Smart contracts in Smartbugs have the **most basic vulnerability**. So they are made to create **basic malicious smart contract** data sets.\n",
    "* The number of **.sol** files in each related folder is shown below."
   ]
  },
  {
   "cell_type": "code",
   "execution_count": 3,
   "id": "8eb94147-6d1d-4816-af69-de9d69295c86",
   "metadata": {},
   "outputs": [
    {
     "name": "stdout",
     "output_type": "stream",
     "text": [
      "Vulnerability category | The number of smart contracts\n",
      "...............................\n",
      "access_control  |  18\n",
      "...............................\n",
      "arithmetic  |  15\n",
      "...............................\n",
      "bad_randomness  |  8\n",
      "...............................\n",
      "denial_of_service  |  6\n",
      "...............................\n",
      "front_running  |  4\n",
      "...............................\n",
      "reentrancy  |  31\n",
      "...............................\n",
      "short_addresses  |  1\n",
      "...............................\n",
      "unchecked_low_level_calls  |  52\n",
      "...............................\n"
     ]
    }
   ],
   "source": [
    "import numpy as np\n",
    "import glob\n",
    "\n",
    "vul_cat=np.array(['access_control','arithmetic','bad_randomness',\n",
    "                  'denial_of_service','front_running',\n",
    "                  'reentrancy','short_addresses','unchecked_low_level_calls'])\n",
    "\n",
    "print('Vulnerability category | The number of smart contracts')\n",
    "print('...............................')\n",
    "for i in range (0, 8):\n",
    "    myPath = '../smartbugs/dataset/'+vul_cat[i]\n",
    "    solCounter = len(glob.glob1(myPath,\"*.sol\"))\n",
    "    print(vul_cat[i] , ' | ' ,  solCounter)\n",
    "    print('...............................')\n",
    "    "
   ]
  },
  {
   "cell_type": "markdown",
   "id": "b3332988-6269-4836-9cee-8a7296d351d2",
   "metadata": {},
   "source": [
    "## 3.2. [SolidiFi Benchmark](https://github.com/DependableSystemsLab/SolidiFI-benchmark)\n",
    "* SolidiFI-benchmark repository contains a dataset of buggy contracts injected by **9369 bugs** from **7 different bug types**, namely,\n",
    "    * reentrancy\n",
    "    * timestamp dependency\n",
    "    * uhnadeled exceptions\n",
    "    * unchecked send\n",
    "    * TOD\n",
    "    * integer overflow/underflow\n",
    "    * use of tx.origin   \n",
    "* The bugs have been injected in the contracts using [SolidiFI](https://github.com/DependableSystemsLab/SolidiFI).\n",
    "* In addition to the dataset of the vulnerable contracts, the repository contains the injection logs that can be used to refrence the injection locations, **where** the bugs have been injected in the code, and the **type** of each bug.\n",
    "\n",
    "* This dataset has been used to evaluate six smart contract static analysis tools namely, \n",
    "    * Oyente, \n",
    "    * Securify, \n",
    "    * Mythril, \n",
    "    * Smartcheck, \n",
    "    * Manticore, \n",
    "    * Slither."
   ]
  },
  {
   "cell_type": "code",
   "execution_count": 106,
   "id": "94f4b922-7176-4bff-b15d-89e184fff456",
   "metadata": {},
   "outputs": [
    {
     "name": "stdout",
     "output_type": "stream",
     "text": [
      "Vulnerability category | The number of Vulnerability\n",
      "...............................\n",
      "Overflow-Underflow  |  40\n",
      "...............................\n",
      "Re-entrancy  |  42\n",
      "...............................\n",
      "Timestamp-Dependency  |  40\n",
      "...............................\n",
      "TOD  |  40\n",
      "...............................\n",
      "tx-origin  |  40\n",
      "...............................\n",
      "Unchecked-Send  |  32\n",
      "...............................\n",
      "Unhandled-Exceptions  |  48\n",
      "...............................\n"
     ]
    }
   ],
   "source": [
    "import glob\n",
    "\n",
    "vul_cat=np.array(['Overflow-Underflow','Re-entrancy','Timestamp-Dependency',\n",
    "                  'TOD','tx-origin',\n",
    "                  'Unchecked-Send','Unhandled-Exceptions'])\n",
    "\n",
    "print('Vulnerability category | The number of Vulnerability')\n",
    "print('...............................')\n",
    "for i in range (0, 7):\n",
    "    #Sample file path = '../Documents/SolidiFI/bugs/Overflow-Underflow/tf/1.txt    \n",
    "    myPath = '../Documents/SolidiFI/bugs/'+vul_cat[i]+'/tf/'\n",
    "    txtCounter = len(glob.glob1(myPath,\"*.txt\"))\n",
    "    print(vul_cat[i] , ' | ' ,  txtCounter)\n",
    "    print('...............................')"
   ]
  },
  {
   "cell_type": "code",
   "execution_count": null,
   "id": "fd75099a-763c-4ac1-8f34-22cf3b78a12d",
   "metadata": {},
   "outputs": [],
   "source": []
  },
  {
   "cell_type": "code",
   "execution_count": null,
   "id": "ab114faf-53db-4f2b-b426-fe6fbd908e1c",
   "metadata": {},
   "outputs": [],
   "source": []
  }
 ],
 "metadata": {
  "kernelspec": {
   "display_name": "Python 3 (ipykernel)",
   "language": "python",
   "name": "python3"
  },
  "language_info": {
   "codemirror_mode": {
    "name": "ipython",
    "version": 3
   },
   "file_extension": ".py",
   "mimetype": "text/x-python",
   "name": "python",
   "nbconvert_exporter": "python",
   "pygments_lexer": "ipython3",
   "version": "3.8.6"
  }
 },
 "nbformat": 4,
 "nbformat_minor": 5
}
