{
 "cells": [
  {
   "cell_type": "markdown",
   "id": "b53067dd-b79a-4466-b7ac-ce29cd4b80d8",
   "metadata": {},
   "source": [
    "## Shuffle Playing Cards\n",
    "\n",
    "![alt text](https://yaser-rahmati.gitbook.io/~/files/v0/b/gitbook-x-prod.appspot.com/o/spaces%2F-M2g31CUvdCruJm660Ot%2Fuploads%2FftCqAIS15QUR0d3mg1Ai%2F952.jpg?alt=media&token=30b44866-6594-4513-9f39-70e4b1b27867 \"Playing Card\")\n",
    "\n",
    "Suppose that we want to compose programs that **process playing cards**. We might start with the following code:"
   ]
  },
  {
   "cell_type": "code",
   "execution_count": 1,
   "id": "34fdc543-c5b8-47b0-ac5a-204b730fa566",
   "metadata": {},
   "outputs": [],
   "source": [
    "SUITS = ['Clubs', 'Diamonds', 'Hearts', 'Spades']\n",
    "RANKS = ['2', '3', '4', '5', '6', '7', '8', '9', '10', 'Jack', 'Queen', 'King', 'Ace']"
   ]
  },
  {
   "cell_type": "markdown",
   "id": "7369a369-23f5-437c-b628-a3c66d3c7405",
   "metadata": {},
   "source": [
    " For example, we might use these two arrays to **write a random card name**, such as Queen of Clubs, as follows:"
   ]
  },
  {
   "cell_type": "code",
   "execution_count": 2,
   "id": "22281878-a879-4c76-ae2c-f9643a21462e",
   "metadata": {},
   "outputs": [
    {
     "name": "stdout",
     "output_type": "stream",
     "text": [
      "6 of Hearts\n"
     ]
    }
   ],
   "source": [
    "import random\n",
    "\n",
    "SUITS = ['Clubs', 'Diamonds', 'Hearts', 'Spades']\n",
    "RANKS = ['2', '3', '4', '5', '6', '7', '8', '9', '10','Jack', 'Queen', 'King', 'Ace']\n",
    "\n",
    "rank = random.choice(RANKS)\n",
    "suit = random.choice(SUITS)\n",
    "\n",
    "print(rank + ' of ' + suit)"
   ]
  },
  {
   "cell_type": "markdown",
   "id": "3874e781-2116-40aa-8893-4071fdff45eb",
   "metadata": {},
   "source": [
    "A more typical situation is when we compute the values to be stored in an array. For example, we might use the following code to initialize an **array of length 52** that represents a **deck of playing cards**, using the two arrays just defined:"
   ]
  },
  {
   "cell_type": "code",
   "execution_count": 14,
   "id": "546fdeab-a8f3-447c-983a-64a10e00c271",
   "metadata": {},
   "outputs": [
    {
     "name": "stdout",
     "output_type": "stream",
     "text": [
      "Number of cards :  52\n"
     ]
    },
    {
     "data": {
      "text/plain": [
       "['2 of Clubs',\n",
       " '2 of Diamonds',\n",
       " '2 of Hearts',\n",
       " '2 of Spades',\n",
       " '3 of Clubs',\n",
       " '3 of Diamonds',\n",
       " '3 of Hearts',\n",
       " '3 of Spades',\n",
       " '4 of Clubs',\n",
       " '4 of Diamonds',\n",
       " '4 of Hearts',\n",
       " '4 of Spades',\n",
       " '5 of Clubs',\n",
       " '5 of Diamonds',\n",
       " '5 of Hearts',\n",
       " '5 of Spades',\n",
       " '6 of Clubs',\n",
       " '6 of Diamonds',\n",
       " '6 of Hearts',\n",
       " '6 of Spades',\n",
       " '7 of Clubs',\n",
       " '7 of Diamonds',\n",
       " '7 of Hearts',\n",
       " '7 of Spades',\n",
       " '8 of Clubs',\n",
       " '8 of Diamonds',\n",
       " '8 of Hearts',\n",
       " '8 of Spades',\n",
       " '9 of Clubs',\n",
       " '9 of Diamonds',\n",
       " '9 of Hearts',\n",
       " '9 of Spades',\n",
       " '10 of Clubs',\n",
       " '10 of Diamonds',\n",
       " '10 of Hearts',\n",
       " '10 of Spades',\n",
       " 'Jack of Clubs',\n",
       " 'Jack of Diamonds',\n",
       " 'Jack of Hearts',\n",
       " 'Jack of Spades',\n",
       " 'Queen of Clubs',\n",
       " 'Queen of Diamonds',\n",
       " 'Queen of Hearts',\n",
       " 'Queen of Spades',\n",
       " 'King of Clubs',\n",
       " 'King of Diamonds',\n",
       " 'King of Hearts',\n",
       " 'King of Spades',\n",
       " 'Ace of Clubs',\n",
       " 'Ace of Diamonds',\n",
       " 'Ace of Hearts',\n",
       " 'Ace of Spades']"
      ]
     },
     "execution_count": 14,
     "metadata": {},
     "output_type": "execute_result"
    }
   ],
   "source": [
    "import random\n",
    "\n",
    "SUITS = ['Clubs', 'Diamonds', 'Hearts', 'Spades']\n",
    "RANKS = ['2', '3', '4', '5', '6', '7', '8', '9', '10','Jack', 'Queen', 'King', 'Ace']\n",
    "\n",
    "deck = []\n",
    "for rank in RANKS:\n",
    "    for suit in SUITS:\n",
    "        card = rank + ' of ' + suit\n",
    "        deck += [card]\n",
    "        \n",
    "print('Number of cards : ' , len(deck))\n",
    "deck"
   ]
  },
  {
   "cell_type": "markdown",
   "id": "4788a420-d32c-4e15-bd82-0352fff7d950",
   "metadata": {},
   "source": [
    "Frequently, we wish to **exchange two elements in an array**. Continuing our example with playing cards, the following code exchanges the cards at indices **i** and **j**:"
   ]
  },
  {
   "cell_type": "code",
   "execution_count": 7,
   "id": "8b974d3d-d29f-46e5-8b96-c9f2fdc1e434",
   "metadata": {},
   "outputs": [
    {
     "name": "stdout",
     "output_type": "stream",
     "text": [
      "10 of Hearts\n",
      "3 of Spades\n",
      "3 of Spades\n",
      "10 of Hearts\n"
     ]
    }
   ],
   "source": [
    "print(deck[7])\n",
    "print(deck[34])\n",
    "deck[7] , deck[34] = deck[34] , deck[7]\n",
    "print(deck[7])\n",
    "print(deck[34])"
   ]
  },
  {
   "cell_type": "markdown",
   "id": "55365eae-47a4-4f83-9bda-47e6602cd9fe",
   "metadata": {},
   "source": [
    "The following code **shuffles our deck of cards**:"
   ]
  },
  {
   "cell_type": "code",
   "execution_count": 17,
   "id": "0ed8a6c2-b570-4da5-bf35-a4b9082b37a2",
   "metadata": {},
   "outputs": [
    {
     "name": "stdout",
     "output_type": "stream",
     "text": [
      "Number of cards :  52\n"
     ]
    },
    {
     "data": {
      "text/plain": [
       "['5 of Spades',\n",
       " '7 of Hearts',\n",
       " '8 of Clubs',\n",
       " '5 of Hearts',\n",
       " '6 of Spades',\n",
       " '5 of Clubs',\n",
       " '3 of Diamonds',\n",
       " '9 of Hearts',\n",
       " 'Ace of Clubs',\n",
       " 'Queen of Spades',\n",
       " 'Jack of Diamonds',\n",
       " '7 of Spades',\n",
       " '4 of Clubs',\n",
       " '4 of Diamonds',\n",
       " 'King of Clubs',\n",
       " '7 of Diamonds',\n",
       " '4 of Spades',\n",
       " '2 of Clubs',\n",
       " 'Jack of Spades',\n",
       " '3 of Hearts',\n",
       " '8 of Diamonds',\n",
       " 'Jack of Clubs',\n",
       " '10 of Clubs',\n",
       " 'Queen of Diamonds',\n",
       " 'King of Diamonds',\n",
       " 'Ace of Diamonds',\n",
       " '8 of Spades',\n",
       " '9 of Clubs',\n",
       " 'Ace of Hearts',\n",
       " '9 of Diamonds',\n",
       " '4 of Hearts',\n",
       " '2 of Spades',\n",
       " '2 of Hearts',\n",
       " '10 of Diamonds',\n",
       " '8 of Hearts',\n",
       " '3 of Clubs',\n",
       " '5 of Diamonds',\n",
       " '10 of Spades',\n",
       " 'Queen of Hearts',\n",
       " '6 of Hearts',\n",
       " 'Queen of Clubs',\n",
       " 'King of Spades',\n",
       " 'King of Hearts',\n",
       " '6 of Clubs',\n",
       " 'Jack of Hearts',\n",
       " '7 of Clubs',\n",
       " '9 of Spades',\n",
       " '3 of Spades',\n",
       " 'Ace of Spades',\n",
       " '2 of Diamonds',\n",
       " '10 of Hearts',\n",
       " '6 of Diamonds']"
      ]
     },
     "execution_count": 17,
     "metadata": {},
     "output_type": "execute_result"
    }
   ],
   "source": [
    "n = len(deck)\n",
    "for i in range(n):\n",
    "    r = random.randrange(i, n)\n",
    "    deck[r] , deck[i] = deck[i] , deck[r]\n",
    "\n",
    "print('Number of cards : ' , len(deck))\n",
    "deck"
   ]
  }
 ],
 "metadata": {
  "kernelspec": {
   "display_name": "Python 3 (ipykernel)",
   "language": "python",
   "name": "python3"
  },
  "language_info": {
   "codemirror_mode": {
    "name": "ipython",
    "version": 3
   },
   "file_extension": ".py",
   "mimetype": "text/x-python",
   "name": "python",
   "nbconvert_exporter": "python",
   "pygments_lexer": "ipython3",
   "version": "3.8.6"
  }
 },
 "nbformat": 4,
 "nbformat_minor": 5
}
