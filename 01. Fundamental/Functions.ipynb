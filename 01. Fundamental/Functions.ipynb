{
 "cells": [
  {
   "cell_type": "markdown",
   "id": "8bc5d688-2439-45b8-8579-5ffb990a91de",
   "metadata": {},
   "source": [
    "## Definition of a Function\n",
    "* A function is a block of code which only runs when it is **called**.\n",
    "* You can pass data, known as **parameters**, into a function.\n",
    "* A function can return data as a result.\n",
    "\n",
    "## Syntax\n",
    "In Python a function is defined using the **def** keyword:"
   ]
  },
  {
   "cell_type": "code",
   "execution_count": 3,
   "id": "9c2ec052-0275-4c52-9dd9-1af2d7118fe7",
   "metadata": {},
   "outputs": [],
   "source": [
    "def functionname( parameters ):\n",
    "   \"function_docstring\"\n",
    "   function_suite\n",
    "   return [expression]"
   ]
  },
  {
   "cell_type": "markdown",
   "id": "95d6f7db-5a35-4335-9332-d9cd9b93add9",
   "metadata": {},
   "source": [
    "## Calling a Function\n",
    "To call a function, use the **function name** followed by parenthesis:"
   ]
  },
  {
   "cell_type": "code",
   "execution_count": 4,
   "id": "07c98de9-1181-4e55-9126-fd224c6d00cb",
   "metadata": {},
   "outputs": [
    {
     "name": "stdout",
     "output_type": "stream",
     "text": [
      "Welcom to Rahmati Academy\n"
     ]
    }
   ],
   "source": [
    "def hello_from_academy():\n",
    "  print(\"Welcom to Rahmati Academy\")\n",
    "\n",
    "hello_from_academy()"
   ]
  },
  {
   "cell_type": "markdown",
   "id": "1a65e3d4-0240-4aed-8846-9bdc825af56f",
   "metadata": {},
   "source": [
    "## Arguments in Functions\n",
    "The argument is a value that is passed to the function when it's called.\n",
    "\n",
    "#### Step 1) \n",
    "Arguments are declared in the function definition. While calling the function, you can pass the values for that **args** as shown below:"
   ]
  },
  {
   "cell_type": "code",
   "execution_count": 7,
   "id": "339f2b69-6043-4ae0-9768-d8aa75ff2886",
   "metadata": {},
   "outputs": [
    {
     "name": "stdout",
     "output_type": "stream",
     "text": [
      "16\n"
     ]
    }
   ],
   "source": [
    "def multiply(x,y):   # declaring arguments\n",
    "    print(x*y)\n",
    "\n",
    "# passing arguments\n",
    "multiply(2,8)"
   ]
  },
  {
   "cell_type": "markdown",
   "id": "c2f705b0-58ed-4cb9-8bf8-29a73b6e20f0",
   "metadata": {},
   "source": [
    "#### Step 2) \n",
    "To declare a default value of an argument, assign it a value at function definition."
   ]
  },
  {
   "cell_type": "code",
   "execution_count": 6,
   "id": "1c46a3d8-2d6c-4d0b-9c62-c2ef20070b72",
   "metadata": {},
   "outputs": [
    {
     "name": "stdout",
     "output_type": "stream",
     "text": [
      "0\n"
     ]
    }
   ],
   "source": [
    "def multiply(x,y=0):   # default value of argument (y=0)\n",
    "    print(x*y)\n",
    "\n",
    "# int our case (4*0) gives the expected result 0\n",
    "multiply(4)"
   ]
  },
  {
   "cell_type": "markdown",
   "id": "05c44b64-e891-411c-8482-1841bb915fe6",
   "metadata": {},
   "source": [
    "#### Step 3) \n",
    "This time we will change the value to **y=2** instead of the default value **y=0**, and it will return the output as **(4x2)=8**."
   ]
  },
  {
   "cell_type": "code",
   "execution_count": 9,
   "id": "639a3d51-78c2-4e34-b493-dc620c20ad2c",
   "metadata": {},
   "outputs": [
    {
     "name": "stdout",
     "output_type": "stream",
     "text": [
      "8\n"
     ]
    }
   ],
   "source": [
    "def multiply(x,y=0):  \n",
    "    return(x*y)\n",
    "\n",
    "print(multiply(4,y=2))"
   ]
  },
  {
   "cell_type": "markdown",
   "id": "e5d384bd-001b-4a34-a9fa-13ff91d16e6e",
   "metadata": {},
   "source": [
    "#### Step 4) \n",
    "You can also **change the order** in which the arguments can be passed in Python. Here we have reversed the order of the value **x** and **y** to **x=4** and **y=2**."
   ]
  },
  {
   "cell_type": "code",
   "execution_count": 10,
   "id": "061d8c16-dc51-4efc-b2be-4b2b59ffff7f",
   "metadata": {},
   "outputs": [
    {
     "name": "stdout",
     "output_type": "stream",
     "text": [
      "value of x= 4\n",
      "value of y= 2\n",
      "8\n"
     ]
    }
   ],
   "source": [
    "def multiply(x,y=0):\n",
    "    print(\"value of x=\",x)\n",
    "    print(\"value of y=\",y)\n",
    "\n",
    "    return x*y\n",
    "\n",
    "# we have reversed the order of the value for x and y\n",
    "print(multiply(y=2,x=4))"
   ]
  },
  {
   "cell_type": "markdown",
   "id": "13f9de1b-7f08-49be-be10-6a0a3010c010",
   "metadata": {},
   "source": [
    "#### Step 5) \n",
    "Multiple Arguments can also be passed as an array. Here in the example we call the multiple args (1,2,3,4,5) by calling the (*args) function."
   ]
  },
  {
   "cell_type": "code",
   "execution_count": 11,
   "id": "b83251b0-1cb1-4faf-9b79-ddc49926ca11",
   "metadata": {},
   "outputs": [
    {
     "name": "stdout",
     "output_type": "stream",
     "text": [
      "(5, 10, 15, 20, 25)\n"
     ]
    }
   ],
   "source": [
    "# passing multiple arguments\n",
    "def my_func(*args):\n",
    "    print(args)\n",
    "\n",
    "# you can pass multiple arguments\n",
    "my_func(5,10,15,20,25)"
   ]
  },
  {
   "cell_type": "markdown",
   "id": "da33c108-fec8-4263-b684-2287bc224b69",
   "metadata": {},
   "source": [
    "## Number of Arguments\n",
    "By default, a function must be called with the correct number of arguments. Meaning that if your function expects 2 arguments, you have to call the function with 2 arguments, not more, and not less."
   ]
  },
  {
   "cell_type": "code",
   "execution_count": 14,
   "id": "a042c18f-2f75-4f46-a300-f58d5295e70f",
   "metadata": {},
   "outputs": [
    {
     "name": "stdout",
     "output_type": "stream",
     "text": [
      "Yaser Rahmati\n"
     ]
    }
   ],
   "source": [
    "def my_function(firstname, lastname):\n",
    "  print(firstname + \" \" + lastname)\n",
    "\n",
    "my_function(\"Yaser\", \"Rahmati\")"
   ]
  },
  {
   "cell_type": "markdown",
   "id": "4cf6244d-470c-4dc3-ad89-170fbb17a672",
   "metadata": {},
   "source": [
    "## Arbitrary Arguments\n",
    "If you do not know how many arguments that will be passed into your function, add a * before the parameter name in the function definition."
   ]
  },
  {
   "cell_type": "code",
   "execution_count": 16,
   "id": "b7a64fe9-7507-487a-b5ff-b62f3bb228c9",
   "metadata": {},
   "outputs": [
    {
     "name": "stdout",
     "output_type": "stream",
     "text": [
      "The lovely car is Porsche\n"
     ]
    }
   ],
   "source": [
    "def my_function(*cars):\n",
    "  print(\"The lovely car is \" + cars[3])\n",
    "\n",
    "my_function(\"BMW\", \"Ferrari\", \"Tesla\", \"Porsche\", \"Toyota\")"
   ]
  },
  {
   "cell_type": "markdown",
   "id": "0ae72bef-45b9-4028-81bd-12f654ddb662",
   "metadata": {},
   "source": [
    "## The return Statement\n",
    "To let a function return a value, use the **return** statement:"
   ]
  },
  {
   "cell_type": "code",
   "execution_count": 18,
   "id": "22f179b2-800b-4384-a8fe-af6269d8358d",
   "metadata": {},
   "outputs": [
    {
     "name": "stdout",
     "output_type": "stream",
     "text": [
      "Inside the function :  30\n",
      "Outside the function :  30\n"
     ]
    }
   ],
   "source": [
    "# Function definition is here\n",
    "def sum( arg1, arg2 ):\n",
    "   # Add both the parameters and return them.\"\n",
    "   total = arg1 + arg2\n",
    "   print(\"Inside the function : \", total)\n",
    "   return total;\n",
    "\n",
    "# Now you can call sum function\n",
    "total = sum( 10, 20 );\n",
    "print(\"Outside the function : \", total)"
   ]
  },
  {
   "cell_type": "markdown",
   "id": "b54e9f4d-5278-4469-93b9-235e3ff742a3",
   "metadata": {},
   "source": [
    "## Scope of Variables\n",
    "All variables in a program may not be accessible at all locations in that program. This depends on where you have declared a variable.\n",
    "The scope of a variable determines the portion of the program where you can access a particular identifier. There are two basic scopes of variables in Python :\n",
    "* Global variables\n",
    "* Local variables"
   ]
  },
  {
   "cell_type": "code",
   "execution_count": 19,
   "id": "7977befa-6fbd-4dba-9654-4b6a47854ff5",
   "metadata": {},
   "outputs": [
    {
     "name": "stdout",
     "output_type": "stream",
     "text": [
      "Inside the function local total :  30\n",
      "Outside the function global total :  0\n"
     ]
    }
   ],
   "source": [
    "total = 0; # This is global variable.\n",
    "# Function definition is here\n",
    "def sum( arg1, arg2 ):\n",
    "   # Add both the parameters and return them.\"\n",
    "   total = arg1 + arg2; # Here total is local variable.\n",
    "   print (\"Inside the function local total : \", total)\n",
    "   return total;\n",
    "\n",
    "# Now you can call sum function\n",
    "sum( 10, 20 );\n",
    "print (\"Outside the function global total : \", total)"
   ]
  }
 ],
 "metadata": {
  "kernelspec": {
   "display_name": "Python 3 (ipykernel)",
   "language": "python",
   "name": "python3"
  },
  "language_info": {
   "codemirror_mode": {
    "name": "ipython",
    "version": 3
   },
   "file_extension": ".py",
   "mimetype": "text/x-python",
   "name": "python",
   "nbconvert_exporter": "python",
   "pygments_lexer": "ipython3",
   "version": "3.8.6"
  }
 },
 "nbformat": 4,
 "nbformat_minor": 5
}
